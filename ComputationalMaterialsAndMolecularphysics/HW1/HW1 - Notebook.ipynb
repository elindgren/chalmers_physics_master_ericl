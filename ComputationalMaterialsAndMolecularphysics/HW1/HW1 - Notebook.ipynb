{
 "cells": [
  {
   "cell_type": "code",
   "execution_count": 1,
   "metadata": {},
   "outputs": [],
   "source": [
    "# Imports\n",
    "import numpy as np\n",
    "import matplotlib.pyplot as plt\n",
    "import scipy.linalg as lin\n",
    "from tqdm import tqdm_notebook\n",
    "\n",
    "plt.rc('font', size=18)          # controls default text sizes\n",
    "plt.rc('axes', titlesize=18)     # fontsize of the axes title\n",
    "plt.rc('axes', labelsize=18)    # fontsize of the x and y labels\n",
    "plt.rc('xtick', labelsize=18)    # fontsize of the tick labels\n",
    "plt.rc('ytick', labelsize=18)    # fontsize of the tick labels\n",
    "plt.rc('legend', fontsize=18)    # legend fontsize"
   ]
  },
  {
   "cell_type": "markdown",
   "metadata": {},
   "source": [
    "## Problem 1: Hartree-Fock for Helium"
   ]
  },
  {
   "cell_type": "markdown",
   "metadata": {},
   "source": [
    " We want to solve the problem in section 4.3.2. in Thijssen. I.e., we want to solve the following problem:\n",
    "\n",
    "$$ \\sum_{pq} \\left(h_{pq} + \\sum_{rs}C_rC_sQ{prqs}\\right)C_q = E' \\sum_{pq}S_{pq}C_q $$\n",
    "\n",
    "or written on matrix form:\n",
    "\n",
    "$$ \\mathbf{F} \\mathbf{C} = E' \\mathbf{S}\\mathbf{C}$$\n",
    "\n",
    "where \n",
    "\n",
    "$$ F_{pq} = h_{pq} + \\sum_{rs}Q_{prqs}C_r C_s $$\n",
    "$$ h_{pq} = \\left<\\chi_p \\left| -\\frac{1}{2}\\nabla^2 - \\frac{2}{r} \\right| \\chi_q \\right>$$\n",
    "$$ S_{pq} = \\left< \\chi_p|\\chi_q \\right> $$\n",
    "$$ Q_{prqs} = \\frac{2 \\pi^{5/2}}{(\\alpha_p+\\alpha_q)(\\alpha_r+\\alpha_s)\\sqrt{\\alpha_p + \\alpha_q + \\alpha_r + \\alpha_s}}$$\n",
    "and \n",
    "$$ \\phi(r) = \\sum_{p=1}^4 C_p \\chi_p(r)$$\n",
    "$$ \\chi_p(r) = e^{- \\alpha_p r^2}$$.\n",
    "\n",
    "We will use:\n",
    "\n",
    "$$ \\alpha_1 = 0.297104 \\\\ \\alpha_2=1.236745 \\\\ \\alpha_3 = 5.749982 \\\\ \\alpha_4 = 38.216677 $$\n",
    "from the problem description.\n",
    "\n",
    "Our procedure will be as follows:\n",
    "\n",
    "1. Construct the matrices $h_{pq}$, $S_{pq}$ and the 4x4x4 tensor $Q_{prqs}$.\n",
    "2. Guess initial values for $C_p$. \n",
    "3. Construct the F-matrix $F_{pq}$. Choose the initial values $C_p$ so that it is normalized to unit with regards to the overlap matrix before being inserted in $F$: \n",
    "$$\\sum_{p,q=1}^4 C_p S_{pq} C_q = 1 = \\mathbf{C} \\cdot \\mathbf{SC^T} $$\n",
    "Thus, if a guess $\\mathbf{C'}$ needs rescaling by some factor $k$ to find $\\mathbf{C}$ it can be calculated as:\n",
    "\n",
    "$$ 1 = \\mathbf{C} \\cdot \\mathbf{SC^T} = 1 = k\\mathbf{C'} \\cdot \\mathbf{S} k \\mathbf{C'} \\rightarrow k = \\sqrt{1/(\\mathbf{C'} \\cdot \\mathbf{S}\\mathbf{C'^T})} $$\n",
    "4. Solve the generalized eigenvalue problem $\\mathbf{F} \\mathbf{C} = E' \\mathbf{S}\\mathbf{C}$. Obtain a new vector $\\mathbf{C}$.\n",
    "5. Calculate the ground state energy as \n",
    "\n",
    "$$ E_G = 2 \\sum_{pq} C_p C_q h_pq + \\sum_{pqrs} Q_{pqrs} C_p C_q C_r C_s $$\n",
    "\n",
    "6. Redo steps 3-5 iteratively until $E_G$ converges.\n",
    "\n",
    "When constructing the matrices, we note that the wavefunction $\\phi(r)$ is formulated as to exhibit spherical symmetry. We thus use a spherical coordinate system, in which the inner-product $\\left< \\chi_p|\\chi_q \\right>$ is given as\n",
    "\n",
    "$$ \\left< \\chi_p|\\chi_q \\right> = 4\\pi \\int_0^{\\infty} r^2 \\chi_p \\chi_q dr $$\n",
    "since the $\\chi_p$:s are real functions.\n",
    "\n",
    "\n",
    "The Laplace operator $\\nabla^2$ acting on $\\chi_p$ is then taking the form\n",
    "\n",
    "$$ \\nabla^2 \\chi_q = \\frac{1}{r^2}\\frac{\\partial}{\\partial r}\\left(r^2 \\frac{\\partial}{\\partial r} e^{- \\alpha_q r^2} \\right) = \\frac{1}{r^2}\\frac{\\partial}{\\partial r} \\left( -2\\alpha_q r^3 e^{- \\alpha_q r^2} \\right) = (-6 \\alpha_q + 4 \\alpha_q^2 r^2 ) \\chi_q$$\n",
    "\n",
    "We calculate $h_{sq}$ and $S_{sq}$ analyitcally, which means solving the following integrals:\n",
    "\n",
    "$$ h_{pq} = 4\\pi \\int_0^{\\infty} r^2 \\left[-\\frac{1}{2}(-6 \\alpha_q + 4 \\alpha_q^2 r^2 ) - \\frac{2}{r} \\right] e^{-(\\alpha_p + \\alpha_q)r^2} dr $$\n",
    "$$ S_{pq} = 4\\pi \\int_0^{\\infty} r^2 e^{-(\\alpha_p + \\alpha_q)r^2} dr $$"
   ]
  },
  {
   "cell_type": "code",
   "execution_count": 2,
   "metadata": {},
   "outputs": [],
   "source": [
    "def chi_p(alpha_p, r):\n",
    "    '''Constructs chi_p given alpha_p and r'''\n",
    "    return np.exp(-alpha_p*r**2)\n",
    "\n",
    "def build_h(alpha, chi_vec, r):\n",
    "    '''Builds the h-matrix h_pq'''\n",
    "    l = len(alpha)\n",
    "    h = np.zeros((l,l))\n",
    "    for p in range(l):\n",
    "        for q in range(l):\n",
    "            h[p,q] = 4*np.pi * np.trapz( r**2 * chi_vec[p] * ( -0.5*( -6*alpha[q] + 4*alpha[q]**2 * r**2 ) - 2/r) * chi_vec[q], r)\n",
    "    return h\n",
    "\n",
    "def build_S(alpha, chi_vec, r):\n",
    "    '''Builds the S_pq matrix'''\n",
    "    l = len(alpha)\n",
    "    S = np.zeros((l,l))\n",
    "    for p in range(l):\n",
    "        for q in range(l):\n",
    "            S[p,q] = 4*np.pi * np.trapz( r**2 * chi_vec[p]*chi_vec[q], r )\n",
    "    return S\n",
    "\n",
    "def build_Q(alpha):\n",
    "    '''Builds the Q_prqs 4x4x4x4 tensor'''\n",
    "    l = len(alpha)\n",
    "    Q = np.zeros((l,l,l,l))\n",
    "    for p in range(l):\n",
    "        for r in range(l):\n",
    "            for q in range(l):\n",
    "                for s in range(l):\n",
    "                    Q[p,r,q,s] = 2*np.pi**(5/2) / ( (alpha[p]+alpha[q])*(alpha[r]+alpha[s])*np.sqrt(alpha[p]+alpha[q]+alpha[r]+alpha[s]) )\n",
    "    return Q\n",
    "\n",
    "def build_F(l, C, Q, h):\n",
    "    '''Build the 4x4 F-matrix'''\n",
    "    partial_sum_Q = 0\n",
    "    for r in range(l):\n",
    "        for s in range(l):\n",
    "            partial_sum_Q += Q[:,r,:,s]*C[r]*C[s]\n",
    "    F = h + partial_sum_Q\n",
    "    return F\n",
    "\n",
    "def get_EG(l, C, Q, h):\n",
    "    '''Calculate the ground state energy'''\n",
    "    EG = 0\n",
    "    \n",
    "    # First term\n",
    "    for p in range(l):\n",
    "        for q in range(l):\n",
    "            EG += C[p]*C[q]*h[p,q]\n",
    "    EG *= 2\n",
    "    \n",
    "    # Second term\n",
    "    for p in range(l):\n",
    "        for q in range(l):\n",
    "            for r in range(l):\n",
    "                for s in range(l):\n",
    "                    EG += Q[p,r,q,s]*C[p]*C[q]*C[r]*C[s]\n",
    "    return EG    "
   ]
  },
  {
   "cell_type": "code",
   "execution_count": 10,
   "metadata": {},
   "outputs": [
    {
     "name": "stdout",
     "output_type": "stream",
     "text": [
      "Lattice spacing: h=0.0100 a.u.\n",
      "Is C normalized from the eigenvalue problem? False.\n",
      "C thus needs to be normalized at the beginning of every step in the self-consistent loop.\n",
      "\n",
      "Estimate for ground state energy using HF: EG ~= -2.8545 a.u.\n",
      "Final eigenvalue: Eprim ~= -0.9141+0.0000j a.u.\n"
     ]
    },
    {
     "data": {
      "image/png": "[encoded data removed]",
      "text/plain": [
       "<Figure size 576x432 with 1 Axes>"
      ]
     },
     "metadata": {
      "needs_background": "light"
     },
     "output_type": "display_data"
    },
    {
     "data": {
      "image/png": "[encoded data removed]",
      "text/plain": [
       "<Figure size 576x432 with 1 Axes>"
      ]
     },
     "metadata": {
      "needs_background": "light"
     },
     "output_type": "display_data"
    }
   ],
   "source": [
    "tol = (1/27.72)*1e-5  # 1e-5 eV -- 1 a.u. of energy = 27.72 eV => 1 eV = 1/27.72 a.u.\n",
    "EGs = []  # Vector to store ground-state energies in\n",
    "alphas = [0.297104, 1.236745, 5.749982, 38.216677]\n",
    "l = len(alphas)\n",
    "r = np.linspace(1e-10,20,2000)\n",
    "print(f'Lattice spacing: h={r[1]-r[0]:.4f} a.u.')\n",
    "\n",
    "chi_vec = np.zeros((l, len(r)))\n",
    "for p in range(l):\n",
    "    chi_vec[p,:] = chi_p(alphas[p], r)\n",
    "\n",
    "# 1. Construct matrices\n",
    "h = build_h(alphas, chi_vec, r)\n",
    "S = build_S(alphas, chi_vec, r)\n",
    "Q = build_Q(alphas)\n",
    "\n",
    "# 2. Make an initial guess for C, and normalize it\n",
    "C_ini = np.ones(l)  # Initial guess for C_p\n",
    "k = 1/np.sqrt( C_ini.dot(np.matmul(S, C_ini.T)) )\n",
    "C_ini *= k\n",
    "assert np.abs( C_ini.dot(np.matmul(S, C_ini.T)) - 1 ) < tol # Check properly normalized\n",
    "\n",
    "# 3. Construct the F-matrix\n",
    "F = build_F(l, C_ini, Q, h)\n",
    "eig_F, _ = lin.eig(F)\n",
    "eig_S, _ = lin.eig(S)\n",
    "# print(eig_F)\n",
    "# print(eig_S)\n",
    "# print()\n",
    "    \n",
    "# 4. Solve the generalized eigenvalue equation - once to get a base energy\n",
    "ws, vecs = lin.eig( a=F, b=S )\n",
    "g_idx = ws.argmin()  # Ground-state corresponds to lowest eigenvalue\n",
    "w_g = ws[g_idx]\n",
    "C = vecs[g_idx]\n",
    "print(f'Is C normalized from the eigenvalue problem? {np.abs( C.dot(np.matmul(S, C.T)) - 1 ) < 1e-5}.')\n",
    "print('C thus needs to be normalized at the beginning of every step in the self-consistent loop.')\n",
    "print()\n",
    "\n",
    "# 5. Get energy\n",
    "EG = get_EG(l, C, Q, h)\n",
    "EGs.append(EG)\n",
    "\n",
    "# 6. Self-consistency loop\n",
    "previous_EG = -999 # Initialize this for loop\n",
    "\n",
    "while np.abs(EG-previous_EG) > tol:\n",
    "    # Save EG as previous EG\n",
    "    previous_EG = EG\n",
    "\n",
    "    # 3. Construct the F-matrix\n",
    "    F = build_F(l, C, Q, h)\n",
    "\n",
    "    # 4. Solve the generalized eigenvalue equation - once to get a base energy\n",
    "    # Use eigh since F and S are symmetric\n",
    "    ws, vecs = lin.eig( a=F, b=S, right=True )\n",
    "    g_idx = ws.argmin()  # Ground-state corresponds to lowest eigenvalue\n",
    "    w_g = ws[g_idx]\n",
    "    C = vecs[:,g_idx]\n",
    "\n",
    "    # 5. Get energy\n",
    "    # Normalize C first\n",
    "    k = 1/np.sqrt( C.dot(np.matmul(S, C.T)) )\n",
    "    C *= k\n",
    "    assert np.abs( C.dot(np.matmul(S, C.T)) - 1 ) < tol # Check properly normalized\n",
    "    \n",
    "    EG = get_EG(l, C, Q, h)\n",
    "    EGs.append(EG)\n",
    "\n",
    "print(f'Estimate for ground state energy using HF: EG ~= {EGs[-1]:.4f} a.u.')\n",
    "print(f'Final eigenvalue: Eprim ~= {w_g:.4f} a.u.')\n",
    "# Plot convergence\n",
    "fig, ax = plt.subplots(figsize=(8,6))\n",
    "ax.plot(EGs, color='k', linestyle='--', linewidth=2)\n",
    "ax.set_xlabel(\"Iteration\")\n",
    "ax.set_ylabel(r'$E_G$, a.u.')\n",
    "ax.grid()\n",
    "\n",
    "# Plot wavefunction\n",
    "phi0 = np.zeros(len(r))\n",
    "for p in range(l):\n",
    "    phi0 += C[p]*np.exp(-alphas[p]*r**2)\n",
    "assert np.abs( 4*np.pi * np.trapz(r**2 * phi0**2, r) - 1 ) < tol # Check properly normalized\n",
    "\n",
    "fig, ax = plt.subplots(figsize=(8,6))\n",
    "ax.plot(r, np.abs(phi0), color='C1', linestyle='--', linewidth=2)\n",
    "ax.set_xlabel(r'$r$, a.u. (Bohr radius)')\n",
    "ax.set_ylabel(r'$\\phi_0$')\n",
    "ax.grid()"
   ]
  },
  {
   "cell_type": "markdown",
   "metadata": {},
   "source": [
    "The obtained value for th ground state energy of helium using the Hartree-Fock method is thus $E_G = -2.8545$ a.u. of energy, with the corresponding ground state eigenvalue being $E'=-0.9141$. We also note that the ground state wavefunction $\\phi_0$ is properly $L^2$-normalized."
   ]
  },
  {
   "cell_type": "markdown",
   "metadata": {},
   "source": [
    "## Problem 2: The Poisson Equation"
   ]
  },
  {
   "cell_type": "markdown",
   "metadata": {},
   "source": [
    "The Hartree potential is generated by the charge distribution: \n",
    "\n",
    "$$ V_H(r) = \\int dr' \\frac{n(r')}{|r-r'|} \\rightarrow \\nabla^2 V_H(r) = -4\\pi n(r)$$\n",
    "\n",
    "The ground state density of the helium atom is $n(r) = 2n_s(r) = 2 |\\varphi(r)|^2$ where $n_s$ is the density for one orbital (one electron). Introducing the electro-static potential $\\nabla^2 V_{sH}(r) = -4\\pi n_s(r)$ and using $U(r) = r V_{sH}(r)$ as well as $u(r) = \\sqrt{4 \\pi n_s(r)} = \\sqrt{4\\pi} r \\varphi(r)$ we can write the Poisson equation on the form\n",
    "\n",
    "$$ \\frac{d^2}{dr^2}U(r) = -\\frac{u^2(r)}{r}, \\hspace{10px} U(0) = 0, U(r_{max}) = 1 $$.\n",
    "\n",
    "Finally, using $U_0(r) = U(r) - r/r_{max}$ we obtain \n",
    "\n",
    "$$ \\frac{d^2}{dr^2}U_0(r) = -\\frac{u^2(r)}{r}, \\hspace{10px} U_0(0) = 0, U_0(r_{max}) = 0 $$."
   ]
  },
  {
   "cell_type": "markdown",
   "metadata": {},
   "source": [
    "We wish to solve this for $U(r)$. Rewriting using the finite difference method, we obtain the following system off equations (written on diagonal form utilizing the boundary conditions on $U_0$) (on N points $i\\in(1,N)):\n",
    "\n",
    "$$ A' U_0' = B$$\n",
    "with\n",
    "\n",
    "\\begin{equation}\n",
    "    A' = \n",
    "    \\begin{bmatrix}\n",
    "        -2 & 1 & 0 & 0 & 0 \\\\\n",
    "         1 & -2 & 1 & 0 & 0 \\\\\n",
    "         0 & 1 & -2 & 1 & 0 \\\\\n",
    "        ... \\\\\n",
    "    \\end{bmatrix}\n",
    "\\end{equation},\n",
    "\n",
    "\\begin{equation}\n",
    "    B = \n",
    "    \\begin{bmatrix}\n",
    "        b(r_1) = - 4 \\pi h^2 |\\varphi(r_1)|^2 r_1 - 0\\\\\n",
    "        b(r_2) \\\\\n",
    "        b(r_3) \\\\\n",
    "        ... \\\\\n",
    "    \\end{bmatrix}\n",
    "\\end{equation}\n",
    "\n",
    "We use Hartree units, such that $m_e = 1, e = 1, \\hbar=1, 4\\pi\\epsilon_0 = 1, a_0=1$."
   ]
  },
  {
   "cell_type": "code",
   "execution_count": 4,
   "metadata": {},
   "outputs": [
    {
     "data": {
      "text/plain": [
       "Text(0, 0.5, '$V(r)$')"
      ]
     },
     "execution_count": 4,
     "metadata": {},
     "output_type": "execute_result"
    },
    {
     "data": {
      "image/png": "[encoded data removed]",
      "text/plain": [
       "<Figure size 576x432 with 1 Axes>"
      ]
     },
     "metadata": {
      "needs_background": "light"
     },
     "output_type": "display_data"
    }
   ],
   "source": [
    "def hydrogen_ground_state(r):\n",
    "    return 1/np.sqrt(np.pi) * np.exp(-r)\n",
    "\n",
    "def hart_pot(r):\n",
    "    return 1/r - (1+1/r)*np.exp(-2*r)\n",
    "\n",
    "N = 100 # Number of  points\n",
    "h = 0.1\n",
    "r = np.array([(i+1)*h for i in range(N)]) # N points between endpoints\n",
    "phi_dens = hydrogen_ground_state(r)**2\n",
    "B = -np.array([4*np.pi*h**2*phi_dens[i]*r[i] for i in range(N)])\n",
    "A_p = np.zeros((N,N)) + np.diagflat(-2*np.ones(N), k=0) + np.diagflat(np.ones(N-1), k=1) + np.diagflat(np.ones(N-1), k=-1)\n",
    "\n",
    "U0_p = np.linalg.solve(A_p, B) # Solve the system of equations for U_0\n",
    "# TODO pad with zeros to get boundary?\n",
    "rmax = r[-1] + h  # The endpoint distance\n",
    "U = U0_p + r/rmax # Extract U\n",
    "Vsh = U/r # Extract the static potential\n",
    "\n",
    "# PLot\n",
    "fig, ax = plt.subplots(figsize=(8,6))\n",
    "ax.plot(r, Vsh, color='k', linestyle='--', linewidth=3, label=r'$V_{sH}(r)$')\n",
    "ax.plot(r, hart_pot(r), color='C2', linestyle='-', linewidth=2, label='Hartree potential')\n",
    "ax.legend(loc='best')\n",
    "ax.grid()\n",
    "ax.set_xlabel(r'$r$ $(a_0)$')\n",
    "ax.set_ylabel(r'$V(r)$')"
   ]
  },
  {
   "cell_type": "markdown",
   "metadata": {},
   "source": [
    "As we can see in the figure, the obtained electro-static potential $V_{sH}$ for a single electron matches the Hartree potential as expected."
   ]
  },
  {
   "cell_type": "markdown",
   "metadata": {},
   "source": [
    "## Problem 3: Kohn-Sham equation"
   ]
  },
  {
   "cell_type": "markdown",
   "metadata": {},
   "source": [
    "The Kohn-Sham equation equation takes the form:\n",
    "\n",
    "$$ \\left[ -\\frac{1}{2}\\frac{d^2}{dr^2} -\\frac{2}{r} + V_H(r) + V_x(r) + V_c(r) \\right]u(r) = \\epsilon u(r) $$\n",
    "\n",
    "with boundary conditions $u(0) = u(r_{max}) = 0$. Rewriting this with the finite difference method, we obtain: \n",
    "\n",
    "$$ -\\frac{1}{2h^2}\\left[u(r_{i+1})+u(r_{i-1})\\right] + \\left[\\frac{1}{h^2} -\\frac{2}{r_i} + V_H(r_i) + V_x(r_i) + V_c(r_i) \\right]u(r_i) = \\epsilon u(r_i) $$\n",
    "\n",
    "If we rewrite this on matrix form, we obtain the matrix equation: \n",
    "\n",
    "$$ Cu = \\epsilon \\tilde{u} $$\n",
    "where $\\tilde{u} = [u(r_1), u(r_2), ... , u(r_{max}-h)$ i.e. for $ r \\in(h, r_{max}-h)$. This is due to the eigenvalue equation being undefined for the endpoints. Thus $C$ is NxN+2, $ u$ is N+2 and $\\tilde{u}$ is N.\n",
    "\n",
    "Using the same trick as in problem 2, we can handle these problematic points by subtracting $-\\frac{1}{2h^2}u(r_0)$ and $-\\frac{1}{2h^2}u(r_{max})$ from equations for rows 1 and N in $C$. Since they are $u(0) = u(r_{max}=0$) we obtain the equation\n",
    "\n",
    "$$ C' \\tilde{u} = \\epsilon \\tilde{u} $$\n",
    "which is a problem on diagonal form, with the boundary conditions baked into the matrix. They will thus automatically appear in our eigenvectors $\\tilde{u}$. $C'$ is on the form\n",
    "\n",
    "\\begin{equation}\n",
    "    C' = \n",
    "    \\begin{bmatrix}\n",
    "        \\frac{1}{h^2} -\\frac{2}{r_1}+V_H(r_1) + V_x(r_1) + V_c(r_1) & -\\frac{1}{2h^2} & 0 & 0 & 0 \\\\\n",
    "         -\\frac{1}{2h^2} & \\frac{1}{h^2} -\\frac{2}{r_2}+V_H(r_2) + V_x(r_2) + V_c(r_2) & -\\frac{1}{2h^2} & 0 & 0 \\\\\n",
    "         0 & -\\frac{1}{2h^2} & \\frac{1}{h^2} -\\frac{2}{r_3}+V_H(r_3) + V_x(r_3) + V_c(r_3) & -\\frac{1}{2h^2} & 0 \\\\\n",
    "        ... \\\\\n",
    "    \\end{bmatrix}\n",
    "\\end{equation}"
   ]
  },
  {
   "cell_type": "markdown",
   "metadata": {},
   "source": [
    "For our problem, we wish to solve the radial equation for the hydrogen atom. We thus set $V_H = V_x = V_c = 0$. We call the resulting eigenvalue equation \n",
    "\n",
    "$$ \\Gamma \\tilde{u} = E \\tilde{u}$$\n",
    "\n",
    "with \n",
    "\n",
    "\\begin{equation}\n",
    "    \\Gamma = \n",
    "    \\begin{bmatrix}\n",
    "        \\frac{1}{h^2} -\\frac{1}{r_1} & -\\frac{1}{2h^2} & 0 & 0 & 0 \\\\\n",
    "         -\\frac{1}{2h^2} & \\frac{1}{h^2} -\\frac{1}{r_2}& -\\frac{1}{2h^2} & 0 & 0 \\\\\n",
    "         0 & -\\frac{1}{2h^2} & \\frac{1}{h^2} -\\frac{1}{r_3} & -\\frac{1}{2h^2} & 0 \\\\\n",
    "        ... \\\\\n",
    "    \\end{bmatrix}\n",
    "\\end{equation}"
   ]
  },
  {
   "cell_type": "code",
   "execution_count": 5,
   "metadata": {},
   "outputs": [],
   "source": [
    "N = 2000 # Number of  points\n",
    "h = 0.005\n",
    "r = np.array([(i+1)*h for i in range(N)]) # N points between endpoints\n",
    "Gamma = np.zeros((N,N)) + np.diagflat((1/h**2 - 1/r)*np.ones(N), k=0) + np.diagflat(-1/(2*h**2)*np.ones(N-1), k=1) + np.diagflat(-1/(2*h**2)*np.ones(N-1), k=-1)\n",
    "\n",
    "eigs, eigv = np.linalg.eigh(Gamma)  # Solve the eigenvalue problem for eigenvectors and eigenfunctions \n",
    "E0 = eigs[0]  # The eigenvalues & vectors are returned in ascending order, thus with the ground state first\n",
    "u0 = eigv[:,0]  # Normalized eigenvector"
   ]
  },
  {
   "cell_type": "markdown",
   "metadata": {},
   "source": [
    "Here we obtain the normalized eigenvector for the ground state, i.e. $u_0(r)$ which is normalized. Since $u_0(r) \\propto \\varphi_0(r)$ this means that the wavefunction is also normalized. However, we want it to be $L2$-normalized so we have to renormalize the wave function. We require:\n",
    "\n",
    "$$ 1 = k^2 \\int_0^{r_{max}} |\\varphi(x)|dx =  k^2 4 \\pi \\int_0^{r_{max}} |\\varphi(r)|^2 r^2 dr \\rightarrow k = \\left(4 \\pi \\int_0^{r_{max}} |\\varphi(r)|^2 r^2 dr \\right)^{-\\frac{1}{2}}$$\n",
    "$$ \\rightarrow \\varphi_{L2}(r) = \\varphi(r)/k. $$"
   ]
  },
  {
   "cell_type": "code",
   "execution_count": 6,
   "metadata": {},
   "outputs": [
    {
     "name": "stdout",
     "output_type": "stream",
     "text": [
      "Ground state energy: E0 = -0.499996 a.u.\n"
     ]
    },
    {
     "data": {
      "text/plain": [
       "Text(0, 0.5, 'H ground state')"
      ]
     },
     "execution_count": 6,
     "metadata": {},
     "output_type": "execute_result"
    },
    {
     "data": {
      "image/png": "[encoded data removed]",
      "text/plain": [
       "<Figure size 576x432 with 1 Axes>"
      ]
     },
     "metadata": {
      "needs_background": "light"
     },
     "output_type": "display_data"
    }
   ],
   "source": [
    "phi0_wrong_norm = u0/(np.sqrt(4*np.pi)*r)\n",
    "k2 = 4*np.pi * np.trapz((phi0_wrong_norm*r)**2, r)  # The 4pi comes from the integration over all space of our symmetric wavefunction - not just radial wavefunction\n",
    "phi0 = phi0_wrong_norm / np.sqrt(k2)  # L2-normalize the wave-function\n",
    "# print(np.trapz(4*np.pi*(phi0*r)**2, r))\n",
    "\n",
    "print(f'Ground state energy: E0 = {E0:.6f} a.u.')\n",
    "\n",
    "# Plot\n",
    "fig, ax = plt.subplots(figsize=(8,6))\n",
    "ax.plot(r, np.abs(phi0), color='k', linestyle='--', linewidth=3, label=r'$\\varphi_0(r)$')\n",
    "ax.plot(r, hydrogen_ground_state(r), color='C4', linestyle='-', linewidth=2, label=r'$\\psi_0(r)$, Hydrogen ground state')\n",
    "ax.legend(loc='best')\n",
    "ax.grid()\n",
    "ax.set_xlabel(r'$r$ $(a_0)$')\n",
    "ax.set_ylabel(r'H ground state')"
   ]
  },
  {
   "cell_type": "markdown",
   "metadata": {},
   "source": [
    "Here we seem to get $\\varphi(r) = -\\psi(r)$. But this is no problem, and is probably only an artefact of the eigenvalue solving routine. If $v$ is an eigenvector to $Av = \\lambda v$, then $-v$ is an eigenvector to $A$ with the same eigenvalue. So we can take the absolute value.\n",
    "\n",
    "Here we get the ground state energy to be $E_0 = -0.499996 \\rm\\, a.u. \\approx -0.5 $ a.u., which matches the expected value for hydrogen, and we obtain a matching wavefunction $\\varphi_0$."
   ]
  },
  {
   "cell_type": "markdown",
   "metadata": {},
   "source": [
    "## Problem 4 - Iterative solution\n"
   ]
  },
  {
   "cell_type": "markdown",
   "metadata": {},
   "source": [
    "We need to iteratively improve our estimate of the ground state energy in the Hartree approximation. We thus use the solution of the Kohn-Sham equation, but omit the exchange-correlation term as well as the self-interaction from the Hartree potential, thus setting $V_H = V_{sH}$. Our procedure will thus look like \n",
    "\n",
    "1. Guess the initial density $|\\varphi_{i}|^2$.\n",
    "2. Obtain the estimate for the Hartree potential using $A' U_0' = B$ from Problem 2 to solve for $V_{sH} = U/r$.\n",
    "3. Obtain the estimate of the ground state energy and the new density from the eigenvalue problem $\\Lambda \\tilde{u} = E\\tilde{u}$ as in Problem 3.\n",
    "\n",
    "We repeat this scheme until the ground state energy has converged. The matrix $\\Lambda$ has the following form: \n",
    "\n",
    "\\begin{equation}\n",
    "    \\Lambda = \n",
    "    \\begin{bmatrix}\n",
    "        \\frac{1}{h^2} -\\frac{2}{r_1} + V_{sH}(r_1) & -\\frac{1}{2h^2} & 0 & 0 & 0 \\\\\n",
    "         -\\frac{1}{2h^2} & \\frac{1}{h^2} -\\frac{2}{r_2} + V_{sH}(r_2) & -\\frac{1}{2h^2} & 0 & 0 \\\\\n",
    "         0 & -\\frac{1}{2h^2} & \\frac{1}{h^2} -\\frac{2}{r_3} + V_{sH}(r_3)  & -\\frac{1}{2h^2} & 0 \\\\\n",
    "        ... \\\\\n",
    "    \\end{bmatrix}\n",
    "\\end{equation}\n",
    "\n",
    "We use the ground state of hydrogen as our input density:\n",
    "\n",
    "$$ \\varphi_i(r) = \\frac{1}{\\sqrt{\\pi}} e^{-2r}$$\n",
    "\n",
    "To check for convergence with regards to $r_{max}$ and $h$, three passes of the self-consistent loop will be completed. First, $r_{max}$ and $h$ are set what I deem probable values. For the second pass, $r_{max}$ is doubled. For the third pass, in addition to doubling $r_{max}$ I also halve $h$. Then, the results from all passes are compared from which it can be deemed if the computation is converged with regards to $r_{max}$ and $h$."
   ]
  },
  {
   "cell_type": "markdown",
   "metadata": {},
   "source": [
    "#### Note that the code for problems 4, 5, 6 are in the same functions, but that what is executed is controlled by the variable \"problem\"."
   ]
  },
  {
   "cell_type": "code",
   "execution_count": 7,
   "metadata": {},
   "outputs": [],
   "source": [
    "def eps_x(n):\n",
    "    return -3/4 * (3*n/np.pi)**(1/3)\n",
    "\n",
    "def deriv_eps_x(n):\n",
    "    return -3/(4*np.pi) * (3*n/np.pi)**(-2/3)\n",
    "\n",
    "def eps_c(n):\n",
    "    rs = ( 3/(4*np.pi*n) )**(1/3)\n",
    "    eps_c_vec = np.zeros(len(rs))\n",
    "    geq1_idx = np.where(np.abs(rs)>=1)[0][0]\n",
    "    # Define constants\n",
    "    A = 0.0311\n",
    "    B = -0.048\n",
    "    C = 0.0020\n",
    "    D = -0.0116\n",
    "    \n",
    "    gamma = -0.1423\n",
    "    b1 = 1.0529\n",
    "    b2 = 0.3334\n",
    "    \n",
    "    for i, ri in enumerate(rs):\n",
    "        if ri < geq1_idx:\n",
    "            eps_c_vec[i] = A*np.log(ri) + B + C*ri*np.log(ri)+D*ri\n",
    "        else:\n",
    "            eps_c_vec[i] = gamma/( 1+ b1*np.sqrt(ri) + b2*ri )\n",
    "    return eps_c_vec\n",
    "\n",
    "def deriv_eps_c(n):\n",
    "    '''Note that the derivative is w.r. using the chain rule!'''\n",
    "    rs = ( 3/(4*np.pi*n) )**(1/3)\n",
    "    d_eps_c_vec = np.zeros(len(rs))\n",
    "    geq1_idx = np.where(np.abs(rs)>=1)[0][0]\n",
    "    \n",
    "    # Define constants\n",
    "    A = 0.0311\n",
    "    B = -0.048\n",
    "    C = 0.0020\n",
    "    D = -0.0116\n",
    "    \n",
    "    gamma = -0.1423\n",
    "    b1 = 1.0529\n",
    "    b2 = 0.3334\n",
    "    \n",
    "    for i, ri in enumerate(rs):\n",
    "        if ri < geq1_idx:\n",
    "            d_eps_c_vec[i] = A/ri + C*np.log(ri) + C + D\n",
    "        else:\n",
    "            d_eps_c_vec[i] = -gamma*( b1 + 2*b2*np.sqrt(ri)) / ( 2*np.sqrt(ri) * (1 + b1*np.sqrt(ri) + b2*ri)**2 )\n",
    "    d_eps_c_vec *= - (1/rs)**(4/3) / ( 6**(2/3) * np.pi**(1/3) ) # dn/drs\n",
    "    return d_eps_c_vec \n",
    "\n",
    "def iterative_step(phi0, rmax, h, problem):\n",
    "    '''Perform a step of the iterative solution. Prepared for Problems 5 and 6 with V_x and V_c.'''\n",
    "     #******** Calculate new N, r and pad phi_density ***********\n",
    "    N = int(rmax/h-1)\n",
    "    r = np.array([(i+1)*h for i in range(N)]) # N points between endpoints\n",
    "    phi_sq = phi0**2\n",
    "    phi_sq = np.pad(phi_sq, (0,N-len(phi_sq)), 'edge')  # Pad density with last value to new maximum value\n",
    "    A_p = np.zeros((N,N)) + np.diagflat(-2*np.ones(N), k=0) + np.diagflat(np.ones(N-1), k=1) + np.diagflat(np.ones(N-1), k=-1) \n",
    "    \n",
    "    #******** Estimate V_sH ***********\n",
    "    B = -np.array([4*np.pi*h**2*phi_sq[i]*r[i] for i in range(N)])\n",
    "    U0_p = np.linalg.solve(A_p, B) # Solve the system of equations for U_0\n",
    "    U = U0_p + r/rmax # Extract U\n",
    "    V_sH = U/r # Extract the static potential\n",
    "    \n",
    "    if problem==4:\n",
    "        V_H = V_sH\n",
    "        V_x = np.zeros((N))\n",
    "        V_c = np.zeros((N))\n",
    "    elif problem==5:\n",
    "        V_H = 2 * V_sH\n",
    "        n = 2 * phi_sq\n",
    "        V_x = eps_x(n) + n*deriv_eps_x(n)\n",
    "        V_c = np.zeros((N))\n",
    "    elif problem==6:\n",
    "        V_H = 2 * V_sH\n",
    "        n = 2 * phi_sq\n",
    "        V_x = eps_x(n) + n*deriv_eps_x(n)\n",
    "        V_c = eps_c(n) + n*deriv_eps_c(n)\n",
    "    \n",
    "    #******** Estimate E_0 and phi0 ***********\n",
    "    Lambda = np.zeros((N,N)) + np.diagflat((1/h**2 - 2/r)*np.ones(N) + V_H + V_x + V_c, k=0) + np.diagflat(-1/(2*h**2)*np.ones(N-1), k=1) + np.diagflat(-1/(2*h**2)*np.ones(N-1), k=-1)\n",
    "\n",
    "    eigs, eigv = np.linalg.eigh(Lambda)  # Solve the eigenvalue problem for eigenvectors and eigenfunctions \n",
    "    eps = eigs[0]  # The eigenvalues & vectors are returned in ascending order, thus with the ground state first\n",
    "    u0 = eigv[:,0]  # Normalized eigenvector\n",
    "    \n",
    "    phi0_wrong_norm = u0/(np.sqrt(4*np.pi)*r)\n",
    "    k2 = 4*np.pi * np.trapz((phi0_wrong_norm*r)**2, r)  # The 4pi comes from the integration over all space of our symmetric wavefunction - not just radial wavefunction\n",
    "    phi0 = phi0_wrong_norm / np.sqrt(k2)  # L2-normalize the wave-function\n",
    "    \n",
    "    # Calculate the ground state energy\n",
    "    u2 = 4 * np.pi * r**2 * phi0**2 \n",
    "    # Calculate these again - a bit wasteful but ensures correct wavefcn etc.\n",
    "    if problem==4:\n",
    "        eps_xc = 0\n",
    "        Vxc = 0\n",
    "    elif problem==5:\n",
    "        n = 2 * phi0**2\n",
    "        eps_xc = eps_x(n)\n",
    "        V_x = eps_x(n) + n*deriv_eps_x(n) # Get the new exchange potential - linearity\n",
    "        V_c = 0 \n",
    "        Vxc = V_x + V_c  # Assume the potential can be split in two\n",
    "    elif problem==6:\n",
    "        n = 2 * phi0**2\n",
    "        eps_xc = eps_x(n) + eps_c(n)\n",
    "        V_x = eps_x(n) + n*deriv_eps_x(n) # Get the new exchange potential - linearity\n",
    "        V_c = eps_c(n) + n*deriv_eps_c(n)\n",
    "        Vxc = V_x + V_c \n",
    "        \n",
    "    E0 = 2*eps - 2*np.trapz(u2 * ( 0.5*V_H + Vxc - eps_xc ), r)\n",
    "#     print(f'Ground state energy: E0 = {E0:.6f} a.u.')\n",
    "    \n",
    "    #******** Return E_0 and phi_0 ***********\n",
    "    return E0, phi0, eps, r, N"
   ]
  },
  {
   "cell_type": "code",
   "execution_count": 8,
   "metadata": {},
   "outputs": [],
   "source": [
    "def self_consistentV2(p=4, max_iters=500, tol=1e-5, ax_wave=None, ax_energy=None, rmax=10, h=0.02):    \n",
    "    '''\n",
    "    Performs the self-consistent loop for a certain problem, and plots the results\n",
    "    max_iters: maximum iterations for convergence of each rmax and h.\n",
    "    '''\n",
    "    # Iteration parameters\n",
    "    energies = []  # Ground-state energies\n",
    "    iters = 0\n",
    "    previous_E = -999 # No previous energy\n",
    "\n",
    "    #******** Initial Step ********* \n",
    "    N = int(rmax/h-1)  # Rmax = (N+1)*h for N+2 steps including 0 and rmax\n",
    "    r = np.array([(i+1)*h for i in range(N)]) # N points between endpoints\n",
    "    # Make an initial estimate of the energy and ground state density:\n",
    "    E0, phi0, eps, r, N = iterative_step(hydrogen_ground_state(r), rmax, h, problem=p)\n",
    "    energies.append(E0)\n",
    "\n",
    "    #******** Iteratively calculate energy *********\n",
    "    while np.abs(E0-previous_E) > tol and iters<max_iters:\n",
    "        previous_E = E0  # Save previous energy\n",
    "        E0, phi0, eps, r, N = iterative_step(phi0, rmax, h, problem=p)\n",
    "        energies.append(E0)\n",
    "        iters += 1\n",
    "\n",
    "    print(f'Converged in {iters} iterations.')\n",
    "    print(f'Ground state energy: {energies[-1]:.7f} a.u., eigenvalue: {eps:.7f}')\n",
    "\n",
    "    #******** Plot wavefunctions *********\n",
    "    ax_wave.plot(r, np.abs(phi0), linestyle=':', alpha=0.8, linewidth=2, label=rf'$\\phi_0$, rmax={rmax:.2f}, h={h:.4f}')   \n",
    "\n",
    "    #******** Plot energies *********\n",
    "    ax_energy.plot(energies, linestyle='--', linewidth=3, label=f'E0 = {energies[-1]:.4f}, rmax={rmax:.2f}, h={h:.4f}')\n",
    "\n",
    "\n",
    "def run_problem(problem=4):\n",
    "    '''Parameterized runner of each problem for problems 4,5,6 since they are basically the same code.'''\n",
    "    max_iters = 500\n",
    "    tol = (1/27.72)*1e-5  # 1e-5 eV\n",
    "\n",
    "    # Figures for plots\n",
    "    fig, ax_wave = plt.subplots(figsize=(8,6))\n",
    "    fig, ax_energy = plt.subplots(figsize=(8,6))\n",
    "\n",
    "\n",
    "    # Run the self-consistent loop for various values of rmax and h\n",
    "    self_consistentV2(problem, max_iters, tol, ax_wave, ax_energy, rmax=10, h=0.01)  # max_iters is max for rmax opt. and h opt. \n",
    "    self_consistentV2(problem, max_iters, tol, ax_wave, ax_energy, rmax=20, h=0.01)\n",
    "    self_consistentV2(problem, max_iters, tol, ax_wave, ax_energy, rmax=20, h=0.005)\n",
    "\n",
    "\n",
    "    # Various plot details\n",
    "    ax_wave.legend(loc='best')\n",
    "    ax_wave.grid()\n",
    "    ax_wave.set_xlabel(r'$r$ $(a_0)$')\n",
    "    ax_wave.set_ylabel(r'He ground state') \n",
    "\n",
    "    ax_energy.axhline(-2.8545, color='C5', linewidth=3, label='Hartree-Fock value, problem 1')\n",
    "    ax_energy.axhline(-2.9033, color='C6', linewidth=3, label='Experimental value')\n",
    "    ax_energy.legend(loc='best')\n",
    "    ax_energy.grid()\n",
    "    ax_energy.set_xlabel(r'Iteration')\n",
    "    ax_energy.set_ylabel(r'$E_0$')"
   ]
  },
  {
   "cell_type": "code",
   "execution_count": 9,
   "metadata": {},
   "outputs": [
    {
     "name": "stdout",
     "output_type": "stream",
     "text": [
      "Converged in 13 iterations.\n",
      "Ground state energy: -2.8613298 a.u., eigenvalue: -0.9178198\n",
      "Converged in 13 iterations.\n",
      "Ground state energy: -2.8613293 a.u., eigenvalue: -0.9178193\n",
      "Converged in 13 iterations.\n",
      "Ground state energy: -2.8615944 a.u., eigenvalue: -0.9179226\n"
     ]
    },
    {
     "ename": "UnboundLocalError",
     "evalue": "local variable 'phi0_p1' referenced before assignment",
     "output_type": "error",
     "traceback": [
      "\u001b[1;31m---------------------------------------------------------------------------\u001b[0m",
      "\u001b[1;31mUnboundLocalError\u001b[0m                         Traceback (most recent call last)",
      "\u001b[1;32m<ipython-input-9-57bdfaa28468>\u001b[0m in \u001b[0;36m<module>\u001b[1;34m\u001b[0m\n\u001b[1;32m----> 1\u001b[1;33m \u001b[0mrun_problem\u001b[0m\u001b[1;33m(\u001b[0m\u001b[0mproblem\u001b[0m\u001b[1;33m=\u001b[0m\u001b[1;36m4\u001b[0m\u001b[1;33m)\u001b[0m\u001b[1;33m\u001b[0m\u001b[1;33m\u001b[0m\u001b[0m\n\u001b[0m",
      "\u001b[1;32m<ipython-input-8-f786787afdd8>\u001b[0m in \u001b[0;36mrun_problem\u001b[1;34m(problem)\u001b[0m\n\u001b[0;32m     50\u001b[0m \u001b[1;33m\u001b[0m\u001b[0m\n\u001b[0;32m     51\u001b[0m     \u001b[1;31m# Various plot details\u001b[0m\u001b[1;33m\u001b[0m\u001b[1;33m\u001b[0m\u001b[1;33m\u001b[0m\u001b[0m\n\u001b[1;32m---> 52\u001b[1;33m     \u001b[0mphi0_p1\u001b[0m \u001b[1;33m=\u001b[0m \u001b[0mnp\u001b[0m\u001b[1;33m.\u001b[0m\u001b[0mpad\u001b[0m\u001b[1;33m(\u001b[0m\u001b[0mphi0_p1\u001b[0m\u001b[1;33m,\u001b[0m \u001b[1;33m(\u001b[0m\u001b[1;36m0\u001b[0m\u001b[1;33m,\u001b[0m\u001b[0mN\u001b[0m\u001b[1;33m-\u001b[0m\u001b[0mlen\u001b[0m\u001b[1;33m(\u001b[0m\u001b[0mphi0_p1\u001b[0m\u001b[1;33m)\u001b[0m\u001b[1;33m)\u001b[0m\u001b[1;33m,\u001b[0m \u001b[1;34m'edge'\u001b[0m\u001b[1;33m)\u001b[0m  \u001b[1;31m# Pad to match length\u001b[0m\u001b[1;33m\u001b[0m\u001b[1;33m\u001b[0m\u001b[0m\n\u001b[0m\u001b[0;32m     53\u001b[0m     \u001b[0max_wave\u001b[0m\u001b[1;33m.\u001b[0m\u001b[0mplot\u001b[0m\u001b[1;33m(\u001b[0m\u001b[0mr\u001b[0m\u001b[1;33m,\u001b[0m \u001b[0mphi0_p1\u001b[0m\u001b[1;33m,\u001b[0m \u001b[0mcolor\u001b[0m\u001b[1;33m=\u001b[0m\u001b[1;34m'k'\u001b[0m\u001b[1;33m,\u001b[0m \u001b[0mlinestyle\u001b[0m\u001b[1;33m=\u001b[0m\u001b[1;34m':'\u001b[0m\u001b[1;33m,\u001b[0m \u001b[0malpha\u001b[0m\u001b[1;33m=\u001b[0m\u001b[1;36m0.8\u001b[0m\u001b[1;33m,\u001b[0m \u001b[0mlinewidth\u001b[0m\u001b[1;33m=\u001b[0m\u001b[1;36m2\u001b[0m\u001b[1;33m,\u001b[0m \u001b[0mlabel\u001b[0m\u001b[1;33m=\u001b[0m\u001b[1;34m'Hartree method, Problem 1'\u001b[0m\u001b[1;33m)\u001b[0m\u001b[1;33m\u001b[0m\u001b[1;33m\u001b[0m\u001b[0m\n\u001b[0;32m     54\u001b[0m     \u001b[0max_wave\u001b[0m\u001b[1;33m.\u001b[0m\u001b[0mlegend\u001b[0m\u001b[1;33m(\u001b[0m\u001b[0mloc\u001b[0m\u001b[1;33m=\u001b[0m\u001b[1;34m'best'\u001b[0m\u001b[1;33m)\u001b[0m\u001b[1;33m\u001b[0m\u001b[1;33m\u001b[0m\u001b[0m\n",
      "\u001b[1;31mUnboundLocalError\u001b[0m: local variable 'phi0_p1' referenced before assignment"
     ]
    },
    {
     "data": {
      "image/png": "[encoded data removed]",
      "text/plain": [
       "<Figure size 576x432 with 1 Axes>"
      ]
     },
     "metadata": {
      "needs_background": "light"
     },
     "output_type": "display_data"
    },
    {
     "data": {
      "image/png": "[encoded data removed]",
      "text/plain": [
       "<Figure size 576x432 with 1 Axes>"
      ]
     },
     "metadata": {
      "needs_background": "light"
     },
     "output_type": "display_data"
    }
   ],
   "source": [
    "run_problem(problem=4)\n",
    "phi0_p1 = np.pad(phi0_p1, (0,N-len(phi0_p1)), 'edge')  # Pad to match length\n",
    "    ax_wave.plot(r, phi0_p1, color='k', linestyle=':', alpha=0.8, linewidth=2, label='Hartree method, Problem 1')"
   ]
  },
  {
   "cell_type": "markdown",
   "metadata": {},
   "source": [
    "Using the Hartree method, the ground state energy converges to $E_0 \\approx -2.8613298 \\rm\\, a.u.$, which can be compared to the result from the Hartree-Fock method (problem 1) $E_G \\approx -2.8454 \\rm\\, a.u.$ Comparing the wavefunctions, we note that they are very similar in shape. The energy in the Hartree method (problem 4) is lower than the energy as computed by the Hartree-Fock method(problem 1), i.e. closer to the experimental value. This makes sense, since using the Hartree-Fock method we automatically include exchange effects, due to the use of a Slater determinant basis. This raises the energy as compared to the Hartree method which does not take that into account.\n",
    "\n",
    "Furthermore, we note that the algorithm seems to be converged with regards to $r_{max}$ and $h$ since their values does not seem to affect the result, neither the wavefunction nor the energy."
   ]
  },
  {
   "cell_type": "markdown",
   "metadata": {},
   "source": [
    "## Problem 5 - Adding exchange contributions"
   ]
  },
  {
   "cell_type": "markdown",
   "metadata": {},
   "source": [
    "We now add exchange contributions to problem 4. We use the full Hartree potential, i.e. setting $V_H=2 V_{sH}$. Using the LDA approximation, we can write the exchange-correlation potential as:\n",
    "\n",
    "$$ \\epsilon_{xc} = \\epsilon_x + \\epsilon_c = \\epsilon_x + 0 = -\\frac{3}{4}\\left(\\frac{3n}{\\pi}\\right)^{1/3}$$\n",
    "$$ V_{xc} = \\epsilon_{xc} + n \\frac{d}{dn}\\epsilon_{xc} = -\\frac{3}{4}\\left(\\frac{3n}{\\pi}\\right)^{1/3} - n\\frac{3}{4\\pi}\\left(\\frac{3n}{\\pi}\\right)^{-2/3} $$\n",
    "\n",
    "I also interpret the potential to be additive, i.e.\n",
    "$$ V_{xc} = V_x + V_c. $$ "
   ]
  },
  {
   "cell_type": "code",
   "execution_count": null,
   "metadata": {},
   "outputs": [],
   "source": [
    "run_problem(problem=5)"
   ]
  },
  {
   "cell_type": "markdown",
   "metadata": {},
   "source": [
    "This method results in a ground-state energy that is $\\approx 5\\%$ off from the results from problem 4. Something strange is that we seem to obtain a larger value, which is counter-intuitive given that our method is based around the variational principle. We would also expect our results to be in more inline with the results from HF in problem 1, as we now take care of the exchange part. "
   ]
  },
  {
   "cell_type": "markdown",
   "metadata": {},
   "source": [
    "## Problem 6"
   ]
  },
  {
   "cell_type": "markdown",
   "metadata": {},
   "source": [
    "Same as problem 5, but we add the correlation term. The added terms are \n",
    "\n",
    "$$ \\epsilon_c(rs) = \\frac{\\gamma}{1+\\beta_1\\sqrt{r_s} + \\beta_2 r_s}, \\hspace{10px} rs \\geq 1  $$\n",
    "$$ \\epsilon_c(rs) = A \\log{r_s} + B + C r_s\\log{r_s} + D r_s, \\hspace{10px} rs \\le 1  $$\n",
    "\n",
    "Using the chain rule, we can compute the derivative $ \\frac{d}{dn}\\epsilon_c = \\frac{dr_s}{dn} \\frac{d\\epsilon_c}{dr_s}$\n",
    "\n",
    "$$ \\frac{d\\epsilon_c}{dr_s} = -\\frac{\\gamma(\\beta_1+2\\beta_2\\sqrt{r_s})}{2\\sqrt{r_s}(1 + \\beta_1\\sqrt{r_s} + \\beta_2 r_s )^2}, \\hspace{10px} rs \\geq 1  $$\n",
    "$$ \\frac{d\\epsilon_c}{dr_s} = \\frac{A}{r_s} + C\\log{r_s} + C + D, \\hspace{10px} rs \\le 1  $$\n",
    "$$ \\frac{dr_s}{dn} = -\\frac{\\left(\\frac{1}{rs}\\right)^{4/3}}{6^{2/3} \\pi^{1/3}}, \\hspace{10px} \\forall r_s  $$"
   ]
  },
  {
   "cell_type": "code",
   "execution_count": null,
   "metadata": {
    "scrolled": false
   },
   "outputs": [],
   "source": [
    "run_problem(problem=6)"
   ]
  },
  {
   "cell_type": "markdown",
   "metadata": {},
   "source": [
    "This is even further from the experimental result than Problem 5! Comparing to the result by using only the Hartree method from problem 4, we would expect the added correction from exchange and correlation would increase the accuracy of the method, preferably reaching a value which is closer to the experimental value or the result from problem 1. Adding the correlation in problem 5 should atleast make the solution more similar to that from problem 1, as the Hartree-Fock method handles exchange perfectly (by construction). "
   ]
  },
  {
   "cell_type": "code",
   "execution_count": null,
   "metadata": {},
   "outputs": [],
   "source": []
  }
 ],
 "metadata": {
  "kernelspec": {
   "display_name": "Python 3",
   "language": "python",
   "name": "python3"
  },
  "language_info": {
   "codemirror_mode": {
    "name": "ipython",
    "version": 3
   },
   "file_extension": ".py",
   "mimetype": "text/x-python",
   "name": "python",
   "nbconvert_exporter": "python",
   "pygments_lexer": "ipython3",
   "version": "3.7.4"
  }
 },
 "nbformat": 4,
 "nbformat_minor": 2
}
