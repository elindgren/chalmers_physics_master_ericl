{
 "cells": [
  {
   "cell_type": "markdown",
   "metadata": {},
   "source": [
    "## Lindgren, Eric\n",
    "## 970222-1954"
   ]
  },
  {
   "cell_type": "code",
   "execution_count": 3,
   "metadata": {},
   "outputs": [
    {
     "ename": "ModuleNotFoundError",
     "evalue": "No module named 'emce'",
     "output_type": "error",
     "traceback": [
      "\u001b[1;31m---------------------------------------------------------------------------\u001b[0m",
      "\u001b[1;31mModuleNotFoundError\u001b[0m                       Traceback (most recent call last)",
      "\u001b[1;32m<ipython-input-3-e683e22f6c6b>\u001b[0m in \u001b[0;36m<module>\u001b[1;34m\u001b[0m\n\u001b[0;32m      4\u001b[0m \u001b[1;32mimport\u001b[0m \u001b[0mnumpy\u001b[0m \u001b[1;32mas\u001b[0m \u001b[0mnp\u001b[0m\u001b[1;33m\u001b[0m\u001b[1;33m\u001b[0m\u001b[0m\n\u001b[0;32m      5\u001b[0m \u001b[1;32mimport\u001b[0m \u001b[0mseaborn\u001b[0m\u001b[1;33m;\u001b[0m \u001b[0mseaborn\u001b[0m\u001b[1;33m.\u001b[0m\u001b[0mset\u001b[0m\u001b[1;33m(\u001b[0m\u001b[1;34m\"talk\"\u001b[0m\u001b[1;33m)\u001b[0m \u001b[1;31m# for plot formatting\u001b[0m\u001b[1;33m\u001b[0m\u001b[1;33m\u001b[0m\u001b[0m\n\u001b[1;32m----> 6\u001b[1;33m \u001b[1;32mimport\u001b[0m \u001b[0memce\u001b[0m\u001b[1;33m\u001b[0m\u001b[1;33m\u001b[0m\u001b[0m\n\u001b[0m\u001b[0;32m      7\u001b[0m \u001b[1;33m\u001b[0m\u001b[0m\n\u001b[0;32m      8\u001b[0m \u001b[1;33m\u001b[0m\u001b[0m\n",
      "\u001b[1;31mModuleNotFoundError\u001b[0m: No module named 'emce'"
     ]
    }
   ],
   "source": [
    "# Imports\n",
    "%matplotlib inline\n",
    "import matplotlib.pyplot as plt\n",
    "import numpy as np\n",
    "import seaborn; seaborn.set(\"talk\") # for plot formatting\n",
    "import \n",
    "\n",
    "import scipy.optimize as opt"
   ]
  },
  {
   "cell_type": "markdown",
   "metadata": {},
   "source": [
    "# Problem 5"
   ]
  },
  {
   "cell_type": "markdown",
   "metadata": {},
   "source": [
    "## Task a)"
   ]
  },
  {
   "cell_type": "code",
   "execution_count": 7,
   "metadata": {},
   "outputs": [
    {
     "data": {
      "text/plain": [
       "Text(0.5, 1.0, 'Generated data')"
      ]
     },
     "execution_count": 7,
     "metadata": {},
     "output_type": "execute_result"
    },
    {
     "data": {
      "image/png": "[encoded data removed]",
      "text/plain": [
       "<Figure size 432x288 with 1 Axes>"
      ]
     },
     "metadata": {},
     "output_type": "display_data"
    }
   ],
   "source": [
    "# Data from student lab observations; \n",
    "# x = Galaxy distances in MPc\n",
    "# y = Galaxy velocity in km/sec\n",
    "x = np.array([10.1 ,45.2, 19.7, 31.2, 31.9, 44.0,\n",
    "       14.9, 35.1,  39.9  ])\n",
    "y = np.array([1507.9, 2937.5,  930.4, 2037.1, 2131.1,\n",
    "       2795.6, 1061.8, 2464.8, \n",
    "       1971.1])\n",
    "sigma = 200\n",
    "\n",
    "# Plot data\n",
    "fig, ax = plt.subplots()\n",
    "ax.plot(x,y, 'b.', label='Data')\n",
    "ax.set_xlabel(\"Galaxy distance, MPc\")\n",
    "ax.set_ylabel(\"Galaxy velocity, km/sec\")\n",
    "plt.title(\"Generated data\")"
   ]
  },
  {
   "cell_type": "markdown",
   "metadata": {},
   "source": [
    "No error on x, and a constant standard deviation of $\\sigma$ on y. This makes the probability to measure a certain datapoint to be normally distributed around the model value: \n",
    "\n",
    "$$p(x_i,y_i|M, I) \\sim N(y_M(x_i;\\theta), \\sigma) $$\n",
    "\n",
    "where $\\theta$ are the model parameters. The total likelihood is thus:\n",
    "\n",
    "$$ \\log{p(D|M,I)} = \\log{\\prod_{i=0}^{N-1}p(x_i, y_i|M,I)} = -N \\log{\\sqrt{2\\pi\\sigma^2}} + \\sum_{i=0}^{N-1} \\frac{-[y_i-y_M(x_i;\\theta)]}{2\\sigma^2}  $$\n",
    "\n",
    "We make the prior that the data can be fitted with a straight line. Thus our model $M$ only has two parameters in $\\theta$: the intercept $m$ and the slope $k$. Hubbles law states that $y = H_0 \\cdot x$, which means that we are only really interested in $k$."
   ]
  },
  {
   "cell_type": "markdown",
   "metadata": {},
   "source": [
    "#### Step 1: Maximum likelihood estimate"
   ]
  },
  {
   "cell_type": "code",
   "execution_count": 8,
   "metadata": {},
   "outputs": [
    {
     "data": {
      "text/plain": [
       "'Maximum likelihood approach yields: m, k=[506.32926036  48.824909  ]'"
      ]
     },
     "metadata": {},
     "output_type": "display_data"
    }
   ],
   "source": [
    "# return a simple maximum likelihood estimate\n",
    "def log_likelihood(theta, x, y, sigma):\n",
    "    term_1 = -len(x)*np.log(2*np.pi*sigma**2)\n",
    "    y_M = theta[0]*np.ones((len(x))) + theta[1]*x\n",
    "    term_2 = (-(y-y_M)**2/(2*sigma**2)).sum()\n",
    "    return term_1 + term_2\n",
    "\n",
    "\n",
    "def negative_log_likelihood(theta,x,y,sigma):\n",
    "    return -log_likelihood(theta, x, y, sigma)\n",
    "\n",
    "# Maximize using scipy optimize\n",
    "max_like_est = opt.minimize(negative_log_likelihood, [0,0], args=(x, y, sigma))\n",
    "display(f'Maximum likelihood approach yields: m, k={max_like_est.x}')"
   ]
  },
  {
   "cell_type": "markdown",
   "metadata": {},
   "source": [
    "The maximum likelihood estimate for the Hubble constant is $H_0 \\approx 48.8$."
   ]
  },
  {
   "cell_type": "markdown",
   "metadata": {},
   "source": [
    "#### Step 2: Bayesian analysis"
   ]
  },
  {
   "cell_type": "code",
   "execution_count": 9,
   "metadata": {},
   "outputs": [
    {
     "data": {
      "text/plain": [
       "'Bayesian approach yields: m, k=[306.45253168  54.31160937]'"
      ]
     },
     "metadata": {},
     "output_type": "display_data"
    }
   ],
   "source": [
    "# define log of prior, use log likelihood from step 1. We do not care \n",
    "# about the normalization in Bayes theorem.\n",
    "def log_prior_intercept(m, sigma):\n",
    "    fun = 1/np.sqrt(2*np.pi*sigma**2)*np.exp(-(np.abs(m)**2)/(2*sigma**2))\n",
    "    return np.log(fun)\n",
    "\n",
    "\n",
    "def log_prior_slope(k):\n",
    "    fun =  1/(1+k**2)**(3/2)\n",
    "    return np.log(fun)\n",
    "\n",
    "\n",
    "def log_posterior(theta, x, y, sigma):\n",
    "    log_like = log_likelihood(theta, x, y, sigma)\n",
    "    # Assume m and k to be independent. Then their joint pdf is the product\n",
    "    # of the two.\n",
    "    log_prior = log_prior_intercept(theta[0],sigma) + log_prior_slope(theta[1])\n",
    "    return log_like + log_prior\n",
    "\n",
    "\n",
    "def negative_log_posterior(theta, x, y, sigma):\n",
    "    return -log_posterior(theta,x,y,sigma)\n",
    "\n",
    "# We want to maximize these and find their respective modes. Especially \n",
    "# for the slope.\n",
    "# Use scipy optimize as in step 1 again:\n",
    "max_bayesian_approach = opt.minimize(negative_log_posterior, [0,0], args=(x, y, sigma))\n",
    "display(f'Bayesian approach yields: m, k={max_bayesian_approach.x}')"
   ]
  },
  {
   "cell_type": "markdown",
   "metadata": {},
   "source": [
    "#### Step 3: Bayesian approach to Outliers (good-data/bad-data)"
   ]
  },
  {
   "cell_type": "code",
   "execution_count": 10,
   "metadata": {},
   "outputs": [
    {
     "ename": "ModuleNotFoundError",
     "evalue": "No module named 'emcee'",
     "output_type": "error",
     "traceback": [
      "\u001b[1;31m---------------------------------------------------------------------------\u001b[0m",
      "\u001b[1;31mModuleNotFoundError\u001b[0m                       Traceback (most recent call last)",
      "\u001b[1;32m<ipython-input-10-a56d9c732d51>\u001b[0m in \u001b[0;36m<module>\u001b[1;34m\u001b[0m\n\u001b[0;32m     18\u001b[0m \u001b[1;31m# Use an emcee sampler to explore the parameter space for this pdf.\u001b[0m\u001b[1;33m\u001b[0m\u001b[1;33m\u001b[0m\u001b[1;33m\u001b[0m\u001b[0m\n\u001b[0;32m     19\u001b[0m \u001b[1;31m# Study the log of this pdf\u001b[0m\u001b[1;33m\u001b[0m\u001b[1;33m\u001b[0m\u001b[1;33m\u001b[0m\u001b[0m\n\u001b[1;32m---> 20\u001b[1;33m \u001b[1;32mimport\u001b[0m \u001b[0memcee\u001b[0m\u001b[1;33m\u001b[0m\u001b[1;33m\u001b[0m\u001b[0m\n\u001b[0m\u001b[0;32m     21\u001b[0m \u001b[1;33m\u001b[0m\u001b[0m\n\u001b[0;32m     22\u001b[0m \u001b[0mndim\u001b[0m \u001b[1;33m=\u001b[0m \u001b[1;36m4\u001b[0m  \u001b[1;31m# epsilon, m, k, g TODO include m and k\u001b[0m\u001b[1;33m\u001b[0m\u001b[1;33m\u001b[0m\u001b[0m\n",
      "\u001b[1;31mModuleNotFoundError\u001b[0m: No module named 'emcee'"
     ]
    }
   ],
   "source": [
    "def complicated_likelihood(m, k, eps, g, x, y, sigma):\n",
    "    # eps, g, x and y are all vectors\n",
    "    y_M = m*np.ones((len(x))) + k*x\n",
    "    gauss = 1/np.sqrt(2*np.pi*eps**2)*np.exp(-((y_M-y)**2)/(2*eps**2))\n",
    "    lorentz = 1/(np.sqrt(2)*np.pi*sigma)*1/(1+((y_M-y)**2)/(2*sigma**2))\n",
    "    return g*(gauss) + (np.ones((len(g)))-g)*lorentz\n",
    "\n",
    "\n",
    "def log_complicated_likelihood(m, k, eps, g, x, y, sigma):\n",
    "    return np.log(complicated_likelihood(m, k, eps, g, x, y, sigma))\n",
    "\n",
    "\n",
    "eps = np.linspace(-100,100,100)\n",
    "g = np.linspace(0,1,100)\n",
    "k = np.linspace(-100,100,100)\n",
    "m = np.linspace(-100,100,100) \n",
    "\n",
    "# Use an emcee sampler to explore the parameter space for this pdf. \n",
    "# Study the log of this pdf\n",
    "import emcee\n",
    "\n",
    "ndim = 4  # epsilon, m, k, g TODO include m and k\n",
    "nwalkers = 10  # nbr of mcmc walkers\n",
    "# Randomize the starting position in eps, g, k, m, space\n",
    "p0 = np.random.rand(ndim * nwalkers).reshape((nwalkers, ndim))\n",
    "# Define the sampler\n",
    "sampler = emcee.EnsembleSampler(nwalkers, ndim, log_complicated_likelihood, args=[x, y, sigma])\n",
    "# Burn-in\n",
    "pos, prob, state = sampler.run_mcmc(p0, 100)\n",
    "sampler.reset()\n",
    "# Start the walk\n",
    "sampler.run_mcmc(pos, 1000)\n",
    "print(EnsembleSampler.chain)\n",
    "# Marginalize out epsilon, m and g - plot pdf for k, our desired parameter\n"
   ]
  },
  {
   "cell_type": "code",
   "execution_count": null,
   "metadata": {},
   "outputs": [],
   "source": []
  }
 ],
 "metadata": {
  "kernelspec": {
   "display_name": "Python 3",
   "language": "python",
   "name": "python3"
  },
  "language_info": {
   "codemirror_mode": {
    "name": "ipython",
    "version": 3
   },
   "file_extension": ".py",
   "mimetype": "text/x-python",
   "name": "python",
   "nbconvert_exporter": "python",
   "pygments_lexer": "ipython3",
   "version": "3.7.1"
  }
 },
 "nbformat": 4,
 "nbformat_minor": 2
}
