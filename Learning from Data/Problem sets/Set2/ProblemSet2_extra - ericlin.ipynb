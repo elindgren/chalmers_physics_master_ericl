{
 "cells": [
  {
   "cell_type": "markdown",
   "metadata": {},
   "source": [
    "## Lindgren, Eric\n",
    "## 970222-1954"
   ]
  },
  {
   "cell_type": "code",
   "execution_count": 5,
   "metadata": {},
   "outputs": [],
   "source": [
    "# Imports\n",
    "%matplotlib inline\n",
    "import matplotlib.pyplot as plt\n",
    "import numpy as np\n",
    "import seaborn; seaborn.set(\"talk\") # for plot formatting\n",
    "\n",
    "import scipy.optimize as opt"
   ]
  },
  {
   "cell_type": "markdown",
   "metadata": {},
   "source": [
    "# Problem 5"
   ]
  },
  {
   "cell_type": "markdown",
   "metadata": {},
   "source": [
    "## Task a)"
   ]
  },
  {
   "cell_type": "code",
   "execution_count": 6,
   "metadata": {},
   "outputs": [],
   "source": [
    "# Data from student lab observations; \n",
    "# x = Galaxy distances in MPc\n",
    "# y = Galaxy velocity in km/sec\n",
    "x = np.array([10.1 ,45.2, 19.7, 31.2, 31.9, 44.0,\n",
    "       14.9, 35.1,  39.9  ])\n",
    "y = np.array([1507.9, 2937.5,  930.4, 2037.1, 2131.1,\n",
    "       2795.6, 1061.8, 2464.8, \n",
    "       1971.1])\n",
    "sigma = 200"
   ]
  },
  {
   "cell_type": "markdown",
   "metadata": {},
   "source": [
    "No error on x, and a constant standard deviation of $\\sigma$ on y. This makes the probability to measure a certain datapoint to be normally distributed around the model value: \n",
    "\n",
    "$$p(x_i,y_i|M, I) \\sim N(y_M(x_i;\\theta), \\sigma) $$\n",
    "\n",
    "where $\\theta$ are the model parameters. The total likelihood is thus:\n",
    "\n",
    "$$ \\log{p(D|M,I)} = \\log{\\prod_{i=0}^{N-1}p(x_i, y_i|M,I)} = -N \\log{\\sqrt{2\\pi\\sigma^2}} + \\sum_{i=0}^{N-1} \\frac{-[y_i-y_M(x_i;\\theta)]}{2\\sigma^2}  $$\n",
    "\n",
    "We make the prior that the data can be fitted with a straight line. Thus our model $M$ only has two parameters in $\\theta$: the intercept $m$ and the slope $k$. Hubbles law states that $y = H_0 \\cdot x$, which means that we are only really interested in $k$."
   ]
  },
  {
   "cell_type": "markdown",
   "metadata": {},
   "source": [
    "#### Step 1: Maximum likelihood estimate"
   ]
  },
  {
   "cell_type": "code",
   "execution_count": 22,
   "metadata": {},
   "outputs": [
    {
     "name": "stdout",
     "output_type": "stream",
     "text": [
      "      fun: 123.73025151314098\n",
      " hess_inv: array([[ 3.28622085e+04, -9.40284257e+02],\n",
      "       [-9.40284257e+02,  3.11070901e+01]])\n",
      "      jac: array([0., 0.])\n",
      "  message: 'Optimization terminated successfully.'\n",
      "     nfev: 56\n",
      "      nit: 5\n",
      "     njev: 14\n",
      "   status: 0\n",
      "  success: True\n",
      "        x: array([506.32926036,  48.824909  ])\n"
     ]
    }
   ],
   "source": [
    "# return a simple maximum likelihood estimate\n",
    "def log_likelihood(theta, x, y, sigma):\n",
    "    term_1 = -len(x)*np.log(2*np.pi*sigma**2)\n",
    "    y_M = theta[0]*np.ones((len(x))) + theta[1]*x\n",
    "    term_2 = (-(y-y_M)**2/(2*sigma**2)).sum()\n",
    "    return term_1 + term_2\n",
    "\n",
    "\n",
    "def negative_log_likelihood(theta,x,y,sigma):\n",
    "    return -log_likelihood(theta, x, y, sigma)\n",
    "\n",
    "# Maximize using scipy optimize\n",
    "max_like_est = opt.minimize(negative_log_likelihood, [0,0], args=(x, y, sigma))\n",
    "print(max_like_est)"
   ]
  },
  {
   "cell_type": "markdown",
   "metadata": {},
   "source": [
    "The maximum likelihood estimate for the Hubble constant is $H_0 \\approx 48.8$."
   ]
  },
  {
   "cell_type": "markdown",
   "metadata": {},
   "source": [
    "#### Step 2: Bayesian analysis"
   ]
  },
  {
   "cell_type": "code",
   "execution_count": null,
   "metadata": {},
   "outputs": [],
   "source": []
  }
 ],
 "metadata": {
  "kernelspec": {
   "display_name": "Python 3",
   "language": "python",
   "name": "python3"
  },
  "language_info": {
   "codemirror_mode": {
    "name": "ipython",
    "version": 3
   },
   "file_extension": ".py",
   "mimetype": "text/x-python",
   "name": "python",
   "nbconvert_exporter": "python",
   "pygments_lexer": "ipython3",
   "version": "3.7.1"
  }
 },
 "nbformat": 4,
 "nbformat_minor": 2
}
