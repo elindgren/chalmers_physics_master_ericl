{
 "cells": [
  {
   "cell_type": "markdown",
   "metadata": {},
   "source": [
    "## Lindgren, Eric\n",
    "## 970222-1954"
   ]
  },
  {
   "cell_type": "code",
   "execution_count": 14,
   "metadata": {},
   "outputs": [],
   "source": [
    "# Imports\n",
    "%matplotlib inline\n",
    "import matplotlib.pyplot as plt\n",
    "import numpy as np\n",
    "import seaborn; seaborn.set(\"talk\") # for plot formatting\n",
    "\n",
    "import scipy.optimize as opt"
   ]
  },
  {
   "cell_type": "markdown",
   "metadata": {},
   "source": [
    "# Problem 5"
   ]
  },
  {
   "cell_type": "markdown",
   "metadata": {},
   "source": [
    "## Task a)"
   ]
  },
  {
   "cell_type": "code",
   "execution_count": 63,
   "metadata": {},
   "outputs": [
    {
     "data": {
      "text/plain": [
       "Text(0.5, 1.0, 'Generated data')"
      ]
     },
     "execution_count": 63,
     "metadata": {},
     "output_type": "execute_result"
    },
    {
     "data": {
      "image/png": "[encoded data removed]",
      "text/plain": [
       "<Figure size 432x288 with 1 Axes>"
      ]
     },
     "metadata": {},
     "output_type": "display_data"
    }
   ],
   "source": [
    "# Data from student lab observations; \n",
    "# x = Galaxy distances in MPc\n",
    "# y = Galaxy velocity in km/sec\n",
    "x = np.array([10.1 ,45.2, 19.7, 31.2, 31.9, 44.0,\n",
    "       14.9, 35.1,  39.9  ])\n",
    "y = np.array([1507.9, 2937.5,  930.4, 2037.1, 2131.1,\n",
    "       2795.6, 1061.8, 2464.8, \n",
    "       1971.1])\n",
    "sigma = 200\n",
    "\n",
    "# Plot data\n",
    "fig, ax = plt.subplots()\n",
    "ax.plot(x,y, 'b.', label='Data')\n",
    "ax.set_xlabel(\"Galaxy distance, MPc\")\n",
    "ax.set_ylabel(\"Galaxy velocity, km/sec\")\n",
    "plt.title(\"Generated data\")"
   ]
  },
  {
   "cell_type": "markdown",
   "metadata": {},
   "source": [
    "No error on x, and a constant standard deviation of $\\sigma$ on y. This makes the probability to measure a certain datapoint to be normally distributed around the model value: \n",
    "\n",
    "$$p(x_i,y_i|M, I) \\sim N(y_M(x_i;\\theta), \\sigma) $$\n",
    "\n",
    "where $\\theta$ are the model parameters. The total likelihood is thus:\n",
    "\n",
    "$$ \\log{p(D|M,I)} = \\log{\\prod_{i=0}^{N-1}p(x_i, y_i|M,I)} = -N \\log{\\sqrt{2\\pi\\sigma^2}} + \\sum_{i=0}^{N-1} \\frac{-[y_i-y_M(x_i;\\theta)]}{2\\sigma^2}  $$\n",
    "\n",
    "We make the prior that the data can be fitted with a straight line. Thus our model $M$ only has two parameters in $\\theta$: the intercept $m$ and the slope $k$. Hubbles law states that $y = H_0 \\cdot x$, which means that we are only really interested in $k$."
   ]
  },
  {
   "cell_type": "markdown",
   "metadata": {},
   "source": [
    "#### Step 1: Maximum likelihood estimate"
   ]
  },
  {
   "cell_type": "code",
   "execution_count": 56,
   "metadata": {},
   "outputs": [
    {
     "data": {
      "text/plain": [
       "'Maximum likelihood approach yields: m, k=[506.32926036  48.824909  ]'"
      ]
     },
     "metadata": {},
     "output_type": "display_data"
    }
   ],
   "source": [
    "# return a simple maximum likelihood estimate\n",
    "def log_likelihood(theta, x, y, sigma):\n",
    "    term_1 = -len(x)*np.log(2*np.pi*sigma**2)\n",
    "    y_M = theta[0]*np.ones((len(x))) + theta[1]*x\n",
    "    term_2 = (-(y-y_M)**2/(2*sigma**2)).sum()\n",
    "    return term_1 + term_2\n",
    "\n",
    "\n",
    "def negative_log_likelihood(theta,x,y,sigma):\n",
    "    return -log_likelihood(theta, x, y, sigma)\n",
    "\n",
    "# Maximize using scipy optimize\n",
    "max_like_est = opt.minimize(negative_log_likelihood, [0,0], args=(x, y, sigma))\n",
    "display(f'Maximum likelihood approach yields: m, k={max_like_est.x}')"
   ]
  },
  {
   "cell_type": "markdown",
   "metadata": {},
   "source": [
    "The maximum likelihood estimate for the Hubble constant is $H_0 \\approx 48.8$."
   ]
  },
  {
   "cell_type": "markdown",
   "metadata": {},
   "source": [
    "#### Step 2: Bayesian analysis"
   ]
  },
  {
   "cell_type": "code",
   "execution_count": 60,
   "metadata": {},
   "outputs": [
    {
     "data": {
      "text/plain": [
       "'Bayesian approach yields: m, k=[306.45253168  54.31160937]'"
      ]
     },
     "metadata": {},
     "output_type": "display_data"
    }
   ],
   "source": [
    "# define log of prior, use log likelihood from step 1. We do not care \n",
    "# about the normalization in Bayes theorem.\n",
    "def log_prior_intercept(m, sigma):\n",
    "    fun = 1/np.sqrt(2*np.pi*sigma**2)*np.exp(-(np.abs(m)**2)/(2*sigma**2))\n",
    "    return np.log(fun)\n",
    "\n",
    "\n",
    "def log_prior_slope(k):\n",
    "    fun =  1/(1+k**2)**(3/2)\n",
    "    return np.log(fun)\n",
    "\n",
    "\n",
    "def log_posterior(theta, x, y, sigma):\n",
    "    log_like = log_likelihood(theta, x, y, sigma)\n",
    "    # Assume m and k to be independent. Then their joint pdf is the product\n",
    "    # of the two.\n",
    "    log_prior = log_prior_intercept(theta[0],sigma) + log_prior_slope(theta[1])\n",
    "    return log_like + log_prior\n",
    "\n",
    "\n",
    "def negative_log_posterior(theta, x, y, sigma):\n",
    "    return -log_posterior(theta,x,y,sigma)\n",
    "\n",
    "# We want to maximize these and find their respective modes. Especially \n",
    "# for the slope.\n",
    "# Use scipy optimize as in step 1 again:\n",
    "max_bayesian_approach = opt.minimize(negative_log_posterior, [0,0], args=(x, y, sigma))\n",
    "display(f'Bayesian approach yields: m, k={max_bayesian_approach.x}')"
   ]
  },
  {
   "cell_type": "markdown",
   "metadata": {},
   "source": [
    "#### Step 3: Bayesian approach to Outliers (good-data/bad-data)"
   ]
  },
  {
   "cell_type": "code",
   "execution_count": 90,
   "metadata": {},
   "outputs": [
    {
     "name": "stdout",
     "output_type": "stream",
     "text": [
      "emcee: Exception while calling your likelihood function:\n",
      "  params: [0.6161296  0.44348427]\n",
      "  args: [1, (2,), array([10.1, 45.2, 19.7, 31.2, 31.9, 44. , 14.9, 35.1, 39.9]), array([1507.9, 2937.5,  930.4, 2037.1, 2131.1, 2795.6, 1061.8, 2464.8,\n",
      "       1971.1]), 200]\n",
      "  kwargs: {}\n",
      "  exception:\n"
     ]
    },
    {
     "name": "stderr",
     "output_type": "stream",
     "text": [
      "Traceback (most recent call last):\n",
      "  File \"C:\\Miniconda3\\envs\\physics\\lib\\site-packages\\emcee\\ensemble.py\", line 519, in __call__\n",
      "    return self.f(x, *self.args, **self.kwargs)\n",
      "TypeError: log_complicated_likelihood() missing 1 required positional argument: 'sigma'\n"
     ]
    },
    {
     "ename": "TypeError",
     "evalue": "log_complicated_likelihood() missing 1 required positional argument: 'sigma'",
     "output_type": "error",
     "traceback": [
      "\u001b[1;31m---------------------------------------------------------------------------\u001b[0m",
      "\u001b[1;31mTypeError\u001b[0m                                 Traceback (most recent call last)",
      "\u001b[1;32m<ipython-input-90-d78c8db91e27>\u001b[0m in \u001b[0;36m<module>\u001b[1;34m\u001b[0m\n\u001b[0;32m     29\u001b[0m \u001b[0msampler\u001b[0m \u001b[1;33m=\u001b[0m \u001b[0memcee\u001b[0m\u001b[1;33m.\u001b[0m\u001b[0mEnsembleSampler\u001b[0m\u001b[1;33m(\u001b[0m\u001b[0mnwalkers\u001b[0m\u001b[1;33m,\u001b[0m \u001b[0mndim\u001b[0m\u001b[1;33m,\u001b[0m \u001b[0mlog_complicated_likelihood\u001b[0m\u001b[1;33m,\u001b[0m \u001b[0margs\u001b[0m\u001b[1;33m=\u001b[0m\u001b[1;33m[\u001b[0m\u001b[0mm\u001b[0m\u001b[1;33m,\u001b[0m \u001b[0mk\u001b[0m\u001b[1;33m,\u001b[0m \u001b[0mx\u001b[0m\u001b[1;33m,\u001b[0m \u001b[0my\u001b[0m\u001b[1;33m,\u001b[0m \u001b[0msigma\u001b[0m\u001b[1;33m]\u001b[0m\u001b[1;33m)\u001b[0m\u001b[1;33m\u001b[0m\u001b[1;33m\u001b[0m\u001b[0m\n\u001b[0;32m     30\u001b[0m \u001b[1;31m# Burn-in\u001b[0m\u001b[1;33m\u001b[0m\u001b[1;33m\u001b[0m\u001b[1;33m\u001b[0m\u001b[0m\n\u001b[1;32m---> 31\u001b[1;33m \u001b[0mpos\u001b[0m\u001b[1;33m,\u001b[0m \u001b[0mprob\u001b[0m\u001b[1;33m,\u001b[0m \u001b[0mstate\u001b[0m \u001b[1;33m=\u001b[0m \u001b[0msampler\u001b[0m\u001b[1;33m.\u001b[0m\u001b[0mrun_mcmc\u001b[0m\u001b[1;33m(\u001b[0m\u001b[0mp0\u001b[0m\u001b[1;33m,\u001b[0m \u001b[1;36m100\u001b[0m\u001b[1;33m)\u001b[0m\u001b[1;33m\u001b[0m\u001b[1;33m\u001b[0m\u001b[0m\n\u001b[0m\u001b[0;32m     32\u001b[0m \u001b[0msampler\u001b[0m\u001b[1;33m.\u001b[0m\u001b[0mreset\u001b[0m\u001b[1;33m(\u001b[0m\u001b[1;33m)\u001b[0m\u001b[1;33m\u001b[0m\u001b[1;33m\u001b[0m\u001b[0m\n\u001b[0;32m     33\u001b[0m \u001b[1;31m# Start the walk\u001b[0m\u001b[1;33m\u001b[0m\u001b[1;33m\u001b[0m\u001b[1;33m\u001b[0m\u001b[0m\n",
      "\u001b[1;32mC:\\Miniconda3\\envs\\physics\\lib\\site-packages\\emcee\\sampler.py\u001b[0m in \u001b[0;36mrun_mcmc\u001b[1;34m(self, pos0, N, rstate0, lnprob0, **kwargs)\u001b[0m\n\u001b[0;32m    170\u001b[0m \u001b[1;33m\u001b[0m\u001b[0m\n\u001b[0;32m    171\u001b[0m         for results in self.sample(pos0, lnprob0, rstate0, iterations=N,\n\u001b[1;32m--> 172\u001b[1;33m                                    **kwargs):\n\u001b[0m\u001b[0;32m    173\u001b[0m             \u001b[1;32mpass\u001b[0m\u001b[1;33m\u001b[0m\u001b[1;33m\u001b[0m\u001b[0m\n\u001b[0;32m    174\u001b[0m \u001b[1;33m\u001b[0m\u001b[0m\n",
      "\u001b[1;32mC:\\Miniconda3\\envs\\physics\\lib\\site-packages\\emcee\\ensemble.py\u001b[0m in \u001b[0;36msample\u001b[1;34m(self, p0, lnprob0, rstate0, blobs0, iterations, thin, storechain, mh_proposal)\u001b[0m\n\u001b[0;32m    196\u001b[0m         \u001b[0mblobs\u001b[0m \u001b[1;33m=\u001b[0m \u001b[0mblobs0\u001b[0m\u001b[1;33m\u001b[0m\u001b[1;33m\u001b[0m\u001b[0m\n\u001b[0;32m    197\u001b[0m         \u001b[1;32mif\u001b[0m \u001b[0mlnprob\u001b[0m \u001b[1;32mis\u001b[0m \u001b[1;32mNone\u001b[0m\u001b[1;33m:\u001b[0m\u001b[1;33m\u001b[0m\u001b[1;33m\u001b[0m\u001b[0m\n\u001b[1;32m--> 198\u001b[1;33m             \u001b[0mlnprob\u001b[0m\u001b[1;33m,\u001b[0m \u001b[0mblobs\u001b[0m \u001b[1;33m=\u001b[0m \u001b[0mself\u001b[0m\u001b[1;33m.\u001b[0m\u001b[0m_get_lnprob\u001b[0m\u001b[1;33m(\u001b[0m\u001b[0mp\u001b[0m\u001b[1;33m)\u001b[0m\u001b[1;33m\u001b[0m\u001b[1;33m\u001b[0m\u001b[0m\n\u001b[0m\u001b[0;32m    199\u001b[0m \u001b[1;33m\u001b[0m\u001b[0m\n\u001b[0;32m    200\u001b[0m         \u001b[1;31m# Check to make sure that the probability function didn't return\u001b[0m\u001b[1;33m\u001b[0m\u001b[1;33m\u001b[0m\u001b[1;33m\u001b[0m\u001b[0m\n",
      "\u001b[1;32mC:\\Miniconda3\\envs\\physics\\lib\\site-packages\\emcee\\ensemble.py\u001b[0m in \u001b[0;36m_get_lnprob\u001b[1;34m(self, pos)\u001b[0m\n\u001b[0;32m    380\u001b[0m \u001b[1;33m\u001b[0m\u001b[0m\n\u001b[0;32m    381\u001b[0m         \u001b[1;31m# Run the log-probability calculations (optionally in parallel).\u001b[0m\u001b[1;33m\u001b[0m\u001b[1;33m\u001b[0m\u001b[1;33m\u001b[0m\u001b[0m\n\u001b[1;32m--> 382\u001b[1;33m         \u001b[0mresults\u001b[0m \u001b[1;33m=\u001b[0m \u001b[0mlist\u001b[0m\u001b[1;33m(\u001b[0m\u001b[0mM\u001b[0m\u001b[1;33m(\u001b[0m\u001b[0mself\u001b[0m\u001b[1;33m.\u001b[0m\u001b[0mlnprobfn\u001b[0m\u001b[1;33m,\u001b[0m \u001b[1;33m[\u001b[0m\u001b[0mp\u001b[0m\u001b[1;33m[\u001b[0m\u001b[0mi\u001b[0m\u001b[1;33m]\u001b[0m \u001b[1;32mfor\u001b[0m \u001b[0mi\u001b[0m \u001b[1;32min\u001b[0m \u001b[0mrange\u001b[0m\u001b[1;33m(\u001b[0m\u001b[0mlen\u001b[0m\u001b[1;33m(\u001b[0m\u001b[0mp\u001b[0m\u001b[1;33m)\u001b[0m\u001b[1;33m)\u001b[0m\u001b[1;33m]\u001b[0m\u001b[1;33m)\u001b[0m\u001b[1;33m)\u001b[0m\u001b[1;33m\u001b[0m\u001b[1;33m\u001b[0m\u001b[0m\n\u001b[0m\u001b[0;32m    383\u001b[0m \u001b[1;33m\u001b[0m\u001b[0m\n\u001b[0;32m    384\u001b[0m         \u001b[1;32mtry\u001b[0m\u001b[1;33m:\u001b[0m\u001b[1;33m\u001b[0m\u001b[1;33m\u001b[0m\u001b[0m\n",
      "\u001b[1;32mC:\\Miniconda3\\envs\\physics\\lib\\site-packages\\emcee\\ensemble.py\u001b[0m in \u001b[0;36m__call__\u001b[1;34m(self, x)\u001b[0m\n\u001b[0;32m    517\u001b[0m     \u001b[1;32mdef\u001b[0m \u001b[0m__call__\u001b[0m\u001b[1;33m(\u001b[0m\u001b[0mself\u001b[0m\u001b[1;33m,\u001b[0m \u001b[0mx\u001b[0m\u001b[1;33m)\u001b[0m\u001b[1;33m:\u001b[0m\u001b[1;33m\u001b[0m\u001b[1;33m\u001b[0m\u001b[0m\n\u001b[0;32m    518\u001b[0m         \u001b[1;32mtry\u001b[0m\u001b[1;33m:\u001b[0m\u001b[1;33m\u001b[0m\u001b[1;33m\u001b[0m\u001b[0m\n\u001b[1;32m--> 519\u001b[1;33m             \u001b[1;32mreturn\u001b[0m \u001b[0mself\u001b[0m\u001b[1;33m.\u001b[0m\u001b[0mf\u001b[0m\u001b[1;33m(\u001b[0m\u001b[0mx\u001b[0m\u001b[1;33m,\u001b[0m \u001b[1;33m*\u001b[0m\u001b[0mself\u001b[0m\u001b[1;33m.\u001b[0m\u001b[0margs\u001b[0m\u001b[1;33m,\u001b[0m \u001b[1;33m**\u001b[0m\u001b[0mself\u001b[0m\u001b[1;33m.\u001b[0m\u001b[0mkwargs\u001b[0m\u001b[1;33m)\u001b[0m\u001b[1;33m\u001b[0m\u001b[1;33m\u001b[0m\u001b[0m\n\u001b[0m\u001b[0;32m    520\u001b[0m         \u001b[1;32mexcept\u001b[0m\u001b[1;33m:\u001b[0m\u001b[1;33m\u001b[0m\u001b[1;33m\u001b[0m\u001b[0m\n\u001b[0;32m    521\u001b[0m             \u001b[1;32mimport\u001b[0m \u001b[0mtraceback\u001b[0m\u001b[1;33m\u001b[0m\u001b[1;33m\u001b[0m\u001b[0m\n",
      "\u001b[1;31mTypeError\u001b[0m: log_complicated_likelihood() missing 1 required positional argument: 'sigma'"
     ]
    }
   ],
   "source": [
    "def complicated_likelihood(m, k, eps, g, x, y, sigma):\n",
    "    # eps, g, x and y are all vectors\n",
    "    y_M = m*np.ones((len(x))) + k*x\n",
    "    gauss = 1/np.sqrt(2*np.pi*eps**2)*np.exp(-((y_M-y)**2)/(2*eps**2))\n",
    "    lorentz = 1/(np.sqrt(2)*np.pi*sigma)*1/(1+((y_M-y)**2)/(2*sigma**2))\n",
    "    return g*(gauss) + (np.ones((len(g)))-g)*lorentz\n",
    "\n",
    "\n",
    "def log_complicated_likelihood(eps, g, m, k, x, y, sigma):\n",
    "    return np.log(complicated_likelihood(m, k, eps, g, x, y, sigma))\n",
    "\n",
    "\n",
    "eps = np.ones((len(x)))*1e3\n",
    "g = np.ones((len(x)))\n",
    "k = 2,\n",
    "m = 1 \n",
    "#print(complicated_likelihood(m, k, eps, g, x, y, sigma))\n",
    "\n",
    "# Use an emcee sampler to explore the parameter space for this pdf. \n",
    "# Study the log of this pdf\n",
    "import emcee\n",
    "\n",
    "ndim = 2  # epsilon, m, k, g TODO include m and k\n",
    "nwalkers = 10  # nbr of mcmc walkers\n",
    "# Randomize the starting position in epsilon and g space\n",
    "p0 = np.random.rand(ndim * nwalkers).reshape((nwalkers, ndim))\n",
    "# Define the sampler\n",
    "sampler = emcee.EnsembleSampler(nwalkers, ndim, log_complicated_likelihood, args=[m, k, x, y, sigma])\n",
    "# Burn-in\n",
    "pos, prob, state = sampler.run_mcmc(p0, 100)\n",
    "sampler.reset()\n",
    "# Start the walk\n",
    "sampler.run_mcmc(pos, 1000)\n",
    "print(EnsembleSampler.chain)\n",
    "# Marginalize out epsilon, m and g - plot pdf for k, our desired parameter\n"
   ]
  },
  {
   "cell_type": "code",
   "execution_count": null,
   "metadata": {},
   "outputs": [],
   "source": []
  }
 ],
 "metadata": {
  "kernelspec": {
   "display_name": "Python 3",
   "language": "python",
   "name": "python3"
  },
  "language_info": {
   "codemirror_mode": {
    "name": "ipython",
    "version": 3
   },
   "file_extension": ".py",
   "mimetype": "text/x-python",
   "name": "python",
   "nbconvert_exporter": "python",
   "pygments_lexer": "ipython3",
   "version": "3.7.4"
  }
 },
 "nbformat": 4,
 "nbformat_minor": 2
}
