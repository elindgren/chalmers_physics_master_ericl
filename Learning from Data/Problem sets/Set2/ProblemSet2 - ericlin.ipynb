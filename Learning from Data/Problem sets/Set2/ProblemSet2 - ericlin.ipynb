{
 "cells": [
  {
   "cell_type": "markdown",
   "metadata": {},
   "source": [
    "## Lindgren, Eric\n",
    "## 970222-1954"
   ]
  },
  {
   "cell_type": "markdown",
   "metadata": {},
   "source": [
    "# Problem 1:Coin tossing"
   ]
  },
  {
   "cell_type": "code",
   "execution_count": 1,
   "metadata": {},
   "outputs": [],
   "source": [
    "# imports\n",
    "import numpy as np\n",
    "import matplotlib.pyplot as plt\n",
    "import scipy.stats as stats\n",
    "import scipy.optimize as opt\n"
   ]
  },
  {
   "cell_type": "code",
   "execution_count": 2,
   "metadata": {},
   "outputs": [
    {
     "name": "stdout",
     "output_type": "stream",
     "text": [
      "(0.025000000000000022, 0.975)\n"
     ]
    }
   ],
   "source": [
    "# sample code from demo-BayesianBasics\n",
    "def dist_stuff(dist):\n",
    "    \"\"\"\n",
    "    Finds the median, mean, and 68%/95% credible intervals for the given \n",
    "    1-d distribution (which is an object from scipy.stats).  \n",
    "    \"\"\"\n",
    "    # For x = median, mean: return x and the value of the pdf at x as a list\n",
    "    median = [dist.median(), dist.pdf(dist.median())]  \n",
    "    mean = [dist.mean(), dist.pdf(dist.mean())]\n",
    "    # The left and right limits of the credibility interval are returned\n",
    "    cred68 = dist.interval(0.68)\n",
    "    cred95 = dist.interval(0.95)\n",
    "    return median, mean, cred68, cred95\n",
    "\n",
    "def print_uniform_prior_measures(N,heads):\n",
    "    \"\"\"\n",
    "    Prints out the mean, and 68 and 95 CIs for a uniform prior. Note that this means alpha=beta=1.\n",
    "    \"\"\"\n",
    "    median, mean, cred68, cred95 = dist_stuff(stats.beta(1+heads,1+N-heads))\n",
    "    return {\"median\": median,\n",
    "            \"cred95\":cred95}    \n",
    "print_uniform_prior_measures(1,1)\n",
    "\n",
    "x = stats.beta(1,1)\n",
    "print(x.interval(0.95))\n"
   ]
  },
  {
   "cell_type": "markdown",
   "metadata": {},
   "source": [
    "A uniform prior is just a constant, which means that it can be incorporated into our normalization. Thus, it won't affect our prior. Our posterior will therefore be our likelihood for procuring j heads in n tosses, up to a normalization factor. This means that we can directly update our posterior by skewing our prior. (Stämmer inte, men hur tänka??)"
   ]
  },
  {
   "cell_type": "code",
   "execution_count": 3,
   "metadata": {},
   "outputs": [
    {
     "data": {
      "text/plain": [
       "{'8': {'data': {'median': [0.28623666802278264, 2.7300869308004185],\n",
       "   'cred95': (0.07485463141969184, 0.600093573716312)}},\n",
       " '64': {'data': {'median': [0.5153054836399436, 6.46057700856088],\n",
       "   'cred95': (0.3954424614284132, 0.6339902241537905)}},\n",
       " '512': {'data': {'median': [0.519480506317825, 18.09424235130088],\n",
       "   'cred95': (0.47625086380002707, 0.5625162246793547)}},\n",
       " '4096': {'data': {'median': [0.5290432798737352, 51.1603477960835],\n",
       "   'cred95': (0.5137451432009227, 0.5443051209871588)}}}"
      ]
     },
     "metadata": {},
     "output_type": "display_data"
    }
   ],
   "source": [
    "def count_heads(raw_data, n):\n",
    "    heads = 0\n",
    "    for i in range(n):\n",
    "        if raw_data[i]:\n",
    "            heads += 1\n",
    "    return heads\n",
    "\n",
    "# Read data\n",
    "f = open('cointosses.dat', 'r')\n",
    "contents = f.read()\n",
    "# Split data on newline\n",
    "raw_data = [int(s) for s in contents.split('\\n')[1:-1]]  # Ignore header part, and last row which is a blank ''\n",
    "# 0 = tails, 1 = heads.\n",
    "# Extract mean and 95% DOB intervals from the first 8/64/512/4096 tosses.\n",
    "toss_data = {\n",
    "    \"8\": {},\n",
    "    \"64\": {},\n",
    "    \"512\": {},\n",
    "    \"4096\": {},\n",
    "}\n",
    "# Assume uniform prior for the probability to of obtaining heads in a single toss. \n",
    "# A uniform prior is a beta distribution with alpha=beta=1\n",
    "\n",
    "\n",
    "# Iterate throgh data and calculate the desired results:\n",
    "for case in toss_data:\n",
    "    N = int(case)\n",
    "    n_heads = count_heads(raw_data, N)\n",
    "    data = print_uniform_prior_measures(N, n_heads)\n",
    "    toss_data[case][\"data\"] = data\n",
    "# Print the result\n",
    "display(toss_data)"
   ]
  },
  {
   "cell_type": "markdown",
   "metadata": {},
   "source": [
    "# Problem 2: Straight line fitting"
   ]
  },
  {
   "cell_type": "code",
   "execution_count": 4,
   "metadata": {},
   "outputs": [
    {
     "data": {
      "image/png": "[encoded data removed]",
      "text/plain": [
       "<Figure size 432x288 with 1 Axes>"
      ]
     },
     "metadata": {
      "needs_background": "light"
     },
     "output_type": "display_data"
    }
   ],
   "source": [
    "# Read data\n",
    "def read_file(file):\n",
    "    f = open(file, 'r')\n",
    "    contents = f.read()\n",
    "    raw_data = [s.split(' ') for s in contents.split('\\n')[1:-1]]  # Ignore header\n",
    "    x = np.zeros((len(raw_data),1))\n",
    "    y = np.zeros((len(raw_data),1))\n",
    "    for i in range(len(raw_data)):\n",
    "        x[i] = float(raw_data[i][0])\n",
    "        y[i] = float(raw_data[i][1])\n",
    "    return x,y\n",
    "\n",
    "file = 'straightline.dat'\n",
    "x, y = read_file(file)\n",
    "\n",
    "# Plot the data\n",
    "fig, ax = plt.subplots()\n",
    "ax.plot(x,y, 'b.', label=\"Data\")\n",
    "ax.grid()\n",
    "plt.xlabel(\"x\")\n",
    "plt.ylabel(\"y\")\n",
    "ax.legend()\n",
    "plt.title(f\"Data from {file}\")\n",
    "\n",
    "\n",
    "sigma = 50  # Define the error"
   ]
  },
  {
   "cell_type": "markdown",
   "metadata": {},
   "source": [
    "## Study a linear model, with parameters $m$ and $b$. \n",
    "\n",
    "Assume our errors in our measurement data to be normally distributed with fixed error. This means that the probability for acquiring data point $d_i$ as a function of $\\theta$ will be given as: \n",
    "\n",
    "$$ p(d_i | \\theta, I) = p(x_i, y_i |\\theta, I) = \\frac{1}{\\sqrt{2 \\pi \\sigma^2}}e^{\\frac{-(y_i-y_{M}(x_i;\\theta))}{2 \\sigma^2}},$$\n",
    "Here, our data $d_i$ is the value $y_i$ measured at $x_i$. Thus, we get a Gaussian for $y_i$ centered around it's real value $y_{M}(x_i;\\theta)$ with a standard deviation $\\sigma$. Note that $\\sigma$ is independent of $i$.\n",
    "\n",
    "The probability to observe all data $D$, the likelihood of $D$, can be written as a product of the probability to measure a single datapoint. The logarithm of this is: \n",
    "\n",
    "$$ \\log(p(D | \\theta, I)) = -\\frac{1}{2} \\sum_{i=0}^{N-1} \\log(2 \\pi \\sigma^2) + \\frac{[y_i - y_M(x_i; \\theta)]}{\\sigma^2} = $$\n",
    "$$ =  -\\frac{1}{2} \\left [N \\log(2 \\pi \\sigma^2) + \\sum_{i=0}^{N-1}\\frac{[y_i - y_M(x_i; \\theta)]}{\\sigma^2} \\right] $$\n",
    "Here $I$ means all other information about our situation. For instance, it contains the ascertation that a straight line fits our data well. \n",
    "\n",
    "We are to maximize the posterior $p(\\theta|D,I)$ given two different priors. Since we just want to maximize it, we can utilize the \"un-normalized\" Bayes theorem: \n",
    "\n",
    "$$ p(\\theta|D,I) \\propto p(D|\\theta, I)p(\\theta|I) \\rightarrow$$\n",
    "$$ \\rightarrow \\log(p(\\theta|D,I)) = \\log(p(D|\\theta, I)) + \\log((\\theta|I)) $$\n",
    "This is what we want to maximize. "
   ]
  },
  {
   "cell_type": "code",
   "execution_count": 5,
   "metadata": {},
   "outputs": [],
   "source": [
    "def log_likelihood(x,y,theta, sigma, positive = False):\n",
    "    y_m = theta[0] + theta[1]*x\n",
    "    term1 = len(x)*np.log((2*np.pi*sigma))\n",
    "    term2 = np.sum(y-y_m)/(sigma**2)\n",
    "    if positive:\n",
    "        return (1/2)*(term1+term2)   \n",
    "    else:\n",
    "        return (-1/2)*(term1+term2)\n",
    "    \n",
    "def log_flat_prior(theta):\n",
    "    if np.all(np.abs(theta) < 1000):\n",
    "        return 0 # log(1)\n",
    "    else:\n",
    "        return -np.inf  # log(0)\n",
    "    \n",
    "def log_symmetric_prior(theta):\n",
    "    if np.abs(theta[0]) < 1000:\n",
    "        return -1.5 * np.log(1 + theta[1] ** 2)\n",
    "    else:\n",
    "        return -np.inf  # log(0)\n",
    "    \n",
    "def log_posterior(theta, flat_prior, x, y, sigma):\n",
    "    if flat_prior:\n",
    "        return log_flat_prior(theta) + log_likelihood(x,y,theta, sigma)\n",
    "    else: \n",
    "        return log_symmetric_prior(theta) + log_likelihood(x,y,theta, sigma)\n",
    "    \n",
    "def max_posterior_flat(theta):\n",
    "    return log_flat_prior(theta) + log_likelihood(x,y,theta, sigma, True)  # Minimization alghoritm, so invert sign\n",
    "def max_posterior_symmetric(theta):\n",
    "    return log_symmetric_prior(theta) + log_likelihood(x,y,theta, sigma, True)"
   ]
  },
  {
   "cell_type": "code",
   "execution_count": 6,
   "metadata": {},
   "outputs": [
    {
     "name": "stdout",
     "output_type": "stream",
     "text": [
      "Flat: \n",
      "      fun: 11.231316695609355\n",
      " hess_inv: array([[-8.58931200e+06, -4.83084288e+08],\n",
      "       [-4.83084288e+08, -2.71698597e+10]])\n",
      "      jac: array([-0.00100005, -0.05623841])\n",
      "  message: 'Desired error not necessarily achieved due to precision loss.'\n",
      "     nfev: 468\n",
      "      nit: 1\n",
      "     njev: 114\n",
      "   status: 2\n",
      "  success: False\n",
      "        x: array([ 1.02392578, 57.58813477])\n",
      "\n",
      "Symemtric: \n",
      "      fun: -0.929085193293302\n",
      " hess_inv: array([[ 6.50736055e-01, -1.96612515e+01],\n",
      "       [-1.96612515e+01, -1.10579760e+03]])\n",
      "      jac: array([-0.00100005, -0.10831678])\n",
      "  message: 'Desired error not necessarily achieved due to precision loss.'\n",
      "     nfev: 460\n",
      "      nit: 1\n",
      "     njev: 112\n",
      "   status: 2\n",
      "  success: False\n",
      "        x: array([ 1.02392578, 57.58813477])\n"
     ]
    },
    {
     "name": "stderr",
     "output_type": "stream",
     "text": [
      "C:\\Users\\ericl\\Anaconda3\\lib\\site-packages\\scipy\\optimize\\optimize.py:663: RuntimeWarning: invalid value encountered in double_scalars\n",
      "  grad[k] = (f(*((xk + d,) + args)) - f0) / d[k]\n",
      "C:\\Users\\ericl\\Anaconda3\\lib\\site-packages\\scipy\\optimize\\optimize.py:663: RuntimeWarning: invalid value encountered in double_scalars\n",
      "  grad[k] = (f(*((xk + d,) + args)) - f0) / d[k]\n",
      "C:\\Users\\ericl\\Anaconda3\\lib\\site-packages\\scipy\\optimize\\optimize.py:663: RuntimeWarning: invalid value encountered in double_scalars\n",
      "  grad[k] = (f(*((xk + d,) + args)) - f0) / d[k]\n"
     ]
    }
   ],
   "source": [
    "# Maximize the posterior using scipy.optimize\n",
    "print(f'Flat: \\n{opt.minimize(max_posterior_flat,  [0,0])}')\n",
    "print()\n",
    "print(f'Symemtric: \\n{opt.minimize(max_posterior_symmetric,  [0,0])}')"
   ]
  },
  {
   "cell_type": "code",
   "execution_count": 7,
   "metadata": {},
   "outputs": [
    {
     "data": {
      "text/plain": [
       "<matplotlib.contour.QuadContourSet at 0x1d2a22cbe80>"
      ]
     },
     "execution_count": 7,
     "metadata": {},
     "output_type": "execute_result"
    },
    {
     "data": {
      "image/png": "[encoded data removed]",
      "text/plain": [
       "<Figure size 432x288 with 2 Axes>"
      ]
     },
     "metadata": {
      "needs_background": "light"
     },
     "output_type": "display_data"
    }
   ],
   "source": [
    "# Plot in theta space\n",
    "b = np.linspace(-100,100,100)\n",
    "m = np.linspace(-100,100,100)\n",
    "\n",
    "posterior_map_flat = np.zeros((len(b), len(m))) \n",
    "posterior_map_symmetric = np.zeros((len(b), len(m))) \n",
    "\n",
    "for i in range(len(b)):\n",
    "    for j in range(len(m)):\n",
    "        posterior_map_flat[i,j] = log_posterior([b[i], m[j]], True, x, y, sigma)\n",
    "        posterior_map_symmetric[i,j] = log_posterior([b[i], m[j]], False, x, y, sigma)\n",
    "\n",
    "B, M = np.meshgrid(b, m)\n",
    "fig, ax = plt.subplots(1,2)\n",
    "ax[0].contourf(B, M, posterior_map_flat)\n",
    "ax[1].contourf(B, M, posterior_map_symmetric)\n"
   ]
  },
  {
   "cell_type": "markdown",
   "metadata": {},
   "source": [
    "Questions:\n",
    "* The modes are at:\n",
    "    - Flat: $b=1.02392578$, $m=57.58813477$\n",
    "    - Symmetric: $b=1.02392578$, $m=57.58813477$\n",
    "    - Something wrong: I got the same result for both posteriors with very little data. TODO\n",
    "* The plots can be seen above TODO\n",
    "* The two parameters are TODO"
   ]
  },
  {
   "cell_type": "markdown",
   "metadata": {},
   "source": [
    "# Problem 3: Signal and background"
   ]
  },
  {
   "cell_type": "code",
   "execution_count": 8,
   "metadata": {},
   "outputs": [
    {
     "name": "stdout",
     "output_type": "stream",
     "text": [
      "3.0\n"
     ]
    }
   ],
   "source": [
    "# Generate data\n",
    "# This function generates data according to the statistical model\n",
    "A_true = 1.\n",
    "B_true = 2.\n",
    "width = np.sqrt(5.)   \n",
    "x_0 = 0\n",
    "\n",
    "def exact_data(A, B, n_0, x_k, x_0=0., width=np.sqrt(5.)):\n",
    "    \"\"\"\n",
    "    Return the exact signal plus background.  The overall scale is n_0,\n",
    "    which is determined by how long counts are collected. \n",
    "    \"\"\"\n",
    "    return n_0 * (A * np.exp(-(x_k - x_0)**2/(2.*width**2)) + B)\n",
    "\n",
    "print(exact_data(A_true, B_true, 1, 0))"
   ]
  },
  {
   "cell_type": "markdown",
   "metadata": {},
   "source": [
    "Define our own notation for the Poisson distribution, since we're doing a counting experiment: \n",
    "\n",
    "$$ p(N|D) = \\frac{D^N e^{-D}}{N!} \\hspace{10px} \\text{ for } N \\geq 0$$\n",
    "N is an integer."
   ]
  },
  {
   "cell_type": "code",
   "execution_count": 9,
   "metadata": {},
   "outputs": [],
   "source": [
    "# make a dataset for exploring\n",
    "def make_dataset(A_true, B_true, width, x_0, databins, delta_x=1, D_max=100):\n",
    "    \"\"\"\n",
    "    Create a data set based on the number of bins (databins), the spacing\n",
    "    of bins (delta_x), and the maximum we want the exact result to have\n",
    "    (D_max, this fixes the n_0 parameter).\n",
    "    \n",
    "    Return arrays for the x points (xk_pts), the corresponding values of the\n",
    "    exact signal plus background in those bins (Dk_pts), the measured values\n",
    "    in those bins (Nk_pts, integers drawn from a Poisson distribution), the \n",
    "    maximum extent of the bins (x_max) and n_0.\n",
    "    \"\"\"\n",
    "    \n",
    "    # set up evenly spaced bins, centered on x_0\n",
    "    x_max = x_0 + delta_x * (databins-1)/2\n",
    "    xk_pts = np.arange(-x_max, x_max + delta_x, delta_x, dtype=int)\n",
    "    \n",
    "    # scale n_0 so maximum of the \"true\" signal plus background is D_max\n",
    "    n_0 = D_max / (A_true + B_true)  \n",
    "    Dk_pts = exact_data(A_true, B_true, n_0, xk_pts, width=width)\n",
    "    \n",
    "    # sample for each k to determine the measured N_k\n",
    "    Nk_pts = [stats.poisson.rvs(mu=Dk) for Dk in Dk_pts]\n",
    "    \n",
    "    return xk_pts, Dk_pts, Nk_pts, x_max, n_0"
   ]
  },
  {
   "cell_type": "markdown",
   "metadata": {},
   "source": [
    "### Task 1: Plot data"
   ]
  },
  {
   "cell_type": "code",
   "execution_count": 10,
   "metadata": {},
   "outputs": [
    {
     "data": {
      "text/plain": [
       "<matplotlib.legend.Legend at 0x1d2a2386e10>"
      ]
     },
     "execution_count": 10,
     "metadata": {},
     "output_type": "execute_result"
    },
    {
     "data": {
      "image/png": "[encoded data removed]",
      "text/plain": [
       "<Figure size 432x288 with 1 Axes>"
      ]
     },
     "metadata": {
      "needs_background": "light"
     },
     "output_type": "display_data"
    }
   ],
   "source": [
    "# Plot the data\n",
    "n_0 = 100 # Set scale to 1\n",
    "# x = np.linspace(-10,10, 100)\n",
    "data = [exact_data(A_true, B_true, n_0, xi, x_0, width) for xi in x]\n",
    "\n",
    "real_noise = np.ones((len(x),1))*B_true*n_0\n",
    "\n",
    "fig, ax = plt.subplots()\n",
    "ax.plot(x, data, 'b', label='Data')\n",
    "ax.plot(x, real_noise, 'r', label='Error')\n",
    "ax.plot(x, np.zeros((len(x),1)), 'k', label=\"y=0\")\n",
    "#ax.fill_between(x, 0, B_true, label='Error')\n",
    "ax.grid()\n",
    "plt.ylabel(\"y\")\n",
    "plt.xlabel(\"x\")\n",
    "plt.legend()"
   ]
  },
  {
   "cell_type": "markdown",
   "metadata": {},
   "source": [
    "### Task 2: Plot data from different counting experiments"
   ]
  },
  {
   "cell_type": "code",
   "execution_count": 11,
   "metadata": {},
   "outputs": [
    {
     "data": {
      "image/png": "[encoded data removed]",
      "text/plain": [
       "<Figure size 432x288 with 4 Axes>"
      ]
     },
     "metadata": {
      "needs_background": "light"
     },
     "output_type": "display_data"
    }
   ],
   "source": [
    "# Define the different experiments\n",
    "experiements = {\n",
    "    \"Baseline\": {\n",
    "        \"databins\": 15,\n",
    "        \"D_max\": 100\n",
    "    },\n",
    "    \"Low statistics case\": {\n",
    "        \"databins\": 15,\n",
    "        \"D_max\": 10\n",
    "    },\n",
    "    \"Greater range case\": {\n",
    "        \"databins\": 31,\n",
    "        \"D_max\": 100\n",
    "    },\n",
    "    \"Smaller range case\": {\n",
    "        \"databins\": 7,\n",
    "        \"D_max\": 100\n",
    "    }\n",
    "}\n",
    "\n",
    "# Define figure\n",
    "fig, axs = plt.subplots(2,2)\n",
    "axs = axs.reshape(4,)\n",
    "\n",
    "for i, experiment in enumerate(experiements):\n",
    "    databins = experiements[experiment][\"databins\"]\n",
    "    D_max = experiements[experiment][\"D_max\"]\n",
    "    # Fixate the bin width, this is \n",
    "    xk_pts, Dk_pts, Nk_pts, x_max, n_0 = make_dataset(A_true, B_true, width, x_0, databins, 1, D_max)\n",
    "    # Plot them\n",
    "    axs[i].plot(xk_pts, Dk_pts)\n",
    "    axs[i].grid()\n",
    "    axs[i].set_title(experiment)\n",
    "\n",
    "plt.tight_layout()\n",
    "\n",
    "# TODO: What is expection? Is it D_max?"
   ]
  },
  {
   "cell_type": "markdown",
   "metadata": {},
   "source": [
    "### Task 3: Implement functions for log likelihood and uniform log prior"
   ]
  },
  {
   "cell_type": "markdown",
   "metadata": {},
   "source": [
    "We have done our experiments. Now we can use that information to construct our likelihood, since we can determine what the probability for generating that data is according to our Poisson distribution."
   ]
  },
  {
   "cell_type": "code",
   "execution_count": 24,
   "metadata": {},
   "outputs": [
    {
     "name": "stdout",
     "output_type": "stream",
     "text": [
      "0\n"
     ]
    }
   ],
   "source": [
    "def log_uniform_prior(A,B):\n",
    "    if (A > 0 and A < 5) and (B > 0 and B < 5):\n",
    "        return 0 # log(1)\n",
    "    else:\n",
    "        return -np.inf # log(0)\n",
    "\n",
    "def log_likelihood(x, y, width, mean):\n",
    "    # We know the data to be distributed according to a Gaussian with known width (std) and mean"
   ]
  },
  {
   "cell_type": "code",
   "execution_count": null,
   "metadata": {},
   "outputs": [],
   "source": []
  }
 ],
 "metadata": {
  "kernelspec": {
   "display_name": "Python 3",
   "language": "python",
   "name": "python3"
  },
  "language_info": {
   "codemirror_mode": {
    "name": "ipython",
    "version": 3
   },
   "file_extension": ".py",
   "mimetype": "text/x-python",
   "name": "python",
   "nbconvert_exporter": "python",
   "pygments_lexer": "ipython3",
   "version": "3.7.1"
  }
 },
 "nbformat": 4,
 "nbformat_minor": 2
}
