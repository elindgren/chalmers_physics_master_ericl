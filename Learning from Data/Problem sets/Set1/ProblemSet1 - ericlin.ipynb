{
 "cells": [
  {
   "cell_type": "markdown",
   "metadata": {},
   "source": [
    "Name: Lindgren, Eric\n",
    "PSN: 970222-1954\n"
   ]
  },
  {
   "cell_type": "markdown",
   "metadata": {},
   "source": [
    "# Problem 1"
   ]
  },
  {
   "cell_type": "code",
   "execution_count": 1,
   "metadata": {},
   "outputs": [],
   "source": [
    "# imports\n",
    "import numpy as np\n",
    "import matplotlib.pyplot as plt\n",
    "from sklearn.linear_model import LinearRegression\n",
    "from sklearn.model_selection import train_test_split\n",
    "from sklearn.preprocessing import PolynomialFeatures"
   ]
  },
  {
   "cell_type": "markdown",
   "metadata": {},
   "source": [
    "# Problem 2"
   ]
  },
  {
   "cell_type": "code",
   "execution_count": 2,
   "metadata": {},
   "outputs": [],
   "source": [
    "# Generate noisy data with a quadratic feature\n",
    "# use the following code:\n",
    "np.random.seed(42)\n",
    "\n",
    "# X are picked uniform random [0,2]\n",
    "X = 2 * np.random.rand(100, 1)\n",
    "# Linear relation to the predicted value, but with Gaussian noise (mean=0, variance=1)\n",
    "y = 0.5 * X**2 + X + 2 + 0.2 * np.random.randn(100, 1)"
   ]
  },
  {
   "cell_type": "markdown",
   "metadata": {},
   "source": [
    "### a) Perform a linear regression using the Normal Equation"
   ]
  },
  {
   "cell_type": "markdown",
   "metadata": {},
   "source": [
    "The normal equation for linear regression, i.e. the function that calculates \n",
    "the vector $\\vec{\\theta}$ thet gives the $min(\\epsilon)$, can be shown to be $\\theta = (X^T X)^{-1}(X^T \\cdot y)$. "
   ]
  },
  {
   "cell_type": "code",
   "execution_count": 3,
   "metadata": {},
   "outputs": [
    {
     "data": {
      "text/plain": [
       "'$\\\\theta $ =  [[2.11228054]\\n [0.72777588]\\n [0.61621274]]'"
      ]
     },
     "metadata": {},
     "output_type": "display_data"
    }
   ],
   "source": [
    "# First, create the design matrix. \n",
    "# The polynomial is quadratic, our model only \n",
    "# has three features: X^0, X^1, X^2\n",
    "m = len(X)\n",
    "X_d = np.concatenate((X**0, X**1, X**2), axis=1)\n",
    "\n",
    "\n",
    "# Assuming that X_d is invertible, we can solve\n",
    "# the normal equation as follows:\n",
    "inv = np.linalg.inv\n",
    "theta = inv(X_d.T.dot(X_d)).dot(X_d.T.dot(y))\n",
    "display(rf'$\\theta $ =  {theta}')\n",
    "\n"
   ]
  },
  {
   "cell_type": "markdown",
   "metadata": {},
   "source": [
    "### b) Comparisons"
   ]
  },
  {
   "cell_type": "code",
   "execution_count": 4,
   "metadata": {},
   "outputs": [
    {
     "data": {
      "text/plain": [
       "<matplotlib.legend.Legend at 0x200ec5d0748>"
      ]
     },
     "execution_count": 4,
     "metadata": {},
     "output_type": "execute_result"
    },
    {
     "data": {
      "image/png": "[encoded data removed]",
      "text/plain": [
       "<Figure size 432x288 with 1 Axes>"
      ]
     },
     "metadata": {
      "needs_background": "light"
     },
     "output_type": "display_data"
    }
   ],
   "source": [
    "\n",
    "# y = 0.62X^2 + 0.73X + 2.11. This is compared to the \"real\" parameters:\n",
    "# y_real = 0.5X^2 + 1X + 2\n",
    "# Plot data and prediction\n",
    "X_predict = np.linspace(0,2, m)\n",
    "y_predict = theta[0] + theta[1]*X_predict + theta[2]*X_predict**2\n",
    "fig, ax = plt.subplots(1,1)\n",
    "ax.plot(X, y, 'b.', label=\"Data\")\n",
    "ax.plot(X_predict, y_predict, 'r-', label=\"Prediction\")\n",
    "ax.set_xlabel('X')\n",
    "ax.set_ylabel('y')\n",
    "ax.legend(loc='best')"
   ]
  },
  {
   "cell_type": "markdown",
   "metadata": {},
   "source": [
    "# Problem 3"
   ]
  },
  {
   "cell_type": "markdown",
   "metadata": {},
   "source": [
    "### a) Perform linear regression with different models"
   ]
  },
  {
   "cell_type": "code",
   "execution_count": 20,
   "metadata": {},
   "outputs": [
    {
     "name": "stderr",
     "output_type": "stream",
     "text": [
      "C:\\Users\\ericl\\Anaconda3\\lib\\site-packages\\sklearn\\model_selection\\_split.py:2179: FutureWarning: From version 0.21, test_size will always complement train_size unless both are specified.\n",
      "  FutureWarning)\n"
     ]
    }
   ],
   "source": [
    "# Load the data sets, and split it using the given command.\n",
    "def load_data_from_file(file):\n",
    "    datafile = f'DataFiles/{file}.dat'\n",
    "    X, y = np.loadtxt(datafile, unpack=True)\n",
    "    m = len(X)\n",
    "    X = X.reshape(m,1); y = y.reshape(m,1)\n",
    "\n",
    "    # built-in convenience function for splitting data\n",
    "    X_train, X_val, y_train, y_val = train_test_split(X, y, train_size=0.6, random_state=42)\n",
    "    return {'X_train': X_train, 'X_val': X_val, 'y_train': y_train, 'y_val': y_val}\n",
    "\n",
    "datafiles = ['dataset1', 'dataset2', 'dataset3']\n",
    "datasets = {}\n",
    "\n",
    "for file in datafiles:\n",
    "    datasets[file] = load_data_from_file(file)"
   ]
  },
  {
   "cell_type": "code",
   "execution_count": 6,
   "metadata": {},
   "outputs": [],
   "source": [
    "# Implement a function that calculates MSE\n",
    "def calculate_MSE(y, y_predict):\n",
    "    m = len(y)\n",
    "    return 1/m * (y-y_predict).T.dot(y-y_predict)"
   ]
  },
  {
   "cell_type": "code",
   "execution_count": 7,
   "metadata": {},
   "outputs": [],
   "source": [
    "# Perform linear regression using scikit learn with polynomials of orders\n",
    "# 1,2,3,4,5 and 20.\n",
    "fit_coefficients = {}\n",
    "MSE = {}\n",
    "orders = [1,2,3,4,5,20]\n",
    "\n",
    "# Fit data for each order for each of the three datasets\n",
    "for dataset in datasets:\n",
    "    data = datasets[dataset]\n",
    "    MSE[dataset] = {}\n",
    "    fit_coefficients[dataset] = {}\n",
    "    for order in orders:\n",
    "        # Use scikit builtin to generate design matrix easily\n",
    "        poly_features = PolynomialFeatures(degree=order, include_bias=False)\n",
    "        # Notice that we don't include the bias term (X^0) in the design matrix. It\n",
    "        # will be added below.\n",
    "        X_d_train = poly_features.fit_transform(data[\"X_train\"])\n",
    "        # Fit the model to the data\n",
    "        lin_reg = LinearRegression()\n",
    "        lin_reg.fit(X_d_train, data[\"y_train\"])\n",
    "        # Save the coefficients - append to dict after formating intercept\n",
    "        fit_coefficients[dataset][order] = np.concatenate([[lin_reg.intercept_], lin_reg.coef_], axis=1)\n",
    "        # Calculate MSE - to do so generate a new design matrix to predict with\n",
    "        X_d_val = poly_features.fit_transform(data[\"X_val\"])\n",
    "        y_predict = lin_reg.predict(X_d_val)\n",
    "        MSE[dataset][order] = calculate_MSE(data[\"y_val\"], y_predict)\n",
    "\n"
   ]
  },
  {
   "cell_type": "code",
   "execution_count": 8,
   "metadata": {},
   "outputs": [
    {
     "name": "stdout",
     "output_type": "stream",
     "text": [
      "********* Fit Coefficients ***********\n"
     ]
    },
    {
     "data": {
      "text/plain": [
       "{'dataset1': {1: array([[ 8.64449594, -1.23456593]]),\n",
       "  2: array([[ 0.12905012, -0.6366678 ,  2.58692409]]),\n",
       "  3: array([[ 0.041779  ,  1.26978243,  2.52600994, -0.33172737]]),\n",
       "  4: array([[ 1.99354331,  0.99062846,  0.50868938, -0.24964384,  0.24951078]]),\n",
       "  5: array([[ 1.99321069e+00,  9.82284423e-01,  5.09920902e-01,\n",
       "          -2.45236024e-01,  2.49294053e-01, -4.41040648e-04]]),\n",
       "  20: array([[ 1.96142660e+00,  1.01584020e+00,  9.46056377e-01,\n",
       "          -4.15026161e-01, -1.41630078e+00,  1.57342336e-01,\n",
       "           2.70365408e+00, -2.45487039e-02, -2.21424450e+00,\n",
       "          -2.91883234e-02,  1.02081754e+00,  1.71706825e-02,\n",
       "          -2.81717825e-01, -4.14136941e-03,  4.75237088e-02,\n",
       "           5.17837350e-04, -4.79981603e-03, -3.29457649e-05,\n",
       "           2.66446269e-04,  8.42698841e-07, -6.24904496e-06]])},\n",
       " 'dataset2': {1: array([[2.92526837, 0.39697212]]),\n",
       "  2: array([[1.05194098, 0.52850475, 0.56910183]]),\n",
       "  3: array([[ 0.98685097,  1.95040555,  0.52366981, -0.24741449]]),\n",
       "  4: array([[ 0.96771657,  1.95314228,  0.5434469 , -0.24821921, -0.00244611]]),\n",
       "  5: array([[ 0.96605343,  1.91142211,  0.54960451, -0.22618012, -0.00352974,\n",
       "          -0.0022052 ]]),\n",
       "  20: array([[ 8.07133081e-01,  2.07920091e+00,  2.73028196e+00,\n",
       "          -1.07513078e+00, -8.33150392e+00,  7.86711683e-01,\n",
       "           1.35182704e+01, -1.22743524e-01, -1.10712225e+01,\n",
       "          -1.45941616e-01,  5.10408769e+00,  8.58534125e-02,\n",
       "          -1.40858913e+00, -2.07068471e-02,  2.37618544e-01,\n",
       "           2.58918675e-03, -2.39990801e-02, -1.64728825e-04,\n",
       "           1.33223134e-03,  4.21349420e-06, -3.12452248e-05]])},\n",
       " 'dataset3': {1: array([[3.11283585, 0.27668312]]),\n",
       "  2: array([[1.01045328, 0.42429848, 0.63868695]]),\n",
       "  3: array([[ 0.94740386,  1.80162221,  0.59467924, -0.23965796]]),\n",
       "  4: array([[ 0.87086627,  1.81256911,  0.6737876 , -0.24287683, -0.00978446]]),\n",
       "  5: array([[ 0.86421373,  1.64568846,  0.69841804, -0.15472049, -0.01411894,\n",
       "          -0.00882081]]),\n",
       "  20: array([[ 2.28532007e-01,  2.31680358e+00,  9.42112791e+00,\n",
       "          -3.55052308e+00, -3.33260157e+01,  3.14684674e+00,\n",
       "           5.40730817e+01, -4.90974100e-01, -4.42848899e+01,\n",
       "          -5.83766464e-01,  2.04163508e+01,  3.43413650e-01,\n",
       "          -5.63435651e+00, -8.28273883e-02,  9.50474177e-01,\n",
       "           1.03567470e-02, -9.59963206e-02, -6.58915298e-04,\n",
       "           5.32892538e-03,  1.68539768e-05, -1.24980899e-04]])}}"
      ]
     },
     "metadata": {},
     "output_type": "display_data"
    },
    {
     "name": "stdout",
     "output_type": "stream",
     "text": [
      "********* MSE ***********\n"
     ]
    },
    {
     "data": {
      "text/plain": [
       "{'dataset1': {1: array([[39.8789529]]),\n",
       "  2: array([[4.11757722]]),\n",
       "  3: array([[2.54406172]]),\n",
       "  4: array([[0.00550791]]),\n",
       "  5: array([[0.00561872]]),\n",
       "  20: array([[0.00885626]])},\n",
       " 'dataset2': {1: array([[3.1512768]]),\n",
       "  2: array([[1.27826271]]),\n",
       "  3: array([[0.13501289]]),\n",
       "  4: array([[0.13769784]]),\n",
       "  5: array([[0.14046792]]),\n",
       "  20: array([[0.2214065]])},\n",
       " 'dataset3': {1: array([[5.9775575]]),\n",
       "  2: array([[3.88997846]]),\n",
       "  3: array([[2.16020617]]),\n",
       "  4: array([[2.20316537]]),\n",
       "  5: array([[2.24748671]]),\n",
       "  20: array([[3.54250393]])}}"
      ]
     },
     "metadata": {},
     "output_type": "display_data"
    }
   ],
   "source": [
    "# Print results for each dataset and each order\n",
    "print('********* Fit Coefficients ***********')\n",
    "display(fit_coefficients)\n",
    "print('********* MSE ***********')\n",
    "display(MSE)\n",
    "# TODO print in a more descriptive fashion\n",
    "\n"
   ]
  },
  {
   "cell_type": "markdown",
   "metadata": {},
   "source": [
    "Questions to ponder: \n",
    "1: Across all three datasets, the MSE is generally the lowest for the fourth\n",
    "or the fifth order polynomial (fourth is somewhat lower). Since the MSE is calculated against the validation data, this indicates that a fourth (maybe fifth) order polynomial was used to generate the original data. It's the best performing model at the very least.\n",
    "\n",
    "2: I'd say that that would be dataset three, since the MSE is generally larger for all orders model orders than for the other datasets. For orders 4-20, it's atleast an order of magnitude larger. Since the higher order models generally will overfit to the training data to a higher degree than lower order models, this higher MSE indicates that there is a larger discrepancy between the validation and training data in dataset three. This in turn could be due to a larger amount of random noise on the generated data, leading to a larger spread in the data. \n",
    "\n",
    "Another thing that would indicate this is that there are no verification questions regarding the fit on dataset three on OpenTA. This could possibly be due to the variances in the fit parameters being too large. ;)"
   ]
  },
  {
   "cell_type": "markdown",
   "metadata": {},
   "source": [
    "# Problem 4\n"
   ]
  },
  {
   "cell_type": "markdown",
   "metadata": {},
   "source": [
    "# Problem 5"
   ]
  },
  {
   "cell_type": "code",
   "execution_count": 24,
   "metadata": {},
   "outputs": [],
   "source": [
    "datafile = 'DataFiles/dataset3.dat'\n",
    "X, y = np.loadtxt(datafile, unpack=True)\n",
    "m = len(X)\n",
    "X = X.reshape(m,1); y = y.reshape(m,1)"
   ]
  },
  {
   "cell_type": "code",
   "execution_count": 82,
   "metadata": {},
   "outputs": [
    {
     "data": {
      "image/png": "[encoded data removed]",
      "text/plain": [
       "<Figure size 432x288 with 1 Axes>"
      ]
     },
     "metadata": {
      "needs_background": "light"
     },
     "output_type": "display_data"
    }
   ],
   "source": [
    "degrees = [i for i in range(1,10)]\n",
    "\n",
    "# Implement MSE from before as error function\n",
    "\n",
    "# Define figure to plot in \n",
    "fig, ax = plt.subplots(1,1)\n",
    "\n",
    "k = 5;  # K-fold cross validation - number of folds\n",
    "train_scores = np.zeros((len(degrees),1))\n",
    "val_scores = np.zeros((len(degrees),1))\n",
    "\n",
    "for i in range(len(degrees)):\n",
    "    degree = degrees[i]\n",
    "    # Split data into k batches - (k-fold cross validation)\n",
    "    X_k = [X[i*int(m/k):(i+1)*int(m/k)] for i in range(k)]  # Split into k parts\n",
    "    y_k = [y[i*int(m/k):(i+1)*int(m/k)] for i in range(k)]\n",
    "    #X_k = X_k.reshape(len(X_k),1); y_k = y_k.reshape(len(y_k),1)\n",
    "    MSE_trains = np.zeros((k,1))\n",
    "    MSE_vals = np.zeros((k,1))\n",
    "    for idx in range(len(X_k)):\n",
    "        x_val = X_k[idx]\n",
    "        y_val = y_k[idx]\n",
    "        x_train = np.concatenate([X_k[:idx], X_k[idx+1:]], axis=None)  # Get all other than training set\n",
    "        y_train = np.concatenate([y_k[:idx], y_k[idx+1:]], axis=None)\n",
    "        x_train = x_train.reshape(len(x_train),1); y_train = y_train.reshape(len(y_train),1)\n",
    "        # Reshape x_train and x_val for fit_transform\n",
    "        # Define the design matrix\n",
    "        poly_features = PolynomialFeatures(degree=degree, include_bias=False)\n",
    "        X_d_train = poly_features.fit_transform(x_train)\n",
    "        # Fit the model to the data\n",
    "        lin_reg = LinearRegression()\n",
    "        lin_reg.fit(X_d_train, y_train)\n",
    "        # Perform the calculation of MSE for training and validation sets\n",
    "        # Calculate MSE - to do so generate a new design matrix to predict with\n",
    "        # Training score\n",
    "        y_predict_train = lin_reg.predict(X_d_train)\n",
    "        MSE_train = calculate_MSE(y_train, y_predict_train)\n",
    "        # Validation score\n",
    "        X_d_val = poly_features.fit_transform(x_val)  # Create a new design matrix for validation\n",
    "        y_predict_val = lin_reg.predict(X_d_val)\n",
    "        MSE_val = calculate_MSE(y_val, y_predict_val)\n",
    "        # Append scores\n",
    "        MSE_trains[idx] = MSE_train\n",
    "        MSE_vals[idx] = MSE_val\n",
    "    # Calculate the means of trains and vals\n",
    "    train_scores[i] = np.average(MSE_trains)\n",
    "    val_scores[i] = np.average(MSE_vals)\n",
    "\n",
    "# Norm train_scores, and calculate the score. My score is defined as\n",
    "# log(1/norm(average(MSE))).\n",
    "train_scores = train_scores/(np.amax(train_scores))\n",
    "val_scores = val_scores/(np.amax(val_scores))\n",
    "\n",
    "\n",
    "# Plot                   \n",
    "ax.plot(degrees, np.log(1/train_scores), 'b', label='training score')\n",
    "ax.plot(degrees, np.log(1/val_scores), 'r', label='validation score')\n",
    "ax.set_xlabel('Degree')\n",
    "ax.set_ylabel('Score, log(1/avg(theta))')\n",
    "ax.legend(loc='best');\n"
   ]
  },
  {
   "cell_type": "markdown",
   "metadata": {},
   "source": [
    "From the validation curves above it seems as though the validation score is the highest (error the lowest) for a 3rd degree polynomial. For higher degrees the validation decreases, indicating that the model is overfitting to the data. This is further indicated by the training score, which hits a plateu and stops increasing as much for higher degree polynomials than 3. \n",
    "\n",
    "This conclusion is not entirely in line with problem 3, where I maintained that the polynomial was of order 4 or 5. It's interesting that I got a different answer in this problem, but it could be due to the fact that I've used k-fold cross validation here. That gives me a more stable answer for the losses and thus the score, than the single training split as was used in problem 3. It's possible that the split in problem 3 is more reminiscant of a 4th or 5th degree polynomial than what is actually the case. Or I've simply made a mistake somewhere. :)"
   ]
  },
  {
   "cell_type": "markdown",
   "metadata": {},
   "source": [
    "# Problem 6"
   ]
  },
  {
   "cell_type": "code",
   "execution_count": 109,
   "metadata": {},
   "outputs": [],
   "source": [
    "# Generate noisy data with a quadratic feature\n",
    "# use the following code:\n",
    "np.random.seed(42)\n",
    "\n",
    "# X are picked uniform random [0,2]\n",
    "X = 2 * np.random.rand(100, 1)\n",
    "# Linear relation to the predicted value, but with Gaussian noise (mean=0, variance=1)\n",
    "y = 0.5 * X**2 + X + 2 + 0.2 * np.random.randn(100, 1)"
   ]
  },
  {
   "cell_type": "markdown",
   "metadata": {},
   "source": [
    "## Batch gradient descent\n"
   ]
  },
  {
   "cell_type": "code",
   "execution_count": 119,
   "metadata": {},
   "outputs": [],
   "source": [
    "def plot_gradient_descent(theta, X, y, eta=0.1, theta_path=None,ax=None,n_iterations=1000):\n",
    "    '''Plot the iterations of batch gradient descent.'''\n",
    "    m = len(X)\n",
    "    if not ax:\n",
    "        fig,ax = plt.subplots(1,1)\n",
    "    ax.plot(X, y, \"b.\")\n",
    "    \n",
    "    _X_d = np.c_[np.ones((m, 1)), X]  \n",
    "    _X_predict = np.array([np.floor(min(X)),np.ceil(max(X))])\n",
    "    _X_predict_d = np.c_[np.ones((2, 1)), X_predict]\n",
    "    \n",
    "    for iteration in range(n_iterations):\n",
    "        if iteration < 10:\n",
    "            _y_predict = _X_predict_d.dot(theta)\n",
    "            style = \"b-\" if iteration > 0 else \"r--\"\n",
    "            ax.plot(_X_predict, _y_predict, style)\n",
    "        gradients = 2/m * _X_d.T.dot(_X_d.dot(theta) - y)\n",
    "        theta = theta - eta * gradients\n",
    "        if theta_path is not None:\n",
    "            theta_path.append(theta)\n",
    "    ax.set_xlabel(\"$x_1$\")\n",
    "    ax.set_title(r\"$\\eta = {}$ (10 iter.)\".format(eta))"
   ]
  },
  {
   "cell_type": "code",
   "execution_count": 136,
   "metadata": {},
   "outputs": [],
   "source": [
    "# learning hyperparameter \n",
    "eta = 0.01\n",
    "# number of iterations\n",
    "n_iterations = 1000\n",
    "m = len(X)\n",
    "# Initial guess for parameter vector\n",
    "theta = np.random.randn(3,1)  # 3 features in our data above\n",
    "\n",
    "X_bgd = X.reshape(len(X), 1)\n",
    "y_bgd = y.reshape(len(y), 1)\n",
    "\n",
    "poly_features = PolynomialFeatures(degree=3, include_bias=False)\n",
    "X_d = poly_features.fit_transform(X_bgd)"
   ]
  },
  {
   "cell_type": "markdown",
   "metadata": {},
   "source": [
    "Use $\\nabla \\theta = \\frac{2}{len(X)} X^T \\cdot (X \\theta - y)$"
   ]
  },
  {
   "cell_type": "code",
   "execution_count": 137,
   "metadata": {},
   "outputs": [],
   "source": [
    "for iteration in range(n_iterations):\n",
    "    gradients = 2/m * X_d.T.dot(X_d.dot(theta)-y)\n",
    "    theta  = theta - eta*gradients"
   ]
  },
  {
   "cell_type": "code",
   "execution_count": 138,
   "metadata": {},
   "outputs": [
    {
     "name": "stdout",
     "output_type": "stream",
     "text": [
      "[[ 3.2902]\n",
      " [ 1.2645]\n",
      " [-0.817 ]]\n"
     ]
    }
   ],
   "source": [
    "with np.printoptions(precision=4):\n",
    "    print(theta)"
   ]
  },
  {
   "cell_type": "code",
   "execution_count": 126,
   "metadata": {},
   "outputs": [
    {
     "ename": "ValueError",
     "evalue": "all the input array dimensions except for the concatenation axis must match exactly",
     "output_type": "error",
     "traceback": [
      "\u001b[1;31m---------------------------------------------------------------------------\u001b[0m",
      "\u001b[1;31mValueError\u001b[0m                                Traceback (most recent call last)",
      "\u001b[1;32m<ipython-input-126-d569e701ea09>\u001b[0m in \u001b[0;36m<module>\u001b[1;34m\u001b[0m\n\u001b[0;32m      2\u001b[0m \u001b[0metas\u001b[0m \u001b[1;33m=\u001b[0m \u001b[1;33m[\u001b[0m\u001b[1;36m0.02\u001b[0m\u001b[1;33m,\u001b[0m \u001b[1;36m0.1\u001b[0m\u001b[1;33m,\u001b[0m \u001b[1;36m0.5\u001b[0m\u001b[1;33m]\u001b[0m\u001b[1;33m\u001b[0m\u001b[1;33m\u001b[0m\u001b[0m\n\u001b[0;32m      3\u001b[0m \u001b[1;32mfor\u001b[0m \u001b[0meta\u001b[0m \u001b[1;32min\u001b[0m \u001b[0metas\u001b[0m\u001b[1;33m:\u001b[0m\u001b[1;33m\u001b[0m\u001b[1;33m\u001b[0m\u001b[0m\n\u001b[1;32m----> 4\u001b[1;33m     \u001b[0mplot_gradient_descent\u001b[0m\u001b[1;33m(\u001b[0m\u001b[0mtheta\u001b[0m\u001b[1;33m,\u001b[0m \u001b[0mX\u001b[0m\u001b[1;33m,\u001b[0m \u001b[0my\u001b[0m\u001b[1;33m,\u001b[0m \u001b[0meta\u001b[0m\u001b[1;33m,\u001b[0m \u001b[0mn_iterations\u001b[0m\u001b[1;33m)\u001b[0m\u001b[1;33m\u001b[0m\u001b[1;33m\u001b[0m\u001b[0m\n\u001b[0m",
      "\u001b[1;32m<ipython-input-119-993b60fa3f2a>\u001b[0m in \u001b[0;36mplot_gradient_descent\u001b[1;34m(theta, X, y, eta, theta_path, ax, n_iterations)\u001b[0m\n\u001b[0;32m      8\u001b[0m     \u001b[0m_X_d\u001b[0m \u001b[1;33m=\u001b[0m \u001b[0mnp\u001b[0m\u001b[1;33m.\u001b[0m\u001b[0mc_\u001b[0m\u001b[1;33m[\u001b[0m\u001b[0mnp\u001b[0m\u001b[1;33m.\u001b[0m\u001b[0mones\u001b[0m\u001b[1;33m(\u001b[0m\u001b[1;33m(\u001b[0m\u001b[0mm\u001b[0m\u001b[1;33m,\u001b[0m \u001b[1;36m1\u001b[0m\u001b[1;33m)\u001b[0m\u001b[1;33m)\u001b[0m\u001b[1;33m,\u001b[0m \u001b[0mX\u001b[0m\u001b[1;33m]\u001b[0m\u001b[1;33m\u001b[0m\u001b[1;33m\u001b[0m\u001b[0m\n\u001b[0;32m      9\u001b[0m     \u001b[0m_X_predict\u001b[0m \u001b[1;33m=\u001b[0m \u001b[0mnp\u001b[0m\u001b[1;33m.\u001b[0m\u001b[0marray\u001b[0m\u001b[1;33m(\u001b[0m\u001b[1;33m[\u001b[0m\u001b[0mnp\u001b[0m\u001b[1;33m.\u001b[0m\u001b[0mfloor\u001b[0m\u001b[1;33m(\u001b[0m\u001b[0mmin\u001b[0m\u001b[1;33m(\u001b[0m\u001b[0mX\u001b[0m\u001b[1;33m)\u001b[0m\u001b[1;33m)\u001b[0m\u001b[1;33m,\u001b[0m\u001b[0mnp\u001b[0m\u001b[1;33m.\u001b[0m\u001b[0mceil\u001b[0m\u001b[1;33m(\u001b[0m\u001b[0mmax\u001b[0m\u001b[1;33m(\u001b[0m\u001b[0mX\u001b[0m\u001b[1;33m)\u001b[0m\u001b[1;33m)\u001b[0m\u001b[1;33m]\u001b[0m\u001b[1;33m)\u001b[0m\u001b[1;33m\u001b[0m\u001b[1;33m\u001b[0m\u001b[0m\n\u001b[1;32m---> 10\u001b[1;33m     \u001b[0m_X_predict_d\u001b[0m \u001b[1;33m=\u001b[0m \u001b[0mnp\u001b[0m\u001b[1;33m.\u001b[0m\u001b[0mc_\u001b[0m\u001b[1;33m[\u001b[0m\u001b[0mnp\u001b[0m\u001b[1;33m.\u001b[0m\u001b[0mones\u001b[0m\u001b[1;33m(\u001b[0m\u001b[1;33m(\u001b[0m\u001b[1;36m2\u001b[0m\u001b[1;33m,\u001b[0m \u001b[1;36m1\u001b[0m\u001b[1;33m)\u001b[0m\u001b[1;33m)\u001b[0m\u001b[1;33m,\u001b[0m \u001b[0mX_predict\u001b[0m\u001b[1;33m]\u001b[0m\u001b[1;33m\u001b[0m\u001b[1;33m\u001b[0m\u001b[0m\n\u001b[0m\u001b[0;32m     11\u001b[0m \u001b[1;33m\u001b[0m\u001b[0m\n\u001b[0;32m     12\u001b[0m     \u001b[1;32mfor\u001b[0m \u001b[0miteration\u001b[0m \u001b[1;32min\u001b[0m \u001b[0mrange\u001b[0m\u001b[1;33m(\u001b[0m\u001b[0mn_iterations\u001b[0m\u001b[1;33m)\u001b[0m\u001b[1;33m:\u001b[0m\u001b[1;33m\u001b[0m\u001b[1;33m\u001b[0m\u001b[0m\n",
      "\u001b[1;32m~\\Anaconda3\\lib\\site-packages\\numpy\\lib\\index_tricks.py\u001b[0m in \u001b[0;36m__getitem__\u001b[1;34m(self, key)\u001b[0m\n\u001b[0;32m    333\u001b[0m                 \u001b[0mobjs\u001b[0m\u001b[1;33m[\u001b[0m\u001b[0mk\u001b[0m\u001b[1;33m]\u001b[0m \u001b[1;33m=\u001b[0m \u001b[0mobjs\u001b[0m\u001b[1;33m[\u001b[0m\u001b[0mk\u001b[0m\u001b[1;33m]\u001b[0m\u001b[1;33m.\u001b[0m\u001b[0mastype\u001b[0m\u001b[1;33m(\u001b[0m\u001b[0mfinal_dtype\u001b[0m\u001b[1;33m)\u001b[0m\u001b[1;33m\u001b[0m\u001b[1;33m\u001b[0m\u001b[0m\n\u001b[0;32m    334\u001b[0m \u001b[1;33m\u001b[0m\u001b[0m\n\u001b[1;32m--> 335\u001b[1;33m         \u001b[0mres\u001b[0m \u001b[1;33m=\u001b[0m \u001b[0mself\u001b[0m\u001b[1;33m.\u001b[0m\u001b[0mconcatenate\u001b[0m\u001b[1;33m(\u001b[0m\u001b[0mtuple\u001b[0m\u001b[1;33m(\u001b[0m\u001b[0mobjs\u001b[0m\u001b[1;33m)\u001b[0m\u001b[1;33m,\u001b[0m \u001b[0maxis\u001b[0m\u001b[1;33m=\u001b[0m\u001b[0maxis\u001b[0m\u001b[1;33m)\u001b[0m\u001b[1;33m\u001b[0m\u001b[1;33m\u001b[0m\u001b[0m\n\u001b[0m\u001b[0;32m    336\u001b[0m \u001b[1;33m\u001b[0m\u001b[0m\n\u001b[0;32m    337\u001b[0m         \u001b[1;32mif\u001b[0m \u001b[0mmatrix\u001b[0m\u001b[1;33m:\u001b[0m\u001b[1;33m\u001b[0m\u001b[1;33m\u001b[0m\u001b[0m\n",
      "\u001b[1;31mValueError\u001b[0m: all the input array dimensions except for the concatenation axis must match exactly"
     ]
    },
    {
     "data": {
      "image/png": "[encoded data removed]",
      "text/plain": [
       "<Figure size 432x288 with 1 Axes>"
      ]
     },
     "metadata": {
      "needs_background": "light"
     },
     "output_type": "display_data"
    }
   ],
   "source": [
    "# Tune hyperparameter\n",
    "etas = [0.02, 0.1, 0.5]\n",
    "for eta in etas:\n",
    "    plot_gradient_descent(theta, X, y, eta, n_iterations)"
   ]
  },
  {
   "cell_type": "markdown",
   "metadata": {},
   "source": [
    "## Stochastic gradient descent"
   ]
  },
  {
   "cell_type": "code",
   "execution_count": null,
   "metadata": {},
   "outputs": [],
   "source": []
  }
 ],
 "metadata": {
  "kernelspec": {
   "display_name": "Python 3",
   "language": "python",
   "name": "python3"
  },
  "language_info": {
   "codemirror_mode": {
    "name": "ipython",
    "version": 3
   },
   "file_extension": ".py",
   "mimetype": "text/x-python",
   "name": "python",
   "nbconvert_exporter": "python",
   "pygments_lexer": "ipython3",
   "version": "3.7.1"
  }
 },
 "nbformat": 4,
 "nbformat_minor": 2
}
