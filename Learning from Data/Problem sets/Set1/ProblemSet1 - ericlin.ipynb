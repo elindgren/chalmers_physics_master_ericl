{
 "cells": [
  {
   "cell_type": "markdown",
   "metadata": {},
   "source": [
    "Name: Lindgren, Eric\n",
    "PSN: 970222-1954\n"
   ]
  },
  {
   "cell_type": "markdown",
   "metadata": {},
   "source": [
    "# Problem 1"
   ]
  },
  {
   "cell_type": "code",
   "execution_count": 35,
   "metadata": {},
   "outputs": [],
   "source": [
    "# imports\n",
    "import numpy as np\n",
    "import matplotlib.pyplot as plt\n",
    "from sklearn.linear_model import LinearRegression\n",
    "from sklearn.model_selection import train_test_split\n",
    "from sklearn.preprocessing import PolynomialFeatures"
   ]
  },
  {
   "cell_type": "markdown",
   "metadata": {},
   "source": [
    "# Problem 2"
   ]
  },
  {
   "cell_type": "code",
   "execution_count": 23,
   "metadata": {},
   "outputs": [],
   "source": [
    "# Generate noisy data with a quadratic feature\n",
    "# use the following code:\n",
    "np.random.seed(42)\n",
    "\n",
    "# X are picked uniform random [0,2]\n",
    "X = 2 * np.random.rand(100, 1)\n",
    "# Linear relation to the predicted value, but with Gaussian noise (mean=0, variance=1)\n",
    "y = 0.5 * X**2 + X + 2 + 0.2 * np.random.randn(100, 1)"
   ]
  },
  {
   "cell_type": "markdown",
   "metadata": {},
   "source": [
    "### a) Perform a linear regression using the Normal Equation"
   ]
  },
  {
   "cell_type": "markdown",
   "metadata": {},
   "source": [
    "The normal equation for linear regression, i.e. the function that calculates \n",
    "the vector $\\vec{\\theta}$ thet gives the $min(\\epsilon)$, can be shown to be $\\theta = (X^T X)^{-1}(X^T \\cdot y)$. "
   ]
  },
  {
   "cell_type": "code",
   "execution_count": 24,
   "metadata": {},
   "outputs": [
    {
     "data": {
      "text/plain": [
       "'$\\\\theta $ =  [[2.11228054]\\n [0.72777588]\\n [0.61621274]]'"
      ]
     },
     "metadata": {},
     "output_type": "display_data"
    }
   ],
   "source": [
    "# First, create the design matrix. \n",
    "# The polynomial is quadratic, our model only \n",
    "# has three features: X^0, X^1, X^2\n",
    "m = len(X)\n",
    "X_d = np.concatenate((X**0, X**1, X**2), axis=1)\n",
    "\n",
    "\n",
    "# Assuming that X_d is invertible, we can solve\n",
    "# the normal equation as follows:\n",
    "inv = np.linalg.inv\n",
    "theta = inv(X_d.T.dot(X_d)).dot(X_d.T.dot(y))\n",
    "display(rf'$\\theta $ =  {theta}')\n",
    "\n"
   ]
  },
  {
   "cell_type": "markdown",
   "metadata": {},
   "source": [
    "### b) Comparisons"
   ]
  },
  {
   "cell_type": "code",
   "execution_count": 25,
   "metadata": {},
   "outputs": [
    {
     "data": {
      "text/plain": [
       "<matplotlib.legend.Legend at 0x177b7563390>"
      ]
     },
     "execution_count": 25,
     "metadata": {},
     "output_type": "execute_result"
    },
    {
     "data": {
      "image/png": "[encoded data removed]",
      "text/plain": [
       "<Figure size 432x288 with 1 Axes>"
      ]
     },
     "metadata": {
      "needs_background": "light"
     },
     "output_type": "display_data"
    }
   ],
   "source": [
    "\n",
    "# y = 0.62X^2 + 0.73X + 2.11. This is compared to the \"real\" parameters:\n",
    "# y_real = 0.5X^2 + 1X + 2\n",
    "# Plot data and prediction\n",
    "X_predict = np.linspace(0,2, m)\n",
    "y_predict = theta[0] + theta[1]*X_predict + theta[2]*X_predict**2\n",
    "fig, ax = plt.subplots(1,1)\n",
    "ax.plot(X, y, 'b.', label=\"Data\")\n",
    "ax.plot(X_predict, y_predict, 'r-', label=\"Prediction\")\n",
    "ax.set_xlabel('X')\n",
    "ax.set_ylabel('y')\n",
    "ax.legend(loc='best')"
   ]
  },
  {
   "cell_type": "markdown",
   "metadata": {},
   "source": [
    "# Problem 3"
   ]
  },
  {
   "cell_type": "markdown",
   "metadata": {},
   "source": [
    "### a) Perform linear regression with different models"
   ]
  },
  {
   "cell_type": "code",
   "execution_count": 50,
   "metadata": {},
   "outputs": [
    {
     "name": "stderr",
     "output_type": "stream",
     "text": [
      "C:\\Users\\ericl\\Anaconda3\\lib\\site-packages\\sklearn\\model_selection\\_split.py:2179: FutureWarning: From version 0.21, test_size will always complement train_size unless both are specified.\n",
      "  FutureWarning)\n"
     ]
    }
   ],
   "source": [
    "# Load the data sets, and split it using the given command.\n",
    "def load_data_from_file(file):\n",
    "    datafile = f'DataFiles/{file}.dat'\n",
    "    X, y = np.loadtxt(datafile, unpack=True)\n",
    "    m = len(X)\n",
    "    X = X.reshape(m,1); y = y.reshape(m,1)\n",
    "\n",
    "    # built-in convenience function for splitting data\n",
    "    X_train, X_val, y_train, y_val = train_test_split(X, y, train_size=0.6, random_state=42)\n",
    "    return {'X_train': X_train, 'X_val': X_val, 'y_train': y_train, 'y_val': y_val}\n",
    "\n",
    "datafiles = ['dataset1', 'dataset2', 'dataset3']\n",
    "datasets = {}\n",
    "\n",
    "for file in datafiles:\n",
    "    datasets[file] = load_data_from_file(file)"
   ]
  },
  {
   "cell_type": "code",
   "execution_count": 68,
   "metadata": {},
   "outputs": [],
   "source": [
    "# Implement a function that calculates MSE\n",
    "def calculate_MSE(y, y_predict):\n",
    "    m = len(y)\n",
    "    return 1/m * (y-y_predict).T.dot(y-y_predict)"
   ]
  },
  {
   "cell_type": "code",
   "execution_count": 69,
   "metadata": {},
   "outputs": [],
   "source": [
    "# Perform linear regression using scikit learn with polynomials of orders\n",
    "# 1,2,3,4,5 and 20.\n",
    "fit_coefficients = {}\n",
    "MSE = {}\n",
    "orders = [1,2,3,4,5,20]\n",
    "\n",
    "# Fit data for each order for each of the three datasets\n",
    "for dataset in datasets:\n",
    "    data = datasets[dataset]\n",
    "    MSE[dataset] = {}\n",
    "    fit_coefficients[dataset] = {}\n",
    "    for order in orders:\n",
    "        # Use scikit builtin to generate design matrix easily\n",
    "        poly_features = PolynomialFeatures(degree=order, include_bias=False)\n",
    "        # Notice that we doesn't include the bias term (X^0) in the design matrix. It\n",
    "        # will be added below.\n",
    "        X_d_train = poly_features.fit_transform(data[\"X_train\"])\n",
    "        # Fit the model to the data\n",
    "        lin_reg = LinearRegression()\n",
    "        lin_reg.fit(X_d_train, data[\"y_train\"])\n",
    "        # Save the coefficients - append to dict after formating intercept\n",
    "        fit_coefficients[dataset][order] = np.concatenate([[lin_reg.intercept_], lin_reg.coef_], axis=1)\n",
    "        # Calculate MSE - to do so generate a new design matrix to predict with\n",
    "        X_d_val = poly_features.fit_transform(data[\"X_val\"])\n",
    "        y_predict = lin_reg.predict(X_d_val)\n",
    "        MSE[dataset][order] = calculate_MSE(data[\"y_val\"], y_predict)\n",
    "\n"
   ]
  },
  {
   "cell_type": "code",
   "execution_count": 73,
   "metadata": {},
   "outputs": [
    {
     "name": "stdout",
     "output_type": "stream",
     "text": [
      "********* Fit Coefficients ***********\n"
     ]
    },
    {
     "data": {
      "text/plain": [
       "{'dataset1': {1: array([[ 8.64449594, -1.23456593]]),\n",
       "  2: array([[ 0.12905012, -0.6366678 ,  2.58692409]]),\n",
       "  3: array([[ 0.041779  ,  1.26978243,  2.52600994, -0.33172737]]),\n",
       "  4: array([[ 1.99354331,  0.99062846,  0.50868938, -0.24964384,  0.24951078]]),\n",
       "  5: array([[ 1.99321069e+00,  9.82284423e-01,  5.09920902e-01,\n",
       "          -2.45236024e-01,  2.49294053e-01, -4.41040648e-04]]),\n",
       "  20: array([[ 1.96142660e+00,  1.01584020e+00,  9.46056377e-01,\n",
       "          -4.15026161e-01, -1.41630078e+00,  1.57342336e-01,\n",
       "           2.70365408e+00, -2.45487039e-02, -2.21424450e+00,\n",
       "          -2.91883234e-02,  1.02081754e+00,  1.71706825e-02,\n",
       "          -2.81717825e-01, -4.14136941e-03,  4.75237088e-02,\n",
       "           5.17837350e-04, -4.79981603e-03, -3.29457649e-05,\n",
       "           2.66446269e-04,  8.42698841e-07, -6.24904496e-06]])},\n",
       " 'dataset2': {1: array([[2.92526837, 0.39697212]]),\n",
       "  2: array([[1.05194098, 0.52850475, 0.56910183]]),\n",
       "  3: array([[ 0.98685097,  1.95040555,  0.52366981, -0.24741449]]),\n",
       "  4: array([[ 0.96771657,  1.95314228,  0.5434469 , -0.24821921, -0.00244611]]),\n",
       "  5: array([[ 0.96605343,  1.91142211,  0.54960451, -0.22618012, -0.00352974,\n",
       "          -0.0022052 ]]),\n",
       "  20: array([[ 8.07133081e-01,  2.07920091e+00,  2.73028196e+00,\n",
       "          -1.07513078e+00, -8.33150392e+00,  7.86711683e-01,\n",
       "           1.35182704e+01, -1.22743524e-01, -1.10712225e+01,\n",
       "          -1.45941616e-01,  5.10408769e+00,  8.58534125e-02,\n",
       "          -1.40858913e+00, -2.07068471e-02,  2.37618544e-01,\n",
       "           2.58918675e-03, -2.39990801e-02, -1.64728825e-04,\n",
       "           1.33223134e-03,  4.21349420e-06, -3.12452248e-05]])},\n",
       " 'dataset3': {1: array([[3.11283585, 0.27668312]]),\n",
       "  2: array([[1.01045328, 0.42429848, 0.63868695]]),\n",
       "  3: array([[ 0.94740386,  1.80162221,  0.59467924, -0.23965796]]),\n",
       "  4: array([[ 0.87086627,  1.81256911,  0.6737876 , -0.24287683, -0.00978446]]),\n",
       "  5: array([[ 0.86421373,  1.64568846,  0.69841804, -0.15472049, -0.01411894,\n",
       "          -0.00882081]]),\n",
       "  20: array([[ 2.28532007e-01,  2.31680358e+00,  9.42112791e+00,\n",
       "          -3.55052308e+00, -3.33260157e+01,  3.14684674e+00,\n",
       "           5.40730817e+01, -4.90974100e-01, -4.42848899e+01,\n",
       "          -5.83766464e-01,  2.04163508e+01,  3.43413650e-01,\n",
       "          -5.63435651e+00, -8.28273883e-02,  9.50474177e-01,\n",
       "           1.03567470e-02, -9.59963206e-02, -6.58915298e-04,\n",
       "           5.32892538e-03,  1.68539768e-05, -1.24980899e-04]])}}"
      ]
     },
     "metadata": {},
     "output_type": "display_data"
    },
    {
     "name": "stdout",
     "output_type": "stream",
     "text": [
      "********* MSE ***********\n"
     ]
    },
    {
     "data": {
      "text/plain": [
       "{'dataset1': {1: array([[39.8789529]]),\n",
       "  2: array([[4.11757722]]),\n",
       "  3: array([[2.54406172]]),\n",
       "  4: array([[0.00550791]]),\n",
       "  5: array([[0.00561872]]),\n",
       "  20: array([[0.00885626]])},\n",
       " 'dataset2': {1: array([[3.1512768]]),\n",
       "  2: array([[1.27826271]]),\n",
       "  3: array([[0.13501289]]),\n",
       "  4: array([[0.13769784]]),\n",
       "  5: array([[0.14046792]]),\n",
       "  20: array([[0.2214065]])},\n",
       " 'dataset3': {1: array([[5.9775575]]),\n",
       "  2: array([[3.88997846]]),\n",
       "  3: array([[2.16020617]]),\n",
       "  4: array([[2.20316537]]),\n",
       "  5: array([[2.24748671]]),\n",
       "  20: array([[3.54250393]])}}"
      ]
     },
     "metadata": {},
     "output_type": "display_data"
    }
   ],
   "source": [
    "# Print results for each dataset and each order\n",
    "print('********* Fit Coefficients ***********')\n",
    "display(fit_coefficients)\n",
    "print('********* MSE ***********')\n",
    "display(MSE)\n",
    "# TODO print in a more descriptive fashion\n",
    "\n"
   ]
  },
  {
   "cell_type": "markdown",
   "metadata": {},
   "source": [
    "Questions to ponder: \n",
    "1: Across all three datasets, the MSE is generally the lowest for the fourth\n",
    "or the fifth order polynomial (fourth is somewhat lower). Since the MSE is calculated against the validation data, this indicates that a fourth (maybe fifth) order polynomial was used to generate the original data. It's the best performing model at the very least.\n",
    "\n",
    "2: I'd say that that would be dataset three, since the MSE is generally larger for all orders model orders than for the other datasets. For orders 4-20, it's atleast an order of magnitude larger. Since the higher order models generally will overfit to the training data to a higher degree than lower order models, this higher MSE indicates that there is a larger discrepancy between the validation and training data in dataset three. This in turn could be due to a larger amount of random noise on the generated data, leading to a larger spread in the data. \n",
    "\n",
    "Another thing that would indicate this is that there are no verification questions regarding the fit on dataset three on OpenTA. This could possibly be due to the variances in the fit parameters being too large. ;)"
   ]
  },
  {
   "cell_type": "markdown",
   "metadata": {},
   "source": [
    "# Problem 4\n"
   ]
  },
  {
   "cell_type": "markdown",
   "metadata": {},
   "source": [
    "# Problem 5"
   ]
  },
  {
   "cell_type": "code",
   "execution_count": null,
   "metadata": {},
   "outputs": [],
   "source": []
  }
 ],
 "metadata": {
  "kernelspec": {
   "display_name": "Python 3",
   "language": "python",
   "name": "python3"
  },
  "language_info": {
   "codemirror_mode": {
    "name": "ipython",
    "version": 3
   },
   "file_extension": ".py",
   "mimetype": "text/x-python",
   "name": "python",
   "nbconvert_exporter": "python",
   "pygments_lexer": "ipython3",
   "version": "3.7.1"
  }
 },
 "nbformat": 4,
 "nbformat_minor": 2
}
