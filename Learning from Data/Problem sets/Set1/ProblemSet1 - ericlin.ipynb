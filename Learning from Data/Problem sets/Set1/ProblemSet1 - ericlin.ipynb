{
 "cells": [
  {
   "cell_type": "markdown",
   "metadata": {},
   "source": [
    "### Name: Lindgren, Eric\n",
    "\n",
    "### PSN: 970222-1954\n"
   ]
  },
  {
   "cell_type": "markdown",
   "metadata": {},
   "source": [
    "# Problem 1"
   ]
  },
  {
   "cell_type": "code",
   "execution_count": 1,
   "metadata": {},
   "outputs": [],
   "source": [
    "# imports\n",
    "import numpy as np\n",
    "import matplotlib.pyplot as plt\n",
    "from sklearn.linear_model import LinearRegression\n",
    "from sklearn.model_selection import train_test_split\n",
    "from sklearn.preprocessing import PolynomialFeatures"
   ]
  },
  {
   "cell_type": "markdown",
   "metadata": {},
   "source": [
    "# Problem 2"
   ]
  },
  {
   "cell_type": "code",
   "execution_count": 2,
   "metadata": {},
   "outputs": [],
   "source": [
    "# Generate noisy data with a quadratic feature\n",
    "# use the following code:\n",
    "np.random.seed(42)\n",
    "\n",
    "# X are picked uniform random [0,2]\n",
    "X = 2 * np.random.rand(100, 1)\n",
    "# Linear relation to the predicted value, but with Gaussian noise (mean=0, variance=1)\n",
    "y = 0.5 * X**2 + X + 2 + 0.2 * np.random.randn(100, 1)"
   ]
  },
  {
   "cell_type": "markdown",
   "metadata": {},
   "source": [
    "### a) Perform a linear regression using the Normal Equation"
   ]
  },
  {
   "cell_type": "markdown",
   "metadata": {},
   "source": [
    "The normal equation for linear regression, i.e. the function that calculates \n",
    "the vector $\\vec{\\theta}$ thet gives the $min(\\epsilon)$, can be shown to be $\\theta = (X^T X)^{-1}(X^T \\cdot y)$. "
   ]
  },
  {
   "cell_type": "code",
   "execution_count": 3,
   "metadata": {},
   "outputs": [
    {
     "data": {
      "text/plain": [
       "'theta  =  [[2.11228054]\\n [0.72777588]\\n [0.61621274]]'"
      ]
     },
     "metadata": {},
     "output_type": "display_data"
    }
   ],
   "source": [
    "# First, create the design matrix. \n",
    "# The polynomial is quadratic, our model only \n",
    "# has three features: X^0, X^1, X^2\n",
    "m = len(X)\n",
    "X_d = np.concatenate((X**0, X**1, X**2), axis=1)\n",
    "\n",
    "# Assuming that X_d is invertible, we can solve\n",
    "# the normal equation as follows:\n",
    "inv = np.linalg.inv\n",
    "theta = inv(X_d.T.dot(X_d)).dot(X_d.T.dot(y))\n",
    "display(f'theta  =  {theta}')\n",
    "# Save theta for problem 6\n",
    "theta_prob_2 = theta"
   ]
  },
  {
   "cell_type": "markdown",
   "metadata": {},
   "source": [
    "### b) Comparisons"
   ]
  },
  {
   "cell_type": "markdown",
   "metadata": {},
   "source": [
    "y = 0.62X^2 + 0.73X + 2.11. This is compared to the \"real\" parameters:\n",
    "y_real = 0.5X^2 + 1X + 2."
   ]
  },
  {
   "cell_type": "code",
   "execution_count": 4,
   "metadata": {},
   "outputs": [
    {
     "data": {
      "text/plain": [
       "<matplotlib.legend.Legend at 0x23083e2f5f8>"
      ]
     },
     "execution_count": 4,
     "metadata": {},
     "output_type": "execute_result"
    },
    {
     "data": {
      "image/png": "[encoded data removed]",
      "text/plain": [
       "<Figure size 432x288 with 1 Axes>"
      ]
     },
     "metadata": {
      "needs_background": "light"
     },
     "output_type": "display_data"
    }
   ],
   "source": [
    "# Plot data and prediction\n",
    "X_predict = np.linspace(0,2, m)\n",
    "y_predict = theta[0] + theta[1]*X_predict + theta[2]*X_predict**2\n",
    "fig, ax = plt.subplots(1,1)\n",
    "ax.plot(X, y, 'b.', label=\"Data\")\n",
    "ax.plot(X_predict, y_predict, 'r-', label=\"Prediction\")\n",
    "ax.set_xlabel('X')\n",
    "ax.set_ylabel('y')\n",
    "ax.legend(loc='best')"
   ]
  },
  {
   "cell_type": "markdown",
   "metadata": {},
   "source": [
    "# Problem 3"
   ]
  },
  {
   "cell_type": "markdown",
   "metadata": {},
   "source": [
    "### a) Perform linear regression with different models"
   ]
  },
  {
   "cell_type": "code",
   "execution_count": 5,
   "metadata": {},
   "outputs": [
    {
     "name": "stderr",
     "output_type": "stream",
     "text": [
      "C:\\Users\\ericl\\Anaconda3\\lib\\site-packages\\sklearn\\model_selection\\_split.py:2179: FutureWarning: From version 0.21, test_size will always complement train_size unless both are specified.\n",
      "  FutureWarning)\n"
     ]
    }
   ],
   "source": [
    "# Load the data sets, and split it using the given command.\n",
    "def load_data_from_file(file):\n",
    "    datafile = f'DataFiles/{file}.dat'\n",
    "    X, y = np.loadtxt(datafile, unpack=True)\n",
    "    m = len(X)\n",
    "    X = X.reshape(m,1); y = y.reshape(m,1)\n",
    "\n",
    "    # built-in convenience function for splitting data\n",
    "    X_train, X_val, y_train, y_val = train_test_split(X, y, train_size=0.6, random_state=42)\n",
    "    return {'X_train': X_train, 'X_val': X_val, 'y_train': y_train, 'y_val': y_val}\n",
    "\n",
    "datafiles = ['dataset1', 'dataset2', 'dataset3']\n",
    "datasets = {}\n",
    "\n",
    "for file in datafiles:\n",
    "    datasets[file] = load_data_from_file(file)"
   ]
  },
  {
   "cell_type": "code",
   "execution_count": 6,
   "metadata": {},
   "outputs": [],
   "source": [
    "# Implement a function that calculates MSE\n",
    "def calculate_MSE(y, y_predict):\n",
    "    m = len(y)\n",
    "    return 1/m * (y-y_predict).T.dot(y-y_predict)"
   ]
  },
  {
   "cell_type": "code",
   "execution_count": 7,
   "metadata": {},
   "outputs": [],
   "source": [
    "# Perform linear regression using scikit learn with polynomials of orders\n",
    "# 1,2,3,4,5 and 20.\n",
    "fit_coefficients = {}\n",
    "MSE_train = {}\n",
    "MSE_val = {}\n",
    "orders = [1,2,3,4,5,20]\n",
    "\n",
    "# Fit data for each order for each of the three datasets\n",
    "for dataset in datasets:\n",
    "    data = datasets[dataset]\n",
    "    MSE_train[dataset] = {}\n",
    "    MSE_val[dataset] = {}\n",
    "    fit_coefficients[dataset] = {}\n",
    "    for order in orders:\n",
    "        # Use scikit builtin to generate design matrix easily\n",
    "        poly_features = PolynomialFeatures(degree=order, include_bias=False)\n",
    "        # Notice that we don't include the bias term (X^0) in the design matrix. It\n",
    "        # will be added below.\n",
    "        X_d_train = poly_features.fit_transform(data[\"X_train\"])\n",
    "        # Fit the model to the data\n",
    "        lin_reg = LinearRegression()\n",
    "        lin_reg.fit(X_d_train, data[\"y_train\"])\n",
    "        y_predict_train = lin_reg.predict(X_d_train)\n",
    "        # Save the coefficients - append to dict after formating intercept\n",
    "        fit_coefficients[dataset][order] = np.concatenate([[lin_reg.intercept_], lin_reg.coef_], axis=1)\n",
    "        # Calculate MSE - to do so generate a new design matrix to predict with\n",
    "        X_d_val = poly_features.fit_transform(data[\"X_val\"])\n",
    "        y_predict_val = lin_reg.predict(X_d_val)\n",
    "        # Add to MSE\n",
    "        MSE_train[dataset][order] = calculate_MSE(data[\"y_train\"], y_predict_train)\n",
    "        MSE_val[dataset][order] = calculate_MSE(data[\"y_val\"], y_predict_val)\n",
    "\n"
   ]
  },
  {
   "cell_type": "code",
   "execution_count": 8,
   "metadata": {},
   "outputs": [
    {
     "name": "stdout",
     "output_type": "stream",
     "text": [
      "********* Fit Coefficients ***********\n"
     ]
    },
    {
     "data": {
      "text/plain": [
       "{'dataset1': {1: array([[ 8.64449594, -1.23456593]]),\n",
       "  2: array([[ 0.12905012, -0.6366678 ,  2.58692409]]),\n",
       "  3: array([[ 0.041779  ,  1.26978243,  2.52600994, -0.33172737]]),\n",
       "  4: array([[ 1.99354331,  0.99062846,  0.50868938, -0.24964384,  0.24951078]]),\n",
       "  5: array([[ 1.99321069e+00,  9.82284423e-01,  5.09920902e-01,\n",
       "          -2.45236024e-01,  2.49294053e-01, -4.41040648e-04]]),\n",
       "  20: array([[ 1.96142660e+00,  1.01584020e+00,  9.46056377e-01,\n",
       "          -4.15026161e-01, -1.41630078e+00,  1.57342336e-01,\n",
       "           2.70365408e+00, -2.45487039e-02, -2.21424450e+00,\n",
       "          -2.91883234e-02,  1.02081754e+00,  1.71706825e-02,\n",
       "          -2.81717825e-01, -4.14136941e-03,  4.75237088e-02,\n",
       "           5.17837350e-04, -4.79981603e-03, -3.29457649e-05,\n",
       "           2.66446269e-04,  8.42698841e-07, -6.24904496e-06]])},\n",
       " 'dataset2': {1: array([[2.92526837, 0.39697212]]),\n",
       "  2: array([[1.05194098, 0.52850475, 0.56910183]]),\n",
       "  3: array([[ 0.98685097,  1.95040555,  0.52366981, -0.24741449]]),\n",
       "  4: array([[ 0.96771657,  1.95314228,  0.5434469 , -0.24821921, -0.00244611]]),\n",
       "  5: array([[ 0.96605343,  1.91142211,  0.54960451, -0.22618012, -0.00352974,\n",
       "          -0.0022052 ]]),\n",
       "  20: array([[ 8.07133081e-01,  2.07920091e+00,  2.73028196e+00,\n",
       "          -1.07513078e+00, -8.33150392e+00,  7.86711683e-01,\n",
       "           1.35182704e+01, -1.22743524e-01, -1.10712225e+01,\n",
       "          -1.45941616e-01,  5.10408769e+00,  8.58534125e-02,\n",
       "          -1.40858913e+00, -2.07068471e-02,  2.37618544e-01,\n",
       "           2.58918675e-03, -2.39990801e-02, -1.64728825e-04,\n",
       "           1.33223134e-03,  4.21349420e-06, -3.12452248e-05]])},\n",
       " 'dataset3': {1: array([[3.11283585, 0.27668312]]),\n",
       "  2: array([[1.01045328, 0.42429848, 0.63868695]]),\n",
       "  3: array([[ 0.94740386,  1.80162221,  0.59467924, -0.23965796]]),\n",
       "  4: array([[ 0.87086627,  1.81256911,  0.6737876 , -0.24287683, -0.00978446]]),\n",
       "  5: array([[ 0.86421373,  1.64568846,  0.69841804, -0.15472049, -0.01411894,\n",
       "          -0.00882081]]),\n",
       "  20: array([[ 2.28532007e-01,  2.31680358e+00,  9.42112791e+00,\n",
       "          -3.55052308e+00, -3.33260157e+01,  3.14684674e+00,\n",
       "           5.40730817e+01, -4.90974100e-01, -4.42848899e+01,\n",
       "          -5.83766464e-01,  2.04163508e+01,  3.43413650e-01,\n",
       "          -5.63435651e+00, -8.28273883e-02,  9.50474177e-01,\n",
       "           1.03567470e-02, -9.59963206e-02, -6.58915298e-04,\n",
       "           5.32892538e-03,  1.68539768e-05, -1.24980899e-04]])}}"
      ]
     },
     "metadata": {},
     "output_type": "display_data"
    },
    {
     "name": "stdout",
     "output_type": "stream",
     "text": [
      "********* MSE train ***********\n"
     ]
    },
    {
     "data": {
      "text/plain": [
       "{'dataset1': {1: array([[58.06150271]]),\n",
       "  2: array([[4.41197488]]),\n",
       "  3: array([[2.3258165]]),\n",
       "  4: array([[0.00968507]]),\n",
       "  5: array([[0.00967032]]),\n",
       "  20: array([[0.0084082]])},\n",
       " 'dataset2': {1: array([[3.99926325]]),\n",
       "  2: array([[1.40282205]]),\n",
       "  3: array([[0.24234933]]),\n",
       "  4: array([[0.24212672]]),\n",
       "  5: array([[0.24175792]]),\n",
       "  20: array([[0.21020491]])},\n",
       " 'dataset3': {1: array([[8.23664241]]),\n",
       "  2: array([[4.96644011]]),\n",
       "  3: array([[3.87758926]]),\n",
       "  4: array([[3.87402756]]),\n",
       "  5: array([[3.86812676]]),\n",
       "  20: array([[3.36327856]])}}"
      ]
     },
     "metadata": {},
     "output_type": "display_data"
    },
    {
     "name": "stdout",
     "output_type": "stream",
     "text": [
      "********* MSE val ***********\n"
     ]
    },
    {
     "data": {
      "text/plain": [
       "{'dataset1': {1: array([[39.8789529]]),\n",
       "  2: array([[4.11757722]]),\n",
       "  3: array([[2.54406172]]),\n",
       "  4: array([[0.00550791]]),\n",
       "  5: array([[0.00561872]]),\n",
       "  20: array([[0.00885626]])},\n",
       " 'dataset2': {1: array([[3.1512768]]),\n",
       "  2: array([[1.27826271]]),\n",
       "  3: array([[0.13501289]]),\n",
       "  4: array([[0.13769784]]),\n",
       "  5: array([[0.14046792]]),\n",
       "  20: array([[0.2214065]])},\n",
       " 'dataset3': {1: array([[5.9775575]]),\n",
       "  2: array([[3.88997846]]),\n",
       "  3: array([[2.16020617]]),\n",
       "  4: array([[2.20316537]]),\n",
       "  5: array([[2.24748671]]),\n",
       "  20: array([[3.54250393]])}}"
      ]
     },
     "metadata": {},
     "output_type": "display_data"
    }
   ],
   "source": [
    "# Print results for each dataset and each order\n",
    "print('********* Fit Coefficients ***********')\n",
    "display(fit_coefficients)\n",
    "print('********* MSE train ***********')\n",
    "display(MSE_train)\n",
    "print('********* MSE val ***********')\n",
    "display(MSE_val)"
   ]
  },
  {
   "cell_type": "markdown",
   "metadata": {},
   "source": [
    "Questions to ponder: \n",
    "1: Across all three datasets, MSE val is generally the lowest for the fourth\n",
    "or the fifth order polynomial (fourth is somewhat lower). Since the MSE is calculated against the validation data, this indicates that a fourth (maybe fifth) order polynomial was used to generate the original data. It's the best performing model at the very least.\n",
    "\n",
    "2: I'd say that that would be dataset three, since the MSE val is generally larger for all orders model orders than for the other datasets. For orders 4-20, it's atleast an order of magnitude larger. Since the higher order models generally will overfit to the training data to a higher degree than lower order models, this higher MSE indicates that there is a larger discrepancy between the validation and training data in dataset three. This in turn could be due to a larger amount of random noise on the generated data, leading to a larger spread in the data. \n",
    "\n",
    "Another thing that would indicate this is that there are no verification questions regarding the fit on dataset three on OpenTA. This could possibly be due to the variances in the fit parameters being too large. ;)"
   ]
  },
  {
   "cell_type": "markdown",
   "metadata": {},
   "source": [
    "# Problem 4\n"
   ]
  },
  {
   "cell_type": "markdown",
   "metadata": {},
   "source": [
    "# Problem 5"
   ]
  },
  {
   "cell_type": "code",
   "execution_count": 9,
   "metadata": {},
   "outputs": [],
   "source": [
    "datafile = 'DataFiles/dataset3.dat'\n",
    "X, y = np.loadtxt(datafile, unpack=True)\n",
    "m = len(X)\n",
    "X = X.reshape(m,1); y = y.reshape(m,1)"
   ]
  },
  {
   "cell_type": "code",
   "execution_count": 10,
   "metadata": {},
   "outputs": [
    {
     "data": {
      "image/png": "[encoded data removed]",
      "text/plain": [
       "<Figure size 432x288 with 1 Axes>"
      ]
     },
     "metadata": {
      "needs_background": "light"
     },
     "output_type": "display_data"
    }
   ],
   "source": [
    "degrees = [i for i in range(1,10)]\n",
    "\n",
    "# Implement MSE from before as error function\n",
    "\n",
    "# Define figure to plot in \n",
    "fig, ax = plt.subplots(1,1)\n",
    "\n",
    "k = 5;  # K-fold cross validation - number of folds\n",
    "train_scores = np.zeros((len(degrees),1))\n",
    "val_scores = np.zeros((len(degrees),1))\n",
    "\n",
    "for i in range(len(degrees)):\n",
    "    degree = degrees[i]\n",
    "    # Split data into k batches - (k-fold cross validation)\n",
    "    X_k = [X[i*int(m/k):(i+1)*int(m/k)] for i in range(k)]  # Split into k parts\n",
    "    y_k = [y[i*int(m/k):(i+1)*int(m/k)] for i in range(k)]\n",
    "    #X_k = X_k.reshape(len(X_k),1); y_k = y_k.reshape(len(y_k),1)\n",
    "    MSE_trains = np.zeros((k,1))\n",
    "    MSE_vals = np.zeros((k,1))\n",
    "    for idx in range(len(X_k)):\n",
    "        x_val = X_k[idx]\n",
    "        y_val = y_k[idx]\n",
    "        x_train = np.concatenate([X_k[:idx], X_k[idx+1:]], axis=None)  # Get all other than training set\n",
    "        y_train = np.concatenate([y_k[:idx], y_k[idx+1:]], axis=None)\n",
    "        x_train = x_train.reshape(len(x_train),1); y_train = y_train.reshape(len(y_train),1)\n",
    "        # Reshape x_train and x_val for fit_transform\n",
    "        # Define the design matrix\n",
    "        poly_features = PolynomialFeatures(degree=degree, include_bias=False)\n",
    "        X_d_train = poly_features.fit_transform(x_train)\n",
    "        # Fit the model to the data\n",
    "        lin_reg = LinearRegression()\n",
    "        lin_reg.fit(X_d_train, y_train)\n",
    "        # Perform the calculation of MSE for training and validation sets\n",
    "        # Calculate MSE - to do so generate a new design matrix to predict with\n",
    "        # Training score\n",
    "        y_predict_train = lin_reg.predict(X_d_train)\n",
    "        MSE_train = calculate_MSE(y_train, y_predict_train)\n",
    "        # Validation score\n",
    "        X_d_val = poly_features.fit_transform(x_val)  # Create a new design matrix for validation\n",
    "        y_predict_val = lin_reg.predict(X_d_val)\n",
    "        MSE_val = calculate_MSE(y_val, y_predict_val)\n",
    "        # Append scores\n",
    "        MSE_trains[idx] = MSE_train\n",
    "        MSE_vals[idx] = MSE_val\n",
    "    # Calculate the means of trains and vals\n",
    "    train_scores[i] = np.average(MSE_trains)\n",
    "    val_scores[i] = np.average(MSE_vals)\n",
    "\n",
    "# Norm train_scores, and calculate the score. My score is defined as\n",
    "# log(1/norm(average(MSE))).\n",
    "train_scores = train_scores/(np.amax(train_scores))\n",
    "val_scores = val_scores/(np.amax(val_scores))\n",
    "\n",
    "\n",
    "# Plot                   \n",
    "ax.plot(degrees, np.log(1/train_scores), 'b', label='training score')\n",
    "ax.plot(degrees, np.log(1/val_scores), 'r', label='validation score')\n",
    "ax.set_xlabel('Degree')\n",
    "ax.set_ylabel('Score, log(1/avg(theta))')\n",
    "ax.legend(loc='best');\n"
   ]
  },
  {
   "cell_type": "markdown",
   "metadata": {},
   "source": [
    "From the validation curves above it seems as though the validation score is the highest (error the lowest) for a 3rd degree polynomial. For higher degrees the validation decreases, indicating that the model is overfitting to the data. This is further indicated by the training score, which hits a plateu and stops increasing as much for higher degree polynomials than 3. \n",
    "\n",
    "This conclusion is not entirely in line with problem 3, where I maintained that the polynomial was of order 4 or 5. It's interesting that I got a different answer in this problem, but it could be due to the fact that I've used k-fold cross validation here. That gives me a more stable answer for the losses and thus the score, than the single training split as was used in problem 3. It's possible that the split in problem 3 is more reminiscant of a 4th or 5th degree polynomial than what is actually the case. Or I've simply made a mistake somewhere. :)"
   ]
  },
  {
   "cell_type": "markdown",
   "metadata": {},
   "source": [
    "# Problem 6"
   ]
  },
  {
   "cell_type": "code",
   "execution_count": 11,
   "metadata": {},
   "outputs": [],
   "source": [
    "# Generate noisy data with a quadratic feature\n",
    "# use the following code:\n",
    "np.random.seed(42)\n",
    "\n",
    "# X are picked uniform random [0,2]\n",
    "X = 2 * np.random.rand(100, 1)\n",
    "# Linear relation to the predicted value, but with Gaussian noise (mean=0, variance=1)\n",
    "y = 0.5 * X**2 + X + 2 + 0.2 * np.random.randn(100, 1)"
   ]
  },
  {
   "cell_type": "markdown",
   "metadata": {},
   "source": [
    "## a) Batch and stochastic gradient descent"
   ]
  },
  {
   "cell_type": "markdown",
   "metadata": {},
   "source": [
    "### Batch gradient descent"
   ]
  },
  {
   "cell_type": "code",
   "execution_count": 12,
   "metadata": {},
   "outputs": [],
   "source": [
    "# learning hyperparameter \n",
    "eta = 0.15\n",
    "# number of iterations\n",
    "n_iterations = 1000\n",
    "m = len(X)\n",
    "\n",
    "\n",
    "X = X.reshape(len(X), 1)\n",
    "y = y.reshape(len(y), 1)\n",
    "\n",
    "X_d = np.concatenate((X**0, X**1, X**2), axis=1)"
   ]
  },
  {
   "cell_type": "markdown",
   "metadata": {},
   "source": [
    " Use $\\nabla \\theta = \\frac{2}{len(X)} X^T \\cdot (X \\theta - y)$"
   ]
  },
  {
   "cell_type": "code",
   "execution_count": 13,
   "metadata": {},
   "outputs": [
    {
     "data": {
      "image/png": "[encoded data removed]",
      "text/plain": [
       "<Figure size 432x288 with 1 Axes>"
      ]
     },
     "metadata": {
      "needs_background": "light"
     },
     "output_type": "display_data"
    }
   ],
   "source": [
    "# Initial guess for parameter vector\n",
    "theta = np.random.randn(3,1)  # 3 features in our data above\n",
    "\n",
    "# Save thetas for c)\n",
    "theta_path_bgd = []\n",
    "\n",
    "fig, ax = plt.subplots(1,1)  # Plot convergence for tuning purposes\n",
    "ax.plot(X,y, 'b.', label='data')\n",
    "X_m = np.linspace(0,2,100)\n",
    "for iteration in range(n_iterations):\n",
    "    gradients = 2/m * X_d.T.dot(X_d.dot(theta)-y)\n",
    "    theta  = theta - eta*gradients\n",
    "    # plot current model every 100 iterations\n",
    "    if(iteration%(n_iterations/10)==0 or iteration==0):\n",
    "        y_model = theta[2]*X_m**2 + theta[1]*X_m + theta[0]\n",
    "        ax.plot(X_m, y_model, label=f'Iteration {iteration}')\n",
    "    # TODO save thetas for c)\n",
    "    theta_path_bgd.append(theta)\n",
    "# plot final result \n",
    "y_model = theta[2]*X_m**2 + theta[1]*X_m + theta[0]\n",
    "ax.plot(X_m, y_model, 'g-', label=f'Iteration {iteration+1}')\n",
    "\n",
    "ax.legend(loc='best');\n",
    "ax.set_xlabel('X')\n",
    "ax.set_ylabel('y')\n",
    "ax.set_title(f\"BGD {n_iterations} epochs\");"
   ]
  },
  {
   "cell_type": "markdown",
   "metadata": {},
   "source": [
    "The best learning parameter for BGD was found to be $\\eta \\approx 1.5$."
   ]
  },
  {
   "cell_type": "code",
   "execution_count": 14,
   "metadata": {},
   "outputs": [
    {
     "data": {
      "text/plain": [
       "'Best theta BGD: [[2.1082]\\n [0.7394]\\n [0.6106]]'"
      ]
     },
     "metadata": {},
     "output_type": "display_data"
    }
   ],
   "source": [
    "theta_BGD = theta\n",
    "with np.printoptions(precision=4):\n",
    "    display(f'Best theta BGD: {theta_BGD}')"
   ]
  },
  {
   "cell_type": "markdown",
   "metadata": {},
   "source": [
    "This can be compared to the data parameters, which were $\\theta_0 = 2$, $\\theta_1 = 1$ and $\\theta_2 = 0.5$."
   ]
  },
  {
   "cell_type": "markdown",
   "metadata": {},
   "source": [
    "### Stochastic gradient descent"
   ]
  },
  {
   "cell_type": "code",
   "execution_count": 15,
   "metadata": {},
   "outputs": [
    {
     "data": {
      "image/png": "[encoded data removed]",
      "text/plain": [
       "<Figure size 432x288 with 1 Axes>"
      ]
     },
     "metadata": {
      "needs_background": "light"
     },
     "output_type": "display_data"
    }
   ],
   "source": [
    "m = len(X)\n",
    "# For each epoch, go through all data.\n",
    "n_epochs = 50\n",
    "# Define learning paramaters as in the example\n",
    "t0, t1 = 5, 50\n",
    "\n",
    "theta_path_sgd = []\n",
    "\n",
    "def learning_schedule(t):\n",
    "    return t0 / (t+t1)\n",
    "\n",
    "theta = np.random.randn(3,1)  # Initialize theta\n",
    "\n",
    "fig, ax = plt.subplots(1,1)\n",
    "ax.plot(X, y, 'b.', label='Data')  # Plot the data\n",
    "\n",
    "X_p = np.linspace(0,2,m) ## Predict design matrix\n",
    "X_p = X_p.reshape((m,1))\n",
    "X_p_d = np.concatenate((X_p**0, X_p**1, X_p**2), axis=1)\n",
    "for epoch in range (n_epochs):\n",
    "    for i in range(m):\n",
    "        if epoch == 0 and i < 5:\n",
    "            # Plot the first five iterations\n",
    "            y_predict = X_p_d.dot(theta)\n",
    "            style = \"b-\" if i > 0 else \"r--\"\n",
    "            ax.plot(X_p, y_predict, style, label=f'iteration {epoch*m + i}')\n",
    "        # Go to a random instance of the data\n",
    "        random_index = np.random.randint(m)\n",
    "        xi = X_d[random_index: random_index+1]\n",
    "        yi = y[random_index:random_index+1]\n",
    "        # The differece is SGD is that the gradient is calculated in a random point\n",
    "        # instead of over all instances at once as in BGD. Thus, we take a lot\n",
    "        # of \"smaller\" steps than in BGD.\n",
    "        gradients = 2 * xi.T.dot(xi.dot(theta)-yi)  \n",
    "        eta = learning_schedule(epoch*m + i)\n",
    "        theta = theta - eta*gradients\n",
    "        # TODO save thetas for c)\n",
    "        theta_path_sgd.append(theta)\n",
    "        \n",
    "# Plot the final solution\n",
    "y_predict = X_p_d.dot(theta)\n",
    "style = \"g-\"\n",
    "ax.plot(X_p, y_predict, style, label=f'Final iteration {epoch*m + (i+1)}')\n",
    "ax.legend(loc='best');\n",
    "ax.set_xlabel('X')\n",
    "ax.set_ylabel('y')\n",
    "ax.set_title(f\"SGD {n_epochs} epochs\");"
   ]
  },
  {
   "cell_type": "code",
   "execution_count": 16,
   "metadata": {},
   "outputs": [
    {
     "data": {
      "text/plain": [
       "'Best theta SGD: [[2.0686]\\n [0.8301]\\n [0.556 ]]'"
      ]
     },
     "metadata": {},
     "output_type": "display_data"
    }
   ],
   "source": [
    "theta_SGD = theta\n",
    "with np.printoptions(precision=4):\n",
    "    display(f'Best theta SGD: {theta_SGD}')"
   ]
  },
  {
   "cell_type": "markdown",
   "metadata": {},
   "source": [
    "This can be compared to the data parameters, which were $\\theta_0 = 2$, $\\theta_1 = 1$ and $\\theta_2 = 0.5$."
   ]
  },
  {
   "cell_type": "markdown",
   "metadata": {},
   "source": [
    "So all my solutions, including the one from problem 2, are:"
   ]
  },
  {
   "cell_type": "code",
   "execution_count": 17,
   "metadata": {},
   "outputs": [
    {
     "data": {
      "text/plain": [
       "'theta problem 2: [[2.1123]\\n [0.7278]\\n [0.6162]]'"
      ]
     },
     "metadata": {},
     "output_type": "display_data"
    },
    {
     "data": {
      "text/plain": [
       "'Best theta BGD: [[2.1082]\\n [0.7394]\\n [0.6106]]'"
      ]
     },
     "metadata": {},
     "output_type": "display_data"
    },
    {
     "data": {
      "text/plain": [
       "'Best theta SGD: [[2.0686]\\n [0.8301]\\n [0.556 ]]'"
      ]
     },
     "metadata": {},
     "output_type": "display_data"
    }
   ],
   "source": [
    "with np.printoptions(precision=4):\n",
    "    display(f'theta problem 2: {theta_prob_2}')\n",
    "    display(f'Best theta BGD: {theta_BGD}')\n",
    "    display(f'Best theta SGD: {theta_SGD}')"
   ]
  },
  {
   "cell_type": "markdown",
   "metadata": {},
   "source": [
    "The solutions are all very similar, however SGD seems to come the closest to the actual data parameters, whereas BGD comes closer to the exact solution from problem 2. Note that the difference isn't very large, and that the computational resources required increases for the more advanced models. The normal equation used in problem 2 consists of a single line matrix calculation, with only four matrices and gives the exact solution to the problem. BGD does one matrix calculation for each iteration, and there are 1000 iterations in total. SGD does one matrix calculation, however with a very small matrix, for each iteration with 5000 iterations in total. It would be interesting to analyze the computational difference between the models in more detail."
   ]
  },
  {
   "cell_type": "markdown",
   "metadata": {},
   "source": [
    "## b) Mini-batch gradient descent"
   ]
  },
  {
   "cell_type": "code",
   "execution_count": 41,
   "metadata": {},
   "outputs": [
    {
     "name": "stdout",
     "output_type": "stream",
     "text": [
      "[[2.14582805]\n",
      " [0.59205496]\n",
      " [0.69017252]]\n"
     ]
    },
    {
     "data": {
      "image/png": "[encoded data removed]",
      "text/plain": [
       "<Figure size 432x288 with 1 Axes>"
      ]
     },
     "metadata": {
      "needs_background": "light"
     },
     "output_type": "display_data"
    }
   ],
   "source": [
    "np.random.seed(42)  # Force seed here so that subsequent runs are the same\n",
    "# Same as SGD, but with slight modifications\n",
    "m = len(X)\n",
    "# For each epoch, go through all data.\n",
    "n_epochs = 50\n",
    "batch_size = 0.2  # Batch size in %\n",
    "# Define learning paramaters as in the example\n",
    "t0, t1 = 20,80\n",
    "\n",
    "theta_path_mgd= []\n",
    "def learning_schedule(t):\n",
    "    return t0 / (t+t1)\n",
    "\n",
    "theta = np.random.randn(3,1)  # Initialize theta\n",
    "\n",
    "fig, ax = plt.subplots(1,1)\n",
    "ax.plot(X, y, 'b.', label='Data')  # Plot the data\n",
    "\n",
    "## Create predict design matrix\n",
    "X_p = np.linspace(0,2,m) \n",
    "X_p = X_p.reshape((m,1))\n",
    "X_p_d = np.concatenate((X_p**0, X_p**1, X_p**2), axis=1)\n",
    "\n",
    "for epoch in range(n_epochs):\n",
    "    # Set random seed. This is necessary to permute x and y in the same way\n",
    "    np.random.seed(epoch)\n",
    "    # Permute data and split into batches. This makes \"sure\" that the \n",
    "    # mini-batches are different between epochs.\n",
    "    X_perm = np.random.permutation(X)\n",
    "    # Reset the random number generator\n",
    "    np.random.seed(epoch)\n",
    "    y_perm = np.random.permutation(y)\n",
    "    # Split into groups of size batch_size*m\n",
    "    X_batches = [X[int(i*m*batch_size):int((i+1)*m*batch_size)] for i in range(int(m/(batch_size*100)))]\n",
    "    y_batches = [y[int(i*m*batch_size):int((i+1)*m*batch_size)] for i in range(int(m/(batch_size*100)))]\n",
    "    for idx in range(len(X_batches)):\n",
    "        if idx == 0 and epoch < 5:\n",
    "            # Plot the first five iterations in epoch one\n",
    "            y_predict = X_p_d.dot(theta)\n",
    "            style = \"b-\" if epoch > 0 else \"r--\"\n",
    "            ax.plot(X_p, y_predict, style, label=f'iteration {(epoch+1) +(idx+1)}')\n",
    "        x_b = X_batches[idx]\n",
    "        y_b = y_batches[idx] \n",
    "        # Create design matrix\n",
    "        X_b_d = np.concatenate((x_b**0, x_b**1, x_b**2), axis=1)\n",
    "        # Calculate the gradient and apply to theta\n",
    "        n = len(x_b)\n",
    "        gradient = 2/n * X_b_d.T.dot(X_b_d.dot(theta)-y_b)\n",
    "        eta = learning_schedule(epoch*m + idx)\n",
    "        theta = theta - eta*gradient\n",
    "        # TODO save for plot in c)\n",
    "        theta_path_mgd.append(theta)\n",
    "\n",
    "# Plot the final solution\n",
    "y_predict = X_p_d.dot(theta)\n",
    "style = \"g-\"\n",
    "ax.plot(X_p, y_predict, style, label=f'Final iteration {(epoch+1)*(idx+1)}')\n",
    "ax.legend(loc='best');\n",
    "ax.set_xlabel('X')\n",
    "ax.set_ylabel('y')\n",
    "ax.set_title(f\"MGD {n_epochs} epochs\");\n",
    "theta_MGD = theta\n",
    "print(theta_MGD)"
   ]
  },
  {
   "cell_type": "code",
   "execution_count": 43,
   "metadata": {},
   "outputs": [
    {
     "data": {
      "text/plain": [
       "'theta problem 2: [[2.1123]\\n [0.7278]\\n [0.6162]]'"
      ]
     },
     "metadata": {},
     "output_type": "display_data"
    },
    {
     "data": {
      "text/plain": [
       "'Best theta BGD: [[2.1082]\\n [0.7394]\\n [0.6106]]'"
      ]
     },
     "metadata": {},
     "output_type": "display_data"
    },
    {
     "data": {
      "text/plain": [
       "'Best theta SGD: [[2.0686]\\n [0.8301]\\n [0.556 ]]'"
      ]
     },
     "metadata": {},
     "output_type": "display_data"
    },
    {
     "data": {
      "text/plain": [
       "'Best theta MGD: [[2.1458]\\n [0.5921]\\n [0.6902]]'"
      ]
     },
     "metadata": {},
     "output_type": "display_data"
    }
   ],
   "source": [
    "with np.printoptions(precision=4):\n",
    "    display(f'theta problem 2: {theta_prob_2}')\n",
    "    display(f'Best theta BGD: {theta_BGD}')\n",
    "    display(f'Best theta SGD: {theta_SGD}')\n",
    "    display(f'Best theta MGD: {theta_MGD}')"
   ]
  },
  {
   "cell_type": "markdown",
   "metadata": {},
   "source": [
    "The solution using MGD gets fairly close to the exact solution from problem 2, and it does so in much fewer iterations than BGD and SGD. It's hard to tell which of the methods performs the best without a more in-depth analysis, but MGD seems to be one of the best. "
   ]
  },
  {
   "cell_type": "markdown",
   "metadata": {},
   "source": [
    "## c) Convergence"
   ]
  },
  {
   "cell_type": "markdown",
   "metadata": {},
   "source": [
    "Plot only $\\theta_1$ and $\\theta_2$ since they control the shape of the curve. $\\theta_0$ is only a bias term to the curve. "
   ]
  },
  {
   "cell_type": "code",
   "execution_count": 70,
   "metadata": {},
   "outputs": [
    {
     "data": {
      "image/png": "[encoded data removed]",
      "text/plain": [
       "<Figure size 432x288 with 1 Axes>"
      ]
     },
     "metadata": {
      "needs_background": "light"
     },
     "output_type": "display_data"
    }
   ],
   "source": [
    "fig, ax = plt.subplots(1,1)\n",
    "\n",
    "# reshape data for plot\n",
    "# BGD\n",
    "bgd = np.array(theta_path_bgd)\n",
    "bgd = bgd.reshape((len(bgd),3))\n",
    "# SGD\n",
    "sgd = np.array(theta_path_sgd)\n",
    "sgd = sgd.reshape((len(sgd),3))\n",
    "# MGD\n",
    "mgd = np.array(theta_path_mgd)\n",
    "mgd = mgd.reshape((len(mgd),3))\n",
    "\n",
    "ax.plot(bgd[:, 1], bgd[:, 2], 'b.', label='BGD')\n",
    "ax.plot(sgd[:, 1], sgd[:, 2], 'r.', label='SGD')\n",
    "ax.plot(mgd[:, 1], mgd[:, 2], 'g.', label='MGD')\n",
    "# Plot solution from problem 2\n",
    "ax.plot(theta_prob_2[1], theta_prob_2[2], 'k*', label='Exact solution')\n",
    "ax.legend(loc='best');\n",
    "ax.set_xlabel('theta1')\n",
    "ax.set_ylabel('theta2')\n",
    "ax.set_title(f\"Convergence in the theta1-theta2 plane\");\n",
    "plt.grid(True)\n"
   ]
  },
  {
   "cell_type": "markdown",
   "metadata": {},
   "source": [
    "Here we see that BGD comes closest to the exact solution (in the $\\theta_1-\\theta_2$ plane), with SGD and MGD some distance away. Note though that it takes BGD far longer to converge, whilst SGD and MGD converges very rapidly. This gives us some indication on the computational efficiency of the techniques. BGD seems to be very stable but computationally intensive and SGD is a bit more erratic in it's convergence. MGD strikes the middle ground in between the two, with a somewhat slower but much more stable convergence than SGD. \n",
    "\n",
    "Thus one can conclude that it is unecessaryto calculate the gradients from the full batches, but a bit too unstable to do it from stochastically chosen instances of the data. The sweetspot seems to be to consider some fairly large fraction of the data for each batch. "
   ]
  },
  {
   "cell_type": "code",
   "execution_count": null,
   "metadata": {},
   "outputs": [],
   "source": []
  }
 ],
 "metadata": {
  "kernelspec": {
   "display_name": "Python 3",
   "language": "python",
   "name": "python3"
  },
  "language_info": {
   "codemirror_mode": {
    "name": "ipython",
    "version": 3
   },
   "file_extension": ".py",
   "mimetype": "text/x-python",
   "name": "python",
   "nbconvert_exporter": "python",
   "pygments_lexer": "ipython3",
   "version": "3.7.1"
  }
 },
 "nbformat": 4,
 "nbformat_minor": 2
}
