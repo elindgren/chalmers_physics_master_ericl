{
 "cells": [
  {
   "cell_type": "markdown",
   "metadata": {},
   "source": [
    "#### Name: Eric Lindgren\n",
    "#### CID: ericlin\n",
    "#### PSN: 970222-1954"
   ]
  },
  {
   "cell_type": "markdown",
   "metadata": {},
   "source": [
    "## Deep neural network python class"
   ]
  },
  {
   "cell_type": "code",
   "execution_count": 96,
   "metadata": {},
   "outputs": [],
   "source": [
    "# Imports\n",
    "import numpy as np\n",
    "import matplotlib.pyplot as plt\n",
    "\n",
    "# Set plot params\n",
    "plt.rc('font', size=14)          # controls default text sizes\n",
    "plt.rc('axes', titlesize=14)     # fontsize of the axes title\n",
    "plt.rc('axes', labelsize=16)    # fontsize of the x and y labels\n",
    "plt.rc('xtick', labelsize=14)    # fontsize of the tick labels\n",
    "plt.rc('ytick', labelsize=14)    # fontsize of the tick labels\n",
    "plt.rc('legend', fontsize=14)    # legend fontsize"
   ]
  },
  {
   "cell_type": "markdown",
   "metadata": {},
   "source": [
    "#### Load the data"
   ]
  },
  {
   "cell_type": "code",
   "execution_count": 2,
   "metadata": {},
   "outputs": [
    {
     "name": "stdout",
     "output_type": "stream",
     "text": [
      "inputs: (n_data, pixel_width, pixel_height) = (1797, 8, 8)\n",
      "                       with labels (n_data) = (1797,)\n",
      "\n",
      "flattened input, X: (n_inputs, n_features)  = (1797, 64)\n"
     ]
    },
    {
     "data": {
      "image/png": "[encoded data removed]",
      "text/plain": [
       "<Figure size 432x288 with 5 Axes>"
      ]
     },
     "metadata": {
      "needs_background": "light"
     },
     "output_type": "display_data"
    }
   ],
   "source": [
    "# import \n",
    "from sklearn import datasets\n",
    "\n",
    "# ensure the same random numbers appear every time\n",
    "np.random.seed(0)\n",
    "\n",
    "# download MNIST dataset\n",
    "digits = datasets.load_digits()\n",
    "\n",
    "# define inputs and labels\n",
    "inputs = digits.images\n",
    "labels = digits.target\n",
    "\n",
    "print(f\"inputs: (n_data, pixel_width, pixel_height) = {inputs.shape}\")\n",
    "print(f\"                       with labels (n_data) = {labels.shape}\")\n",
    "\n",
    "\n",
    "# flatten the image\n",
    "# the value -1 means dimension is inferred from the remaining dimensions: 8x8 = 64\n",
    "n_inputs = len(inputs)\n",
    "inputs = inputs.reshape(n_inputs, -1)\n",
    "print(f\"\\nflattened input, X: (n_inputs, n_features)  = {inputs.shape}\")\n",
    "\n",
    "\n",
    "# choose some random images to display\n",
    "indices = np.arange(n_inputs)\n",
    "random_indices = np.random.choice(indices, size=5)\n",
    "\n",
    "for i, image in enumerate(digits.images[random_indices]):\n",
    "    plt.subplot(1, 5, i+1)\n",
    "    plt.axis('off')\n",
    "    plt.imshow(image, cmap=plt.cm.gray_r, interpolation='nearest')\n",
    "    plt.title(f\"Label: {digits.target[random_indices[i]]:1}\")"
   ]
  },
  {
   "cell_type": "code",
   "execution_count": 3,
   "metadata": {},
   "outputs": [
    {
     "name": "stdout",
     "output_type": "stream",
     "text": [
      "Number of training images: 1257\n",
      "Number of test images:      540\n"
     ]
    }
   ],
   "source": [
    "from sklearn.model_selection import train_test_split\n",
    "\n",
    "# ensure the same random numbers appear every time\n",
    "np.random.seed(0)\n",
    "\n",
    "train_size = 0.7\n",
    "test_size = 1 - train_size\n",
    "X_train, X_test, Y_train, Y_test = train_test_split(inputs, labels, train_size=train_size,\n",
    "                                                    test_size=test_size)\n",
    "\n",
    "print(f\"Number of training images: {len(X_train):4}\")\n",
    "print(f\"Number of test images:     {len(X_test):4}\")"
   ]
  },
  {
   "cell_type": "code",
   "execution_count": 4,
   "metadata": {},
   "outputs": [],
   "source": [
    "# to categorical turns our integer vector into a onehot representation\n",
    "# we implement it in in numpy\n",
    "def to_categorical_numpy(integer_vector):\n",
    "    n_inputs = len(integer_vector)\n",
    "    n_categories = np.max(integer_vector) + 1\n",
    "    onehot_vector = np.zeros((n_inputs, n_categories))\n",
    "    onehot_vector[range(n_inputs), integer_vector] = 1\n",
    "    \n",
    "    return onehot_vector\n",
    "\n",
    "Y_train_onehot, Y_test_onehot = to_categorical_numpy(Y_train), to_categorical_numpy(Y_test)"
   ]
  },
  {
   "cell_type": "markdown",
   "metadata": {},
   "source": [
    "## Task 1: Full object oriented implementation"
   ]
  },
  {
   "cell_type": "code",
   "execution_count": 60,
   "metadata": {},
   "outputs": [],
   "source": [
    "class NeuralNetwork:\n",
    "    def __init__(\n",
    "            self,\n",
    "            X_data,\n",
    "            Y_data,\n",
    "            n_hidden_neurons=50,\n",
    "            n_categories=10,\n",
    "            epochs=10,\n",
    "            batch_size=100,\n",
    "            eta=0.1,\n",
    "            lmbd=0.0):\n",
    "\n",
    "        self.X_data_full = X_data\n",
    "        self.Y_data_full = Y_data\n",
    "\n",
    "        self.n_inputs = X_data.shape[0]\n",
    "        self.n_features = X_data.shape[1]\n",
    "        self.n_hidden_neurons = n_hidden_neurons\n",
    "        self.n_categories = n_categories\n",
    "\n",
    "        self.epochs = epochs\n",
    "        self.batch_size = batch_size\n",
    "        self.iterations = self.n_inputs // self.batch_size\n",
    "        self.eta = eta\n",
    "        self.lmbd = lmbd\n",
    "\n",
    "        self.create_biases_and_weights()\n",
    "\n",
    "    def sigmoid(self, z):\n",
    "        return 1./(1. + np.exp(-z))\n",
    "    \n",
    "    \n",
    "    def softmax(self, z):\n",
    "        '''Softmax activation function for the output layer.'''\n",
    "        ax=0\n",
    "        if isinstance(z[0], np.ndarray):\n",
    "            'Check if a list, if so use matrix version of argmax.'\n",
    "            ax=1\n",
    "        return np.exp(z)/((np.exp(z)).sum(axis=ax)).reshape(-1,1)\n",
    "\n",
    "\n",
    "    def create_biases_and_weights(self):\n",
    "        self.hidden_weights = np.random.randn(self.n_features, self.n_hidden_neurons)\n",
    "        self.hidden_bias = np.zeros(self.n_hidden_neurons) + 0.01\n",
    "\n",
    "        self.output_weights = np.random.randn(self.n_hidden_neurons, self.n_categories)\n",
    "        self.output_bias = np.zeros(self.n_categories) + 0.01\n",
    "\n",
    "        \n",
    "    def feed_forward(self):\n",
    "        # feed-forward for training\n",
    "        # Hidden layer\n",
    "        self.z_h = self.X_data@self.hidden_weights + self.hidden_bias.T  # z_h\n",
    "        self.a_h = self.sigmoid(z=self.z_h)  # a_h\n",
    "        # Output layer\n",
    "        self.z_o = self.a_h@self.output_weights + self.output_bias.T\n",
    "        self.probabilities = self.softmax(self.z_o)\n",
    "\n",
    "        \n",
    "    def backpropagation(self):\n",
    "        \n",
    "        error_output = self.probabilities - self.Y_data\n",
    "        error_hidden = np.matmul(error_output, self.output_weights.T) * self.a_h * (1 - self.a_h)\n",
    "\n",
    "        self.output_weights_gradient = np.matmul(self.a_h.T, error_output)\n",
    "        self.output_bias_gradient = np.sum(error_output, axis=0)\n",
    "\n",
    "        self.hidden_weights_gradient = np.matmul(self.X_data.T, error_hidden)\n",
    "        self.hidden_bias_gradient = np.sum(error_hidden, axis=0)\n",
    "\n",
    "        # Add the weight gradients from the regularizer term.\n",
    "        # Add code here\n",
    "        #self.hidden_weights_gradient += lmbd*self.hidden_weights\n",
    "        #self.output_weights_gradient += lmbd*self.output_weights\n",
    "\n",
    "        self.output_weights -= self.eta * self.output_weights_gradient\n",
    "        self.output_bias -= self.eta * self.output_bias_gradient\n",
    "        self.hidden_weights -= self.eta * self.hidden_weights_gradient\n",
    "        self.hidden_bias -= self.eta * self.hidden_bias_gradient\n",
    "\n",
    "\n",
    "    def fixed_feed_forward(self, X):\n",
    "        '''\n",
    "        Performs a feed formward pass for input data X. For use exclusively by the predict and \n",
    "        predict_probabilities functions.\n",
    "        '''\n",
    "        z_h = X@self.hidden_weights + self.hidden_bias.T  # z_h\n",
    "        a_h = self.sigmoid(z=z_h)  # a_h\n",
    "        # Output layer\n",
    "        z_o = a_h@self.output_weights + self.output_bias.T\n",
    "        a_o = self.softmax(z_o)\n",
    "\n",
    "        return a_o\n",
    "        \n",
    "    \n",
    "    def predict(self, X):\n",
    "        '''Return a vector of predictions for input X'''\n",
    "        probabilities = self.fixed_feed_forward(X)\n",
    "        if isinstance(probabilities[0], np.ndarray):\n",
    "            'Check if a list, if so use matrix version of argmax.'\n",
    "            class_label = probabilities.argmax(axis=1)  # Returns a number between 0-9 - the index\n",
    "        else: \n",
    "            class_label = self.probabilities.argmax()\n",
    "        return class_label\n",
    "\n",
    "        \n",
    "    def predict_probabilities(self, X):\n",
    "        '''Return all of the probabilities for input X'''\n",
    "        probabilities = fixed_feed_forward(X)\n",
    "        return probabilities\n",
    "    \n",
    "        \n",
    "    def train(self):\n",
    "        data_indices = np.arange(self.n_inputs)\n",
    "\n",
    "        for i in range(self.epochs):\n",
    "            for j in range(self.iterations):\n",
    "                # pick datapoints with replacement\n",
    "                chosen_datapoints = np.random.choice(\n",
    "                    data_indices, size=self.batch_size, replace=False\n",
    "                )\n",
    "\n",
    "                # minibatch training data\n",
    "                self.X_data = self.X_data_full[chosen_datapoints]\n",
    "                self.Y_data = self.Y_data_full[chosen_datapoints]\n",
    "\n",
    "                self.feed_forward()\n",
    "                self.backpropagation()"
   ]
  },
  {
   "cell_type": "markdown",
   "metadata": {},
   "source": [
    "## Task 2: Train and evaluate model performance on test data"
   ]
  },
  {
   "cell_type": "code",
   "execution_count": 61,
   "metadata": {},
   "outputs": [],
   "source": [
    "from sklearn.metrics import accuracy_score\n",
    "\n",
    "epochs = 100\n",
    "batch_size = 100\n",
    "\n",
    "n_hidden_neurons = 50\n",
    "n_categories = 10\n",
    "\n",
    "eta=0.1\n",
    "lmbd=0.\n",
    "\n",
    "# ensure the same random numbers appear every time\n",
    "np.random.seed(0)\n",
    "\n",
    "dnn = NeuralNetwork(X_train, Y_train_onehot, eta=eta, lmbd=lmbd, epochs=epochs, batch_size=batch_size,\n",
    "                    n_hidden_neurons=n_hidden_neurons, n_categories=n_categories)"
   ]
  },
  {
   "cell_type": "code",
   "execution_count": 62,
   "metadata": {},
   "outputs": [
    {
     "name": "stdout",
     "output_type": "stream",
     "text": [
      "Accuracy on training data before training: 0.046\n"
     ]
    }
   ],
   "source": [
    "print(f\"Accuracy on training data before training: {accuracy_score(dnn.predict(X_train), Y_train):.3f}\")"
   ]
  },
  {
   "cell_type": "code",
   "execution_count": 77,
   "metadata": {},
   "outputs": [
    {
     "name": "stdout",
     "output_type": "stream",
     "text": [
      "Accuracy on training data after training: 0.103\n",
      "Accuracy on test data after training: 0.100\n"
     ]
    }
   ],
   "source": [
    "# Train the network\n",
    "dnn.train()\n",
    "print(f\"Accuracy on training data after training: {accuracy_score(dnn.predict(X_train), Y_train):.3f}\")\n",
    "# Accuracy on the test data\n",
    "print(f\"Accuracy on test data after training: {accuracy_score(dnn.predict(X_test), Y_test):.3f}\")"
   ]
  },
  {
   "cell_type": "markdown",
   "metadata": {},
   "source": [
    "Very bad performance, as expected! We need to optimize the hyperparameters."
   ]
  },
  {
   "cell_type": "markdown",
   "metadata": {},
   "source": [
    "## Task 3: Improving performance"
   ]
  },
  {
   "cell_type": "code",
   "execution_count": 111,
   "metadata": {},
   "outputs": [
    {
     "name": "stderr",
     "output_type": "stream",
     "text": [
      "C:\\Users\\ericl\\Anaconda3\\lib\\site-packages\\ipykernel_launcher.py:39: RuntimeWarning: invalid value encountered in true_divide\n"
     ]
    }
   ],
   "source": [
    "# Define grid\n",
    "etas = [10.0**i for i in np.arange(-5,1)]\n",
    "lmbds = [10.0**i for i in np.arange(-5,1)]\n",
    "\n",
    "training_results = np.zeros((len(etas), len(lmbds))) \n",
    "test_results = np.zeros((len(etas), len(lmbds)))\n",
    "\n",
    "# Other hyperparameters\n",
    "epochs = 100\n",
    "batch_size = 100\n",
    "\n",
    "n_hidden_neurons = 50\n",
    "n_categories = 10\n",
    "np.random.seed(0)\n",
    "\n",
    "# Parse through the grid, defining a new network and \n",
    "for i, eta in enumerate(etas):\n",
    "    for j, lmdb in enumerate(lmbds):\n",
    "        dnn = NeuralNetwork(X_train, Y_train_onehot, eta=eta, lmbd=lmbd, epochs=epochs, batch_size=batch_size,\n",
    "                    n_hidden_neurons=n_hidden_neurons, n_categories=n_categories)\n",
    "        dnn.train() # Train the network\n",
    "        # Training performance\n",
    "        train_res = accuracy_score(dnn.predict(X_train), Y_train)\n",
    "        # Test results\n",
    "        test_res = accuracy_score(dnn.predict(X_test), Y_test)  # Note that this is a cardinal sin! Indirect contamination of test set!\n",
    "        # Save the results\n",
    "        training_results[i,j] = train_res\n",
    "        test_results[i,j] = test_res"
   ]
  },
  {
   "cell_type": "code",
   "execution_count": 115,
   "metadata": {},
   "outputs": [
    {
     "name": "stdout",
     "output_type": "stream",
     "text": [
      "Best eta is 0.01.\n",
      "Best lambda is 1e-05.\n"
     ]
    },
    {
     "data": {
      "image/png": "[encoded data removed]",
      "text/plain": [
       "<Figure size 720x432 with 1 Axes>"
      ]
     },
     "metadata": {
      "needs_background": "light"
     },
     "output_type": "display_data"
    },
    {
     "data": {
      "image/png": "[encoded data removed]",
      "text/plain": [
       "<Figure size 720x432 with 1 Axes>"
      ]
     },
     "metadata": {
      "needs_background": "light"
     },
     "output_type": "display_data"
    }
   ],
   "source": [
    "fig1, ax1 = plt.subplots(figsize=(10,6))\n",
    "\n",
    "plt.contourf(np.log10(etas), np.log10(lmbds), training_results.T, levels=6)  # Dimensions must be flipped for some reason\n",
    "ax1.set_xlabel(r'$\\log(\\eta)$')\n",
    "ax1.set_ylabel(r'$\\log(\\lambda)$')\n",
    "ax1.set_title(\"Training results\")\n",
    "\n",
    "fig2, ax2 = plt.subplots(figsize=(10,6))\n",
    "plt.contourf(np.log10(etas), np.log10(lmbds), test_results.T, levels=6)  # Dimensions must be flipped for some reason\n",
    "ax2.set_xlabel(r'$\\log(\\eta)$')\n",
    "ax2.set_ylabel(r'$\\log(\\lambda)$')\n",
    "ax2.set_title(\"Test data\")\n",
    "\n",
    "# Get the best combination\n",
    "ind = np.unravel_index(np.argmax(training_results, axis=None), training_results.shape)\n",
    "best_eta = etas[ind[0]]\n",
    "best_lmbd = lmbds[ind[1]]\n",
    "print(f'Best eta is {best_eta}.')\n",
    "print(f'Best lambda is {best_lmbd}.')"
   ]
  },
  {
   "cell_type": "code",
   "execution_count": 126,
   "metadata": {},
   "outputs": [
    {
     "name": "stdout",
     "output_type": "stream",
     "text": [
      "Accuracy on training data after training with the best parameters is: 0.998.\n",
      "Accuracy on test data after training with the best parameters is: 0.943.\n"
     ]
    }
   ],
   "source": [
    "# Train the network using the best parameters and evalute on test set\n",
    "# Other hyperparameters\n",
    "epochs = 100\n",
    "batch_size = 100\n",
    "\n",
    "n_hidden_neurons = 50\n",
    "n_categories = 10\n",
    "np.random.seed(0)\n",
    "\n",
    "dnn = NeuralNetwork(X_train, Y_train_onehot, eta=best_eta, lmbd=best_lmbd, epochs=epochs, batch_size=batch_size,\n",
    "                    n_hidden_neurons=n_hidden_neurons, n_categories=n_categories)\n",
    "dnn.train()\n",
    "print(f\"Accuracy on training data after training with the best parameters is: {accuracy_score(dnn.predict(X_train), Y_train):.3f}.\")\n",
    "# Accuracy on the test data\n",
    "print(f\"Accuracy on test data after training with the best parameters is: {accuracy_score(dnn.predict(X_test), Y_test):.3f}.\")"
   ]
  },
  {
   "cell_type": "code",
   "execution_count": null,
   "metadata": {},
   "outputs": [],
   "source": []
  }
 ],
 "metadata": {
  "kernelspec": {
   "display_name": "Python 3",
   "language": "python",
   "name": "python3"
  },
  "language_info": {
   "codemirror_mode": {
    "name": "ipython",
    "version": 3
   },
   "file_extension": ".py",
   "mimetype": "text/x-python",
   "name": "python",
   "nbconvert_exporter": "python",
   "pygments_lexer": "ipython3",
   "version": "3.7.1"
  }
 },
 "nbformat": 4,
 "nbformat_minor": 2
}
