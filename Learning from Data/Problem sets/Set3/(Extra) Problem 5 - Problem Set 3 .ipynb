{
 "cells": [
  {
   "cell_type": "markdown",
   "metadata": {},
   "source": [
    "#### Name: Eric Lindgren\n",
    "#### CID: ericlin\n",
    "#### PSN: 970222-1954"
   ]
  },
  {
   "cell_type": "markdown",
   "metadata": {},
   "source": [
    "## Bayesian Optimization"
   ]
  },
  {
   "cell_type": "code",
   "execution_count": 29,
   "metadata": {},
   "outputs": [],
   "source": [
    "# Imports\n",
    "# KEYS\n",
    "#\n",
    "%matplotlib inline\n",
    "import numpy as np\n",
    "import scipy as sp\n",
    "from matplotlib import pyplot as plt\n",
    "import GPy\n",
    "\n",
    "# Not really needed, but nicer plots\n",
    "import seaborn as sns\n",
    "sns.set()\n",
    "sns.set_context(\"talk\")"
   ]
  },
  {
   "cell_type": "markdown",
   "metadata": {},
   "source": [
    "### Task 1"
   ]
  },
  {
   "cell_type": "code",
   "execution_count": 22,
   "metadata": {},
   "outputs": [
    {
     "name": "stdout",
     "output_type": "stream",
     "text": [
      "True function passing unit test: True\n"
     ]
    }
   ],
   "source": [
    "def true_func(x):\n",
    "    '''The true function for which we wish to find the min.'''\n",
    "    return np.sin(6*x) + 0.2*x**2 - 0.7*x\n",
    "\n",
    "\n",
    "# Tests\n",
    "print(f'True function passing unit test: {-1.137==np.round(true_func(2),3)}')"
   ]
  },
  {
   "cell_type": "code",
   "execution_count": 24,
   "metadata": {},
   "outputs": [
    {
     "data": {
      "text/plain": [
       "<matplotlib.legend.Legend at 0x1f8412d1e10>"
      ]
     },
     "execution_count": 24,
     "metadata": {},
     "output_type": "execute_result"
    },
    {
     "data": {
      "image/png": "[encoded data removed]",
      "text/plain": [
       "<Figure size 720x432 with 1 Axes>"
      ]
     },
     "metadata": {
      "needs_background": "light"
     },
     "output_type": "display_data"
    }
   ],
   "source": [
    "#Plot\n",
    "x = np.linspace(-5,5,100)\n",
    "\n",
    "fig, ax = plt.subplots(figsize=(10,6))\n",
    "ax.plot(x, true_func(x), label='True function')\n",
    "# The minimum is at around 2\n",
    "ax.axvline(1.825, color='r', label='Minimum')\n",
    "plt.legend(loc=\"best\")"
   ]
  },
  {
   "cell_type": "code",
   "execution_count": 46,
   "metadata": {},
   "outputs": [
    {
     "name": "stdout",
     "output_type": "stream",
     "text": [
      "Number of succesful terminations: 12 out of 100.\n",
      "Average number of optimization iterations per succesful termination: 6.08.\n"
     ]
    }
   ],
   "source": [
    "# Minimize using scipy.optimize for 100 times\n",
    "\n",
    "np.random.seed(1)  # Set seed \n",
    "nbr_iter = 100  # Number of optimizations\n",
    "nbr_correct = 0  # Number of ''correct'' optimizations\n",
    "function_calls_correct = []  # An array containing the number of function calls for each succesful termination\n",
    "x_star = 1.825  # The estimated minimum from the plot above\n",
    "tol = 0.05  # The range in which we want our solution to get for a successful minimum\n",
    "\n",
    "# Rename sp.optimize.minimize as minmz\n",
    "minmz = sp.optimize.minimize\n",
    "\n",
    "for i in range(nbr_iter):\n",
    "    # Draw a random starting point in the interval x \\in (-5, 5).\n",
    "    x_start= np.random.uniform(-5,5)\n",
    "    # Optimize using Nealder Mead, with a\n",
    "    opt_results = minmz(fun=true_func, x0=x_start, method='Nelder-Mead', tol=0.01)\n",
    "    # Check if terminated to x_star\n",
    "    x_star_opt = opt_results.x\n",
    "    if np.abs(x_star - x_star_opt) < tol:\n",
    "        #print(f'Optimization terminated succesfully to {x_star_opt}')\n",
    "        nbr_correct += 1  # Increase number of correct optimizations\n",
    "        function_calls_correct.append(opt_results.nit)  # Append number of function calls\n",
    "        \n",
    "# Sanity check\n",
    "assert nbr_correct == len(function_calls_correct)\n",
    "\n",
    "# Print results\n",
    "print(f'Number of succesful terminations: {nbr_correct} out of {nbr_iter}.')\n",
    "print(f'Average number of optimization iterations per succesful termination: {np.mean(function_calls_correct):.2f}.')"
   ]
  },
  {
   "cell_type": "markdown",
   "metadata": {},
   "source": [
    "### Task 2"
   ]
  },
  {
   "cell_type": "code",
   "execution_count": null,
   "metadata": {},
   "outputs": [],
   "source": [
    "def LCB_fun(model, D_k):\n",
    "    '''Implements the Lower Confidence Bound (LCB) acquisition function for GP model 'model'.'''\n",
    "    mean = \n",
    "    sigma = \n",
    "    return mean-sigma\n",
    "    "
   ]
  },
  {
   "cell_type": "code",
   "execution_count": 93,
   "metadata": {},
   "outputs": [
    {
     "name": "stderr",
     "output_type": "stream",
     "text": [
      "reconstraining parameters GP_regression.rbf.lengthscale\n"
     ]
    },
    {
     "name": "stdout",
     "output_type": "stream",
     "text": [
      "(1, 1)\n",
      "(1, 1)\n"
     ]
    },
    {
     "ename": "AssertionError",
     "evalue": "",
     "output_type": "error",
     "traceback": [
      "\u001b[1;31m---------------------------------------------------------------------------\u001b[0m",
      "\u001b[1;31mAssertionError\u001b[0m                            Traceback (most recent call last)",
      "\u001b[1;32m<ipython-input-93-677f6eeca22b>\u001b[0m in \u001b[0;36m<module>\u001b[1;34m\u001b[0m\n\u001b[0;32m     31\u001b[0m     \u001b[0mD\u001b[0m \u001b[1;33m=\u001b[0m \u001b[0mnp\u001b[0m\u001b[1;33m.\u001b[0m\u001b[0mappend\u001b[0m\u001b[1;33m(\u001b[0m\u001b[0mD\u001b[0m\u001b[1;33m,\u001b[0m \u001b[0mxy\u001b[0m\u001b[1;33m)\u001b[0m\u001b[1;33m\u001b[0m\u001b[1;33m\u001b[0m\u001b[0m\n\u001b[0;32m     32\u001b[0m     \u001b[1;31m# Re-optimize the statistical model for the data\u001b[0m\u001b[1;33m\u001b[0m\u001b[1;33m\u001b[0m\u001b[1;33m\u001b[0m\u001b[0m\n\u001b[1;32m---> 33\u001b[1;33m     \u001b[0mmodel\u001b[0m \u001b[1;33m=\u001b[0m \u001b[0mGPy\u001b[0m\u001b[1;33m.\u001b[0m\u001b[0mmodels\u001b[0m\u001b[1;33m.\u001b[0m\u001b[0mGPRegression\u001b[0m\u001b[1;33m(\u001b[0m\u001b[0mD\u001b[0m\u001b[1;33m[\u001b[0m\u001b[1;36m0\u001b[0m\u001b[1;33m]\u001b[0m\u001b[1;33m,\u001b[0m\u001b[0mD\u001b[0m\u001b[1;33m[\u001b[0m\u001b[1;36m1\u001b[0m\u001b[1;33m]\u001b[0m\u001b[1;33m,\u001b[0m\u001b[0mkernel\u001b[0m\u001b[1;33m)\u001b[0m\u001b[1;33m\u001b[0m\u001b[1;33m\u001b[0m\u001b[0m\n\u001b[0m\u001b[0;32m     34\u001b[0m     \u001b[1;32mpass\u001b[0m\u001b[1;33m\u001b[0m\u001b[1;33m\u001b[0m\u001b[0m\n",
      "\u001b[1;32m~\\Anaconda3\\lib\\site-packages\\paramz\\parameterized.py\u001b[0m in \u001b[0;36m__call__\u001b[1;34m(self, *args, **kw)\u001b[0m\n\u001b[0;32m     51\u001b[0m         \u001b[1;31m#import ipdb;ipdb.set_trace()\u001b[0m\u001b[1;33m\u001b[0m\u001b[1;33m\u001b[0m\u001b[1;33m\u001b[0m\u001b[0m\n\u001b[0;32m     52\u001b[0m         \u001b[0minitialize\u001b[0m \u001b[1;33m=\u001b[0m \u001b[0mkw\u001b[0m\u001b[1;33m.\u001b[0m\u001b[0mpop\u001b[0m\u001b[1;33m(\u001b[0m\u001b[1;34m'initialize'\u001b[0m\u001b[1;33m,\u001b[0m \u001b[1;32mTrue\u001b[0m\u001b[1;33m)\u001b[0m\u001b[1;33m\u001b[0m\u001b[1;33m\u001b[0m\u001b[0m\n\u001b[1;32m---> 53\u001b[1;33m         \u001b[0mself\u001b[0m \u001b[1;33m=\u001b[0m \u001b[0msuper\u001b[0m\u001b[1;33m(\u001b[0m\u001b[0mParametersChangedMeta\u001b[0m\u001b[1;33m,\u001b[0m \u001b[0mself\u001b[0m\u001b[1;33m)\u001b[0m\u001b[1;33m.\u001b[0m\u001b[0m__call__\u001b[0m\u001b[1;33m(\u001b[0m\u001b[1;33m*\u001b[0m\u001b[0margs\u001b[0m\u001b[1;33m,\u001b[0m \u001b[1;33m**\u001b[0m\u001b[0mkw\u001b[0m\u001b[1;33m)\u001b[0m\u001b[1;33m\u001b[0m\u001b[1;33m\u001b[0m\u001b[0m\n\u001b[0m\u001b[0;32m     54\u001b[0m         \u001b[1;31m#logger.debug(\"finished init\")\u001b[0m\u001b[1;33m\u001b[0m\u001b[1;33m\u001b[0m\u001b[1;33m\u001b[0m\u001b[0m\n\u001b[0;32m     55\u001b[0m         \u001b[0mself\u001b[0m\u001b[1;33m.\u001b[0m\u001b[0m_in_init_\u001b[0m \u001b[1;33m=\u001b[0m \u001b[1;32mFalse\u001b[0m\u001b[1;33m\u001b[0m\u001b[1;33m\u001b[0m\u001b[0m\n",
      "\u001b[1;32m~\\Anaconda3\\lib\\site-packages\\GPy\\models\\gp_regression.py\u001b[0m in \u001b[0;36m__init__\u001b[1;34m(self, X, Y, kernel, Y_metadata, normalizer, noise_var, mean_function)\u001b[0m\n\u001b[0;32m     34\u001b[0m         \u001b[0mlikelihood\u001b[0m \u001b[1;33m=\u001b[0m \u001b[0mlikelihoods\u001b[0m\u001b[1;33m.\u001b[0m\u001b[0mGaussian\u001b[0m\u001b[1;33m(\u001b[0m\u001b[0mvariance\u001b[0m\u001b[1;33m=\u001b[0m\u001b[0mnoise_var\u001b[0m\u001b[1;33m)\u001b[0m\u001b[1;33m\u001b[0m\u001b[1;33m\u001b[0m\u001b[0m\n\u001b[0;32m     35\u001b[0m \u001b[1;33m\u001b[0m\u001b[0m\n\u001b[1;32m---> 36\u001b[1;33m         \u001b[0msuper\u001b[0m\u001b[1;33m(\u001b[0m\u001b[0mGPRegression\u001b[0m\u001b[1;33m,\u001b[0m \u001b[0mself\u001b[0m\u001b[1;33m)\u001b[0m\u001b[1;33m.\u001b[0m\u001b[0m__init__\u001b[0m\u001b[1;33m(\u001b[0m\u001b[0mX\u001b[0m\u001b[1;33m,\u001b[0m \u001b[0mY\u001b[0m\u001b[1;33m,\u001b[0m \u001b[0mkernel\u001b[0m\u001b[1;33m,\u001b[0m \u001b[0mlikelihood\u001b[0m\u001b[1;33m,\u001b[0m \u001b[0mname\u001b[0m\u001b[1;33m=\u001b[0m\u001b[1;34m'GP regression'\u001b[0m\u001b[1;33m,\u001b[0m \u001b[0mY_metadata\u001b[0m\u001b[1;33m=\u001b[0m\u001b[0mY_metadata\u001b[0m\u001b[1;33m,\u001b[0m \u001b[0mnormalizer\u001b[0m\u001b[1;33m=\u001b[0m\u001b[0mnormalizer\u001b[0m\u001b[1;33m,\u001b[0m \u001b[0mmean_function\u001b[0m\u001b[1;33m=\u001b[0m\u001b[0mmean_function\u001b[0m\u001b[1;33m)\u001b[0m\u001b[1;33m\u001b[0m\u001b[1;33m\u001b[0m\u001b[0m\n\u001b[0m\u001b[0;32m     37\u001b[0m \u001b[1;33m\u001b[0m\u001b[0m\n\u001b[0;32m     38\u001b[0m     \u001b[1;33m@\u001b[0m\u001b[0mstaticmethod\u001b[0m\u001b[1;33m\u001b[0m\u001b[1;33m\u001b[0m\u001b[0m\n",
      "\u001b[1;32m~\\Anaconda3\\lib\\site-packages\\GPy\\core\\gp.py\u001b[0m in \u001b[0;36m__init__\u001b[1;34m(self, X, Y, kernel, likelihood, mean_function, inference_method, name, Y_metadata, normalizer)\u001b[0m\n\u001b[0;32m     39\u001b[0m         \u001b[0msuper\u001b[0m\u001b[1;33m(\u001b[0m\u001b[0mGP\u001b[0m\u001b[1;33m,\u001b[0m \u001b[0mself\u001b[0m\u001b[1;33m)\u001b[0m\u001b[1;33m.\u001b[0m\u001b[0m__init__\u001b[0m\u001b[1;33m(\u001b[0m\u001b[0mname\u001b[0m\u001b[1;33m)\u001b[0m\u001b[1;33m\u001b[0m\u001b[1;33m\u001b[0m\u001b[0m\n\u001b[0;32m     40\u001b[0m \u001b[1;33m\u001b[0m\u001b[0m\n\u001b[1;32m---> 41\u001b[1;33m         \u001b[1;32massert\u001b[0m \u001b[0mX\u001b[0m\u001b[1;33m.\u001b[0m\u001b[0mndim\u001b[0m \u001b[1;33m==\u001b[0m \u001b[1;36m2\u001b[0m\u001b[1;33m\u001b[0m\u001b[1;33m\u001b[0m\u001b[0m\n\u001b[0m\u001b[0;32m     42\u001b[0m         \u001b[1;32mif\u001b[0m \u001b[0misinstance\u001b[0m\u001b[1;33m(\u001b[0m\u001b[0mX\u001b[0m\u001b[1;33m,\u001b[0m \u001b[1;33m(\u001b[0m\u001b[0mObsAr\u001b[0m\u001b[1;33m,\u001b[0m \u001b[0mVariationalPosterior\u001b[0m\u001b[1;33m)\u001b[0m\u001b[1;33m)\u001b[0m\u001b[1;33m:\u001b[0m\u001b[1;33m\u001b[0m\u001b[1;33m\u001b[0m\u001b[0m\n\u001b[0;32m     43\u001b[0m             \u001b[0mself\u001b[0m\u001b[1;33m.\u001b[0m\u001b[0mX\u001b[0m \u001b[1;33m=\u001b[0m \u001b[0mX\u001b[0m\u001b[1;33m.\u001b[0m\u001b[0mcopy\u001b[0m\u001b[1;33m(\u001b[0m\u001b[1;33m)\u001b[0m\u001b[1;33m\u001b[0m\u001b[1;33m\u001b[0m\u001b[0m\n",
      "\u001b[1;31mAssertionError\u001b[0m: "
     ]
    }
   ],
   "source": [
    "np.random.seed(1)  # Set seed \n",
    "k = 2  # The number of starting points\n",
    "nbr_iter = 100  # The number of sampling points\n",
    "X = np.random.uniform(-5,5, k)  # Sample k random starting points in the interval\n",
    "Y = true_func(X)\n",
    "# Reshape for GPy, it's picky\n",
    "X = X.reshape(k,1)\n",
    "Y = Y.reshape(k,1)\n",
    "\n",
    "# Initialize the data vector \n",
    "D = np.array([X,Y])  # TODO check so correctly formatted\n",
    "\n",
    "\n",
    "\n",
    "# Define the statistical model, which is a Gaussian defined by a covariance matrix from a GPy covariance function\n",
    "kernel = GPy.kern.RBF(input_dim=1)  # Use a defualt RBF covariance function, since we have no prior information\n",
    "model = GPy.models.GPRegression(D[0],D[1],kernel)\n",
    "model['rbf.lengthscale'].constrain_bounded(.1,10)  # Constrain the lengthscale of the model so it doesn't get too small\n",
    "model.optimize()  # Optimize the model to the current data\n",
    "\n",
    "for i in range(k,nbr_iter):\n",
    "    # Select x_i by optimizeing the acquisition function\n",
    "    x_i = np.array(1).reshape(1,1)  # TODO\n",
    "    # Evaluate the objective function for x_i\n",
    "    y_i = np.array(true_func(x_i)).reshape(1,1)\n",
    "    # Combine and reshape for data vector\n",
    "    xy = np.array([x_i, y_i])\n",
    "    # Append this to the data vector\n",
    "    D = np.append(D, xy)\n",
    "    # Re-optimize the statistical model for the data\n",
    "    model = GPy.models.GPRegression(D[0],D[1],kernel)\n",
    "    pass\n"
   ]
  },
  {
   "cell_type": "code",
   "execution_count": null,
   "metadata": {},
   "outputs": [],
   "source": []
  },
  {
   "cell_type": "code",
   "execution_count": null,
   "metadata": {},
   "outputs": [],
   "source": []
  }
 ],
 "metadata": {
  "kernelspec": {
   "display_name": "Python 3",
   "language": "python",
   "name": "python3"
  },
  "language_info": {
   "codemirror_mode": {
    "name": "ipython",
    "version": 3
   },
   "file_extension": ".py",
   "mimetype": "text/x-python",
   "name": "python",
   "nbconvert_exporter": "python",
   "pygments_lexer": "ipython3",
   "version": "3.7.1"
  }
 },
 "nbformat": 4,
 "nbformat_minor": 2
}
