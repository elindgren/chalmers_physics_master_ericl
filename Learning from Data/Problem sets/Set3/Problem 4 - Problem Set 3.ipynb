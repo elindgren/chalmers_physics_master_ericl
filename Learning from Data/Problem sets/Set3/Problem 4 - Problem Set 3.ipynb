{
 "cells": [
  {
   "cell_type": "markdown",
   "metadata": {},
   "source": [
    "#### Name: Eric Lindgren\n",
    "#### CID: ericlin\n",
    "#### PSN: 970222-1954"
   ]
  },
  {
   "cell_type": "markdown",
   "metadata": {},
   "source": [
    "## Neural Network classification"
   ]
  },
  {
   "cell_type": "code",
   "execution_count": 1,
   "metadata": {},
   "outputs": [],
   "source": [
    "# Imports\n",
    "import numpy as np\n",
    "import matplotlib.pyplot as plt\n",
    "import math\n",
    "\n",
    "# Set plot params\n",
    "plt.rc('font', size=14)          # controls default text sizes\n",
    "plt.rc('axes', titlesize=14)     # fontsize of the axes title\n",
    "plt.rc('axes', labelsize=16)    # fontsize of the x and y labels\n",
    "plt.rc('xtick', labelsize=14)    # fontsize of the tick labels\n",
    "plt.rc('ytick', labelsize=14)    # fontsize of the tick labels\n",
    "plt.rc('legend', fontsize=14)    # legend fontsize"
   ]
  },
  {
   "cell_type": "markdown",
   "metadata": {},
   "source": [
    "Load dataset"
   ]
  },
  {
   "cell_type": "code",
   "execution_count": 2,
   "metadata": {},
   "outputs": [
    {
     "name": "stdout",
     "output_type": "stream",
     "text": [
      "inputs: (n_data, pixel_width, pixel_height) = (1797, 8, 8)\n",
      "                       with labels (n_data) = (1797,)\n",
      "\n",
      "flattened input, X: (n_inputs, n_features)  = (1797, 64)\n"
     ]
    },
    {
     "data": {
      "image/png": "[encoded data removed]",
      "text/plain": [
       "<Figure size 432x288 with 5 Axes>"
      ]
     },
     "metadata": {
      "needs_background": "light"
     },
     "output_type": "display_data"
    }
   ],
   "source": [
    "# import \n",
    "from sklearn import datasets\n",
    "\n",
    "# ensure the same random numbers appear every time\n",
    "np.random.seed(0)\n",
    "\n",
    "# download MNIST dataset\n",
    "digits = datasets.load_digits()\n",
    "\n",
    "# define inputs and labels\n",
    "inputs = digits.images\n",
    "labels = digits.target\n",
    "\n",
    "print(f\"inputs: (n_data, pixel_width, pixel_height) = {inputs.shape}\")\n",
    "print(f\"                       with labels (n_data) = {labels.shape}\")\n",
    "\n",
    "\n",
    "# flatten the image\n",
    "# the value -1 means dimension is inferred from the remaining dimensions: 8x8 = 64\n",
    "n_inputs = len(inputs)\n",
    "inputs = inputs.reshape(n_inputs, -1)\n",
    "print(f\"\\nflattened input, X: (n_inputs, n_features)  = {inputs.shape}\")\n",
    "\n",
    "\n",
    "# choose some random images to display\n",
    "indices = np.arange(n_inputs)\n",
    "random_indices = np.random.choice(indices, size=5)\n",
    "\n",
    "for i, image in enumerate(digits.images[random_indices]):\n",
    "    plt.subplot(1, 5, i+1)\n",
    "    plt.axis('off')\n",
    "    plt.imshow(image, cmap=plt.cm.gray_r, interpolation='nearest')\n",
    "    plt.title(f\"Label: {digits.target[random_indices[i]]:1}\")"
   ]
  },
  {
   "cell_type": "markdown",
   "metadata": {},
   "source": [
    "Prepare dataset"
   ]
  },
  {
   "cell_type": "code",
   "execution_count": 3,
   "metadata": {},
   "outputs": [
    {
     "name": "stdout",
     "output_type": "stream",
     "text": [
      "Number of training images: 1257\n",
      "Number of test images:      540\n"
     ]
    }
   ],
   "source": [
    "from sklearn.model_selection import train_test_split\n",
    "\n",
    "# ensure the same random numbers appear every time\n",
    "np.random.seed(0)\n",
    "\n",
    "train_size = 0.7\n",
    "test_size = 1 - train_size\n",
    "X_train, X_test, Y_train, Y_test = train_test_split(inputs, labels, train_size=train_size,\n",
    "                                                    test_size=test_size)\n",
    "\n",
    "print(f\"Number of training images: {len(X_train):4}\")\n",
    "print(f\"Number of test images:     {len(X_test):4}\")"
   ]
  },
  {
   "cell_type": "markdown",
   "metadata": {},
   "source": [
    "Initialize the network"
   ]
  },
  {
   "cell_type": "code",
   "execution_count": 4,
   "metadata": {},
   "outputs": [],
   "source": [
    "# initializing our neural network\n",
    "\n",
    "n_inputs, n_features = X_train.shape\n",
    "n_hidden_neurons = 50\n",
    "n_categories = 10\n",
    "\n",
    "# we make the weights normally distributed using numpy.random.randn\n",
    "\n",
    "# ensure the same random numbers appear every time\n",
    "np.random.seed(0)\n",
    "\n",
    "# weights and bias in the hidden layer\n",
    "hidden_weights = np.random.randn(n_features, n_hidden_neurons)\n",
    "hidden_bias = np.zeros(n_hidden_neurons) + 0.01\n",
    "\n",
    "# weights and bias in the output layer\n",
    "output_weights = np.random.randn(n_hidden_neurons, n_categories)\n",
    "output_bias = np.zeros(n_categories) + 0.01"
   ]
  },
  {
   "cell_type": "markdown",
   "metadata": {},
   "source": [
    "### Task 1: Implement the feed-forward pass"
   ]
  },
  {
   "cell_type": "markdown",
   "metadata": {},
   "source": [
    "Implement the forward pass as described in the problem description. The activation for layer h is:\n",
    "$$ z_j = \\sum_i^F w_{ji}x_i + b_j = W$$\n",
    "$$ \\vec{z} = W^T\\vec{x} + \\vec{b}$$\n",
    "\n",
    "**CORRECT?** Note the transpose on W, which is required the way it is designed (n_features, n_hidden_neurons)."
   ]
  },
  {
   "cell_type": "code",
   "execution_count": 5,
   "metadata": {},
   "outputs": [],
   "source": [
    "def sigmoid(z):\n",
    "    '''Sigmoid activation function for hidden layer.'''\n",
    "    return 1/(1 + np.exp(-z))\n",
    "\n",
    "\n",
    "def softmax(z):\n",
    "    '''Softmax activation function for the output layer.'''\n",
    "    ax=0\n",
    "    if isinstance(z[0], np.ndarray):\n",
    "        'Check if a list, if so use matrix version of argmax.'\n",
    "        ax=1\n",
    "    return np.exp(z)/((np.exp(z)).sum(axis=ax)).reshape(-1,1)\n",
    "\n",
    "\n",
    "def feed_forward(X):\n",
    "    \"\"\"\n",
    "    Feed-forward pass.\n",
    "    Uses hidden_weights, hidden_bias, output_weights, output_bias\n",
    "    \n",
    "    Args:\n",
    "        X (array[float]): input to the neural network\n",
    "\n",
    "    Returns:\n",
    "        a_h (array[float]): activation in the hidden layer\n",
    "        probabilities (array[float]): probabilities of each category\n",
    "    \"\"\"\n",
    "    # First hidden layer\n",
    "    z_h = X@hidden_weights + hidden_bias.T\n",
    "    a_h = sigmoid(z_h)\n",
    "    # Output layer\n",
    "    z_o = a_h@output_weights + output_bias.T\n",
    "    probabilities = softmax(z_o)  # Output probabilities\n",
    "    return a_h, probabilities\n",
    "\n",
    "\n",
    "# prediction of class label\n",
    "def predict(X):\n",
    "    \"\"\"\n",
    "    Return a prediction by finding the class with the highest likelihood.\n",
    "\n",
    "    Args:\n",
    "        X (array[float]): input to the neural network\n",
    "\n",
    "    Returns:\n",
    "        label (integer): index of the category with the highest probability\n",
    "    \"\"\"\n",
    "\n",
    "    a_h, probabilities = feed_forward(X)\n",
    "    # Modify the code below\n",
    "    #\n",
    "    if isinstance(probabilities[0], np.ndarray):\n",
    "        'Check if a list, if so use matrix version of argmax.'\n",
    "        class_label = probabilities.argmax(axis=1)  # Returns a number between 0-9 - the index\n",
    "    else: \n",
    "        class_label = probabilities.argmax()\n",
    "    return class_label"
   ]
  },
  {
   "cell_type": "code",
   "execution_count": 6,
   "metadata": {},
   "outputs": [
    {
     "name": "stdout",
     "output_type": "stream",
     "text": [
      "For input of a 1 the network outputed a 7. Was this correct? False.\n",
      "For input of a 2 the network outputed a 7. Was this correct? False.\n",
      "For input of a 3 the network outputed a 6. Was this correct? False.\n",
      "For input of a 4 the network outputed a 7. Was this correct? False.\n",
      "For input of a 5 the network outputed a 7. Was this correct? False.\n",
      "For input of a 6 the network outputed a 6. Was this correct? True.\n",
      "For input of a 7 the network outputed a 1. Was this correct? False.\n",
      "For input of a 8 the network outputed a 9. Was this correct? False.\n",
      "For input of a 9 the network outputed a 7. Was this correct? False.\n"
     ]
    }
   ],
   "source": [
    "# Test by feeding the input data\n",
    "# Take a few indices and see what we get out\n",
    "indices = [3, 23, 1, 64, 4, 2, 11, 8, 7]  # Indices for one of each\n",
    "for indx in indices:\n",
    "    X_image = X_train[indx]\n",
    "    Y_label = Y_train[indx]\n",
    "    prediction = predict(X_image)\n",
    "    print(f'For input of a {Y_label} the network outputed a {prediction[0]}. Was this correct? {Y_label==prediction[0]}.')"
   ]
  },
  {
   "cell_type": "markdown",
   "metadata": {},
   "source": [
    "Hence we see that our network performs rather poorly."
   ]
  },
  {
   "cell_type": "markdown",
   "metadata": {},
   "source": [
    "### Task 2: Train the network"
   ]
  },
  {
   "cell_type": "code",
   "execution_count": 7,
   "metadata": {},
   "outputs": [],
   "source": [
    "# to categorical turns our integer vector into a onehot representation\n",
    "# we implement it in in numpy\n",
    "def to_categorical_numpy(integer_vector):\n",
    "    n_inputs = len(integer_vector)\n",
    "    n_categories = np.max(integer_vector) + 1\n",
    "    onehot_vector = np.zeros((n_inputs, n_categories))\n",
    "    onehot_vector[range(n_inputs), integer_vector] = 1\n",
    "    \n",
    "    return onehot_vector\n",
    "\n",
    "Y_train_onehot, Y_test_onehot = to_categorical_numpy(Y_train), to_categorical_numpy(Y_test)"
   ]
  },
  {
   "cell_type": "code",
   "execution_count": 8,
   "metadata": {},
   "outputs": [],
   "source": [
    "from sklearn.metrics import accuracy_score\n",
    "\n",
    "def backpropagation(X, Y):\n",
    "    a_h, probabilities = feed_forward(X)\n",
    "    # error in the output layer\n",
    "    error_output = probabilities - Y\n",
    "    # error in the hidden layer\n",
    "    error_hidden = np.matmul(error_output, output_weights.T) * a_h * (1 - a_h)\n",
    "    \n",
    "    # gradients for the output layer\n",
    "    output_weights_gradient = np.matmul(a_h.T, error_output)\n",
    "    output_bias_gradient = np.sum(error_output, axis=0)\n",
    "    \n",
    "    # gradient for the hidden layer\n",
    "    hidden_weights_gradient = np.matmul(X.T, error_hidden)\n",
    "    hidden_bias_gradient = np.sum(error_hidden, axis=0)\n",
    "\n",
    "    return output_weights_gradient, output_bias_gradient, hidden_weights_gradient, hidden_bias_gradient"
   ]
  },
  {
   "cell_type": "code",
   "execution_count": 9,
   "metadata": {},
   "outputs": [
    {
     "name": "stdout",
     "output_type": "stream",
     "text": [
      "Accuracy on training data before training: 0.046\n"
     ]
    }
   ],
   "source": [
    "print(f\"Accuracy on training data before training: {accuracy_score(predict(X_train), Y_train):.3f}\")"
   ]
  },
  {
   "cell_type": "code",
   "execution_count": 10,
   "metadata": {},
   "outputs": [
    {
     "name": "stdout",
     "output_type": "stream",
     "text": [
      "Accuracy on training data after training: 0.997\n"
     ]
    }
   ],
   "source": [
    "eta = 0.001\n",
    "alpha = 0.1\n",
    "iters = 1000\n",
    "gradient_vector = []  # A vector containing the absolute value and the variance of the gradient to plot in task 4\n",
    "for i in range(iters):\n",
    "    # calculate gradients\n",
    "    dWo, dBo, dWh, dBh = backpropagation(X_train, Y_train_onehot)\n",
    "    # Add the regularization term gradients to the weights\n",
    "    dWo += alpha*output_weights # The gradient of the regularizer term with respect to the weights is just \\alpha*wij\n",
    "    dWh += alpha*hidden_weights\n",
    "    gradient_vector.append([np.abs(dWh).mean(), np.std(dWh)])\n",
    "    # Finally, update weights and biases\n",
    "    # Modify the code below\n",
    "    #\n",
    "    output_weights -= eta*dWo\n",
    "    output_bias -= eta*dBo\n",
    "    hidden_weights -= eta*dWh\n",
    "    hidden_bias -= eta*dBh\n",
    "print(f\"Accuracy on training data after training: {accuracy_score(predict(X_train), Y_train):.3f}\")"
   ]
  },
  {
   "cell_type": "code",
   "execution_count": 11,
   "metadata": {},
   "outputs": [
    {
     "name": "stdout",
     "output_type": "stream",
     "text": [
      "(50, 10)\n",
      "\n",
      "(64, 50)\n"
     ]
    }
   ],
   "source": [
    "print(output_weights.shape)\n",
    "print()\n",
    "print(hidden_weights.shape)"
   ]
  },
  {
   "cell_type": "markdown",
   "metadata": {},
   "source": [
    "### Task 3: Train the network"
   ]
  },
  {
   "cell_type": "code",
   "execution_count": 12,
   "metadata": {},
   "outputs": [
    {
     "name": "stdout",
     "output_type": "stream",
     "text": [
      "Accuracy on test data: 0.926\n",
      "Some wrongly classified images\n"
     ]
    },
    {
     "data": {
      "image/png": "[encoded data removed]",
      "text/plain": [
       "<Figure size 432x288 with 3 Axes>"
      ]
     },
     "metadata": {
      "needs_background": "light"
     },
     "output_type": "display_data"
    }
   ],
   "source": [
    "# Calculate the accuracy score on the test data. The accuracy is just the number of correct classifications, \n",
    "# divided by the total number of test samples.\n",
    "# Use accuracy_score function. \n",
    "print(f\"Accuracy on test data: {accuracy_score(predict(X_test), Y_test):.3f}\")\n",
    "\n",
    "# Plot the first few images that were wrongly classified\n",
    "nbr_of_images_to_plot = 3\n",
    "images_plotted = 0\n",
    "fig, axs = plt.subplots(nbr_of_images_to_plot)\n",
    "print(\"Some wrongly classified images\")\n",
    "for idx, x in enumerate(X_test):\n",
    "    if nbr_of_images_to_plot > images_plotted:\n",
    "        p = predict(x)\n",
    "        if not p == Y_test[idx]:\n",
    "            image = x.reshape(8,8)\n",
    "            axs[images_plotted].axis('off')\n",
    "            axs[images_plotted].imshow(image, cmap=plt.cm.gray_r, interpolation='nearest')\n",
    "            axs[images_plotted].set_title(f'Label: {Y_test[idx]}, network guess: {p[0]}')\n",
    "            images_plotted += 1\n",
    "    else: \n",
    "        break"
   ]
  },
  {
   "cell_type": "code",
   "execution_count": 13,
   "metadata": {},
   "outputs": [
    {
     "name": "stdout",
     "output_type": "stream",
     "text": [
      "(1000,)\n"
     ]
    },
    {
     "data": {
      "text/plain": [
       "Text(0.5, 1.0, 'Plot of $\\\\bar{|W|}$ and $\\\\sigma^2$ for the weights $W$')"
      ]
     },
     "execution_count": 13,
     "metadata": {},
     "output_type": "execute_result"
    },
    {
     "data": {
      "image/png": "[encoded data removed]",
      "text/plain": [
       "<Figure size 720x432 with 1 Axes>"
      ]
     },
     "metadata": {
      "needs_background": "light"
     },
     "output_type": "display_data"
    }
   ],
   "source": [
    "# Plot the gradient before, during and after training:\n",
    "gradient_vector = np.asarray(gradient_vector).reshape(-1, 2)\n",
    "fig, ax = plt.subplots(figsize=(10,6))\n",
    "print(gradient_vector[:,0].shape)\n",
    "ax.plot(gradient_vector[:,0], linewidth=2, label=r'$|W_h|$')\n",
    "ax.plot(gradient_vector[:,1], linewidth=2,  label=r'$\\sigma$')\n",
    "ax.set_xlabel(\"Training iteration\")\n",
    "ax.set_ylabel(\"Magnitude\")\n",
    "plt.legend(loc='best')\n",
    "plt.grid()\n",
    "plt.title(r'Plot of $\\bar{|W|}$ and $\\sigma^2$ for the weights $W$')"
   ]
  },
  {
   "cell_type": "markdown",
   "metadata": {},
   "source": [
    "Here we see a nice convergence. :)"
   ]
  },
  {
   "cell_type": "code",
   "execution_count": null,
   "metadata": {},
   "outputs": [],
   "source": []
  }
 ],
 "metadata": {
  "kernelspec": {
   "display_name": "Python 3",
   "language": "python",
   "name": "python3"
  },
  "language_info": {
   "codemirror_mode": {
    "name": "ipython",
    "version": 3
   },
   "file_extension": ".py",
   "mimetype": "text/x-python",
   "name": "python",
   "nbconvert_exporter": "python",
   "pygments_lexer": "ipython3",
   "version": "3.7.1"
  }
 },
 "nbformat": 4,
 "nbformat_minor": 2
}
