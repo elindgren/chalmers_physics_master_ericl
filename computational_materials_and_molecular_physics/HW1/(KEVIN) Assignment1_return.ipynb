{
 "cells": [
  {
   "cell_type": "code",
   "execution_count": 1,
   "metadata": {},
   "outputs": [],
   "source": [
    "import numpy as np\n",
    "import matplotlib.pyplot as plt\n",
    "import scipy as scipy\n",
    "from scipy.optimize import minimize\n",
    "from scipy.linalg import null_space\n",
    "\n",
    "fsize = 15\n",
    "lwidth = 3"
   ]
  },
  {
   "cell_type": "markdown",
   "metadata": {},
   "source": [
    "## Uppgift 1"
   ]
  },
  {
   "cell_type": "code",
   "execution_count": 2,
   "metadata": {},
   "outputs": [],
   "source": [
    "### some function needed to solve problem 1 ###\n",
    "\n",
    "def wave_function(r, c):\n",
    "    \"\"\"Given the koefficient vector c and a grid r returns the resulting wave-function\"\"\"\n",
    "    a = np.array([0.297104, 1.236745, 5.749982, 38.216677])\n",
    "    wave = 0\n",
    "    for i,c_i in enumerate(c):\n",
    "        wave += c_i*np.exp(-a[i]*r**2)\n",
    "    return wave\n",
    "\n",
    "def init_Q():\n",
    "    \"\"\"Initializing the Q tensor\"\"\"\n",
    "    a = np.array([0.297104, 1.236745, 5.749982, 38.216677])\n",
    "    Q = np.zeros((4,4,4,4))\n",
    "    for p in range(4):\n",
    "        for r in range(4):\n",
    "            for q in range(4):\n",
    "                for s in range(4):\n",
    "                    Q[p,r,q,s] = 2*np.pi**(5/2) / ( (a[p] + a[q])*(a[r] + a[s])*np.sqrt(a[p] + a[q] + a[r] + a[s]) )\n",
    "    return Q\n",
    "\n",
    "def normalize(c,sk):\n",
    "    \"\"\"Normalizing the C vector with koefficents to the wave-function\"\"\"\n",
    "    b = c@sk@c\n",
    "    c = c/np.sqrt(b)\n",
    "    return c\n",
    "\n",
    "def fock_operator2(c):\n",
    "    \"\"\"Returns the fock operator in two pieces consisting of the laplacian 1/r1 and the integral over r2\\ \n",
    "and then also the the bit from the integral over both r1 and r2. Also retruns the matrix in the left\\\n",
    " hand side in the generalized eigenvalue problem\"\"\"\n",
    "    a = np.array([0.297104, 1.236745, 5.749982, 38.216677])\n",
    "    sk = np.zeros((4,4))\n",
    "    H = np.zeros((4,4))\n",
    "    I = np.zeros((4,4))\n",
    "    hk_3 = np.zeros((4,4))\n",
    "\n",
    "    for p in range(4):\n",
    "        for q in range(4):\n",
    "            sk[p,q] = (np.pi/(a[p] + a[q]))**(3/2)\n",
    "            \n",
    "            H[p,q] = 3*a[q]*(np.pi/(a[q] + a[p]))**(3/2)*(1 - a[q]/(a[q]+ a[p]))\n",
    "            H[p,q] += -4*np.pi/(a[q] + a[p])\n",
    "            \n",
    "            I[p,q] =  c@Q[p,:,q,:]@c\n",
    "            \n",
    "    return H, I , sk\n",
    "\n",
    "def solve_fock_equation2(F,sk):\n",
    "    \"\"\"Solves the generalized eigenvalue problem and retorns the lowest\\\n",
    "eigenvalue together with the normalized eigenvalue\"\"\"\n",
    "\n",
    "    w,v = scipy.linalg.eig(F,sk)\n",
    "    sortOrder = np.argsort(w)\n",
    "    w = w[sortOrder]\n",
    "    v = v[:,sortOrder]\n",
    "    c = normalize(v[:,0],sk)\n",
    "    \n",
    "    return np.real(w[0]),c\n"
   ]
  },
  {
   "cell_type": "code",
   "execution_count": 3,
   "metadata": {},
   "outputs": [
    {
     "name": "stdout",
     "output_type": "stream",
     "text": [
      "The resulting energy from the simulation become -2.85516039 a.u compered to the expected value -2.85516038 a.u. The simulation converged with accurace 4e-07 a.u after 12 itterations in the consistancy loop.\n",
      "12\n"
     ]
    },
    {
     "data": {
      "image/png": "[encoded data removed]",
      "text/plain": [
       "<Figure size 576x288 with 1 Axes>"
      ]
     },
     "metadata": {
      "needs_background": "light"
     },
     "output_type": "display_data"
    }
   ],
   "source": [
    "### make initial guess ###\n",
    "c = np.array([1,1,1,1])\n",
    "Q = init_Q()\n",
    "H,I,sk = fock_operator2(c)\n",
    "c = normalize(c,sk)\n",
    "\n",
    "### start self consistency loop ###\n",
    "e_old = 0\n",
    "for i in range(100):\n",
    "    H,I,sk = fock_operator2(c)\n",
    "    F = H + I\n",
    "    e,c = solve_fock_equation2(F,sk)\n",
    "    e_new = c@(F+H)@c\n",
    "    if (np.abs(e_new - e_old) < 1e-5/27.2):\n",
    "        break\n",
    "    e_old = e_new\n",
    "\n",
    "### plot result ###\n",
    "r_grid = np.linspace(0,5,200)\n",
    "psi = wave_function(r_grid, c)\n",
    "psi_T1 = np.abs(psi) \n",
    "\n",
    "fig,ax = plt.subplots(figsize = (8,4))\n",
    "ax.plot(r_grid,np.abs(psi),Linewidth = lwidth, label = \"Resulting wave-function \")\n",
    "ax.legend(fontsize = fsize)\n",
    "ax.set_xlabel(\"$r$ [$a_0$]\", fontsize = fsize)\n",
    "ax.set_ylabel(r\"$\\psi$ [$a_0^{-3/2}$]\" , fontsize = fsize)\n",
    "ax.tick_params(labelsize=fsize)\n",
    "\n",
    "fig.tight_layout()\n",
    "#fig.savefig(\"Task1_psi.pdf\")\n",
    "\n",
    "print(f\"The resulting energy from the simulation become {e_new:.8f} a.u compered to the expected value -2.85516038 a.u.\\\n",
    " The simulation converged with accurace {1e-5/26.6:.0e} a.u after {i} itterations in the consistancy loop.\")\n",
    "print(i)"
   ]
  },
  {
   "cell_type": "markdown",
   "metadata": {},
   "source": [
    "# Uppgift 2"
   ]
  },
  {
   "cell_type": "code",
   "execution_count": 10,
   "metadata": {},
   "outputs": [],
   "source": [
    "def make_derivativ_matrix(N,h):\n",
    "    \"\"\"Creats the matrix one obtain when discretize a second derivative\"\"\"\n",
    "    U = -2*np.eye(N)\n",
    "    for i in range(N):\n",
    "        for j in range(N):\n",
    "            if(np.abs(i - j) == 1):\n",
    "                U[i,j] = 1\n",
    "    return U/h**2\n",
    "\n",
    "def solve_poisson_eq(r,u):\n",
    "    \"\"\"Solves the poisson equation on a the discretize r_grid for the discretize wave function psi\"\"\"\n",
    "    N = len(r)\n",
    "    h = r[1] - r[0] \n",
    "    r_int = r[1:N-1] # interior points\n",
    "    \n",
    "    ### set up equation ###\n",
    "    A = make_derivativ_matrix(N-2,h)\n",
    "    \n",
    "    \n",
    "    #u = np.sqrt(4*np.pi)*r_int*psi[1:N-1]\n",
    "    u = u[1:N-1]\n",
    "    \n",
    "    B = -u**2/r_int\n",
    "    \n",
    "    ### solve equation for interior points ###\n",
    "    U = np.linalg.solve(A,B)\n",
    "    V = np.zeros(N)\n",
    "    V[1:N-1] = U/r_int + 1/r_max\n",
    "    \n",
    "    ### add boundry condition ###\n",
    "    V[0] = V[1]\n",
    "    V[0] = 2\n",
    "    V[N-1] = 1/r_max\n",
    "    return V"
   ]
  },
  {
   "cell_type": "code",
   "execution_count": 11,
   "metadata": {},
   "outputs": [
    {
     "name": "stderr",
     "output_type": "stream",
     "text": [
      "C:\\Miniconda3\\envs\\physics\\lib\\site-packages\\ipykernel_launcher.py:6: RuntimeWarning: divide by zero encountered in true_divide\n",
      "  \n",
      "C:\\Miniconda3\\envs\\physics\\lib\\site-packages\\ipykernel_launcher.py:6: RuntimeWarning: invalid value encountered in subtract\n",
      "  \n"
     ]
    },
    {
     "data": {
      "image/png": "[encoded data removed]",
      "text/plain": [
       "<Figure size 576x288 with 1 Axes>"
      ]
     },
     "metadata": {
      "needs_background": "light"
     },
     "output_type": "display_data"
    }
   ],
   "source": [
    "### set up grid ###\n",
    "r_max = 30\n",
    "N = 501\n",
    "h = r_max/(N-1)\n",
    "r_grid = np.linspace(0,r_max,N) # all points\n",
    "VH = 1/r_grid - (1 + 1/r_grid)*np.exp(-2*r_grid)\n",
    "\n",
    "### use s0 wave function and solve for the potential\n",
    "psi = np.exp(-r_grid)/np.sqrt(np.pi)\n",
    "V = solve_poisson_eq(r_grid,psi)\n",
    "\n",
    "### plot result ###\n",
    "fig,ax = plt.subplots(figsize = (8,4))\n",
    "ax.plot(r_grid,VH,Linewidth = lwidth, label = \"True Hartree potential\")\n",
    "ax.plot(r_grid,V,linestyle = \"-.\",Linewidth = lwidth, label = \"Calculated Hartree potential\")\n",
    "ax.legend(fontsize = fsize)\n",
    "ax.set_xlabel(\"$r$ [$a_0$]\", fontsize = fsize)\n",
    "ax.set_ylabel(r\"$V_H$ [Ha]\" , fontsize = fsize)\n",
    "ax.tick_params(labelsize=fsize)\n",
    "\n",
    "fig.tight_layout()\n",
    "#fig.savefig(\"Task2_VH.pdf\")"
   ]
  },
  {
   "cell_type": "markdown",
   "metadata": {},
   "source": [
    "## Uppgift 3"
   ]
  },
  {
   "cell_type": "code",
   "execution_count": 12,
   "metadata": {},
   "outputs": [],
   "source": [
    "def solve_kohn_sham(r, Vh, Vx, Vc,a):\n",
    "    \"\"\"Solve the kohn-sham equation for on the discretize r_grid with hartree, exchange and correlation potentials,\\\n",
    "     a can be given to change the strengt of the charge in the nuclei\"\"\"\n",
    "    N = len(r)\n",
    "    h = r[1] - r[0] \n",
    "    r_int = r[1:N-1] # interior points\n",
    "    \n",
    "    ### solve eigenvalue problem ###\n",
    "    v = np.zeros((N,N-2))\n",
    "    A = -1/2 * make_derivativ_matrix(N-2,h) - a*np.diag(1/r_int) + np.diag(Vh[1:N-1] + Vx[1:N-1] + Vc[1:N-1])\n",
    "    w,v[1:N-1,:] = np.linalg.eig(A)\n",
    "\n",
    "    ### set boundry condition ###\n",
    "    v[0,:] = 0\n",
    "    v[N-1,:] = 0\n",
    "    \n",
    "    ### Sort the eigenvalue and eigenvectors and normalize the first one according to L2-norm ###\n",
    "    sortOrder = np.argsort(w)\n",
    "    w = w[sortOrder]\n",
    "    v = v[:,sortOrder] \n",
    "    a = np.trapz(np.abs(v[:,0])**2,r)\n",
    "    \n",
    "    return w,np.abs(v)/np.sqrt(a)"
   ]
  },
  {
   "cell_type": "code",
   "execution_count": 15,
   "metadata": {},
   "outputs": [
    {
     "name": "stdout",
     "output_type": "stream",
     "text": [
      "The energy becomes -0.49980\n"
     ]
    },
    {
     "data": {
      "image/png": "[encoded data removed]",
      "text/plain": [
       "<Figure size 576x288 with 1 Axes>"
      ]
     },
     "metadata": {
      "needs_background": "light"
     },
     "output_type": "display_data"
    }
   ],
   "source": [
    "### set up grid ###\n",
    "r_max = 20\n",
    "N = 501\n",
    "h = r_max/(N-1)\n",
    "r_grid = np.linspace(0,r_max,N)\n",
    "psi_true = np.exp(-r_grid)/np.sqrt(np.pi)\n",
    "\n",
    "### solve kohn-sham for hydrogen atom ###\n",
    "e,u = solve_kohn_sham(r_grid, np.zeros(N),np.zeros(N),np.zeros(N),1)\n",
    "E0 = e[0]\n",
    "print(f\"The energy becomes {E0:.5f}\")\n",
    "\n",
    "### plot ###\n",
    "fig,ax = plt.subplots(figsize = (8,4))\n",
    "ax.plot(r_grid,np.abs(u[:,0]),Linewidth = lwidth, label = \"Calculated radial wave function\")\n",
    "ax.plot(r_grid,np.sqrt(4*np.pi)*r_grid*psi_true, linestyle = \"-.\", Linewidth = lwidth, label = \"True radial wavefunction\")\n",
    "ax.legend(fontsize = fsize)\n",
    "ax.set_xlabel(\"$r$ [$a_0$]\", fontsize = fsize)\n",
    "ax.set_ylabel(r\"$u(r)$ [$a_0^{-3/2}$]\", fontsize = fsize)\n",
    "ax.tick_params(labelsize=fsize)\n",
    "\n",
    "fig.tight_layout()\n",
    "#fig.savefig(\"Task3_u.pdf\")"
   ]
  },
  {
   "cell_type": "markdown",
   "metadata": {},
   "source": [
    "## Uppgift 4"
   ]
  },
  {
   "cell_type": "code",
   "execution_count": 19,
   "metadata": {},
   "outputs": [],
   "source": [
    "def self_consist_looping(r,psi):\n",
    "    u = np.sqrt(4*np.pi) * r *psi\n",
    "    E_old = 0\n",
    "    for i in range(200):\n",
    "        V_H = solve_poisson_eq(r,u)\n",
    "        e,u = solve_kohn_sham(r,V_H, np.zeros(len(r)),np.zeros(len(r)),2)\n",
    "        \n",
    "        u = u[:,0]\n",
    "        \n",
    "        E_new = 2*e[0] - 2*np.trapz(u**2 * 1/2*V_H , r)\n",
    "        diff = np.abs(E_new-E_old)\n",
    "        if(diff < 1e-5/27.2):\n",
    "            break\n",
    "        E_old = E_new\n",
    "#         plt.plot(u)\n",
    "#         plt.show()\n",
    "    return E_new,u,diff\n",
    "\n",
    "def converge_rmax(r_max,N,h):\n",
    "    E = np.zeros(200)\n",
    "    \n",
    "    for i in range(1,200):\n",
    "        r_grid = np.linspace(0,r_max,N)\n",
    "        psi = np.exp(-r_grid)/np.sqrt(np.pi)\n",
    "        \n",
    "        E[i],u,c = self_consist_looping(r_grid,psi)\n",
    "        diff = np.abs(E[i] - E[i-1])\n",
    "        if diff < 1e-5/27.2:\n",
    "            Energy = E[0:i+1]\n",
    "            break\n",
    "        print(E[i],diff,r_max,N)\n",
    "        r_max += 5 \n",
    "        N += 5/h\n",
    "\n",
    "    return Energy, u, diff, r_max, N\n",
    "\n",
    "def converge_E():\n",
    "    return"
   ]
  },
  {
   "cell_type": "code",
   "execution_count": null,
   "metadata": {},
   "outputs": [
    {
     "name": "stdout",
     "output_type": "stream",
     "text": [
      "-2.8593085656181154 2.8593085656181154 5 201\n"
     ]
    },
    {
     "name": "stderr",
     "output_type": "stream",
     "text": [
      "C:\\Miniconda3\\envs\\physics\\lib\\site-packages\\ipykernel_launcher.py:23: DeprecationWarning: object of type <class 'float'> cannot be safely interpreted as an integer.\n"
     ]
    },
    {
     "name": "stdout",
     "output_type": "stream",
     "text": [
      "-2.7596016207403964 0.09970694487771903 10 401.0\n",
      "-2.7262682885295826 0.033333332210813804 15 601.0\n",
      "-2.7096016218622587 0.01666666666732386 20 801.0\n",
      "-2.699601621860935 0.010000000001323617 25 1001.0\n",
      "-2.6929349551764856 0.006666666684449485 30 1201.0\n",
      "-2.6881730504387686 0.004761904737716982 35 1401.0\n",
      "-2.684601621867097 0.0035714285716714755 40 1601.0\n"
     ]
    }
   ],
   "source": [
    "### set up grid ###\n",
    "r_max = 5\n",
    "N = 201\n",
    "h = r_max/(N-1)\n",
    "r_grid = np.linspace(0,r_max,N)\n",
    "psi = np.exp(-2*r_grid)/np.sqrt(np.pi) # s0 initial guess\n",
    "\n",
    "### Self consistantly looping untill energy change is less then 1e-5 eV ###\n",
    "E1,u1,diff1 = converge_rmax(r_max,N,h)\n",
    "\n",
    "print(diff1)\n",
    "plt.plot(E1)\n",
    "#plt.plot(u1)\n"
   ]
  },
  {
   "cell_type": "code",
   "execution_count": 16,
   "metadata": {},
   "outputs": [
    {
     "ename": "ZeroDivisionError",
     "evalue": "division by zero",
     "output_type": "error",
     "traceback": [
      "\u001b[1;31m---------------------------------------------------------------------------\u001b[0m",
      "\u001b[1;31mZeroDivisionError\u001b[0m                         Traceback (most recent call last)",
      "\u001b[1;32m<ipython-input-16-3e3651806cd4>\u001b[0m in \u001b[0;36m<module>\u001b[1;34m\u001b[0m\n\u001b[1;32m----> 1\u001b[1;33m \u001b[0ma\u001b[0m \u001b[1;33m=\u001b[0m \u001b[1;36m1\u001b[0m\u001b[1;33m/\u001b[0m\u001b[1;36m0\u001b[0m\u001b[1;33m\u001b[0m\u001b[1;33m\u001b[0m\u001b[0m\n\u001b[0m\u001b[0;32m      2\u001b[0m \u001b[0mprint\u001b[0m\u001b[1;33m(\u001b[0m\u001b[0ma\u001b[0m\u001b[1;33m)\u001b[0m\u001b[1;33m\u001b[0m\u001b[1;33m\u001b[0m\u001b[0m\n",
      "\u001b[1;31mZeroDivisionError\u001b[0m: division by zero"
     ]
    }
   ],
   "source": [
    "a = 1/0\n",
    "print(a)"
   ]
  },
  {
   "cell_type": "code",
   "execution_count": null,
   "metadata": {},
   "outputs": [],
   "source": []
  }
 ],
 "metadata": {
  "kernelspec": {
   "display_name": "Python 3",
   "language": "python",
   "name": "python3"
  },
  "language_info": {
   "codemirror_mode": {
    "name": "ipython",
    "version": 3
   },
   "file_extension": ".py",
   "mimetype": "text/x-python",
   "name": "python",
   "nbconvert_exporter": "python",
   "pygments_lexer": "ipython3",
   "version": "3.7.4"
  }
 },
 "nbformat": 4,
 "nbformat_minor": 2
}
