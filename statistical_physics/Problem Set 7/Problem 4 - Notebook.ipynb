{
 "cells": [
  {
   "cell_type": "code",
   "execution_count": null,
   "metadata": {},
   "outputs": [],
   "source": [
    "# Imports\n",
    "import numpy as np\n",
    "import matplotlib.pyplot as plt\n",
    "plt.rc('font', size=18)          # controls default text sizes\n",
    "plt.rc('axes', titlesize=18)     # fontsize of the axes title\n",
    "plt.rc('axes', labelsize=18)    # fontsize of the x and y labels\n",
    "plt.rc('xtick', labelsize=18)    # fontsize of the tick labels\n",
    "plt.rc('ytick', labelsize=18)    # fontsize of the tick labels\n",
    "plt.rc('legend', fontsize=18)    # legend fontsize"
   ]
  },
  {
   "cell_type": "markdown",
   "metadata": {},
   "source": [
    "### d) Logistic regression"
   ]
  },
  {
   "cell_type": "code",
   "execution_count": null,
   "metadata": {},
   "outputs": [],
   "source": [
    "def log_reg(t, alpha, K):\n",
    "    return K*np.exp(alpha*t) / ( K-1 + np.exp(alpha*t) )\n",
    "\n",
    "def l_exp(t, alpha, K):\n",
    "    return np.exp(alpha*t) * ( 1 - (1-np.exp(-alpha*t))**K )\n",
    "\n",
    "K = 1000  # Maximum number of particles\n",
    "alpha = 1  # division rate - divisions per unit of time\n",
    "t = np.linspace(0,15, 500)\n",
    "\n",
    "# Plot\n",
    "fig, ax = plt.subplots(figsize=(14,8))\n",
    "ax.plot(t, log_reg(t, alpha, K), color='C3', linewidth=3, label=\"Logistic\")\n",
    "ax.plot(t, l_exp(t, alpha, K), color='C2', linestyle=\"-.\", linewidth=3, label=r'$<\\ell>$')\n",
    "ax.axhline(K, color='C1', linewidth=3, alpha=1, linestyle=':', label=r'$K$')\n",
    "ax.set_xlabel(r'Time, arb. time unit $(T)$')\n",
    "ax.set_ylabel(r'$N$')\n",
    "ax.legend(loc='best')\n",
    "ax.set_ylim(-100, 1100)\n",
    "ax.grid()\n",
    "plt.savefig(\"problem4d.png\")"
   ]
  },
  {
   "cell_type": "markdown",
   "metadata": {},
   "source": [
    "### e) Numerical solution"
   ]
  },
  {
   "cell_type": "code",
   "execution_count": null,
   "metadata": {},
   "outputs": [],
   "source": [
    "# Just using numbers\n",
    "# Declarations\n",
    "K = 100\n",
    "traj = 500\n",
    "N = 1000\n",
    "l = np.zeros((N, traj))  # Number of particles\n",
    "alpha = 1  # one division per unit of time\n",
    "deltat = 1/(K*alpha)  # Such that Pk = k*alpha*deltat = 1\n",
    "\n",
    "t = np.array( [i*deltat for i in range(N)] ) \n",
    "\n",
    "# Initialize system\n",
    "l[0,:] = 1  # One particle at the beginning\n",
    "\n",
    "for i in range(0,len(t)-1):\n",
    "    # Calculate for all states up to K-1 at the same time\n",
    "    sigma = np.random.uniform(0,1, traj)\n",
    "    Pjump = l[i,:]*alpha*deltat\n",
    "    increase = np.where(Pjump >= sigma)[0]\n",
    "    no_increase = np.where(Pjump < sigma)[0]\n",
    "\n",
    "    l[i+1, increase] = l[i,increase]+(1 - np.floor(l[i,increase]/K))\n",
    "    l[i+1, no_increase] = l[i, no_increase]\n",
    "      \n",
    "# Plot\n",
    "fig, ax = plt.subplots(figsize=(14,8))\n",
    "ax.plot(t, l, linewidth=1, alpha=0.3)\n",
    "ax.plot(t, np.mean(l, axis=1), linewidth=4, linestyle='--', color='k', label=f'Ensemble average, Traj.={traj}')\n",
    "ax.plot(t, l_exp(t, alpha, K), color='C2', linestyle=\"-.\", linewidth=3, label=r'$<\\ell>$')\n",
    "ax.plot(t, log_reg(t, alpha, K), color='C3', linewidth=3, label=\"Logistic growth\")\n",
    "ax.axhline(K, color='C1', linewidth=3, alpha=1, linestyle=':', label=r'$K$')\n",
    "ax.grid()\n",
    "ax.set_xlabel(r'Time, arb. time unit $(T)$')\n",
    "ax.set_ylabel(r'$N$')\n",
    "ax.legend(loc='lower right')\n",
    "plt.savefig(\"problem4e.png\")"
   ]
  }
 ],
 "metadata": {
  "kernelspec": {
   "display_name": "Python 3",
   "language": "python",
   "name": "python3"
  },
  "language_info": {
   "codemirror_mode": {
    "name": "ipython",
    "version": 3
   },
   "file_extension": ".py",
   "mimetype": "text/x-python",
   "name": "python",
   "nbconvert_exporter": "python",
   "pygments_lexer": "ipython3",
   "version": "3.7.4"
  }
 },
 "nbformat": 4,
 "nbformat_minor": 2
}
