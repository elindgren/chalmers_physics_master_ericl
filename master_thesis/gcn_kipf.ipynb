{
 "cells": [
  {
   "cell_type": "code",
   "execution_count": 1,
   "metadata": {},
   "outputs": [],
   "source": [
    "# Local imports\n",
    "import time\n",
    "\n",
    "# External imports\n",
    "import numpy as np\n",
    "import matplotlib.pyplot as plt\n",
    "import tensorflow as tf\n",
    "from tensorflow.keras import Model\n",
    "import spektral as sp\n",
    "import scipy as sc"
   ]
  },
  {
   "cell_type": "code",
   "execution_count": 2,
   "metadata": {},
   "outputs": [
    {
     "name": "stdout",
     "output_type": "stream",
     "text": [
      "Num GPUs Available:  0\n"
     ]
    }
   ],
   "source": [
    "print(\"Num GPUs Available: \", len(tf.config.experimental.list_physical_devices('GPU')))"
   ]
  },
  {
   "cell_type": "code",
   "execution_count": 3,
   "metadata": {},
   "outputs": [],
   "source": [
    "# Load graph-MNIST dataset\n",
    "mnist = sp.datasets.mnist.MNIST(p_flip=0.0, k=8)"
   ]
  },
  {
   "cell_type": "code",
   "execution_count": 4,
   "metadata": {},
   "outputs": [],
   "source": [
    "# Prepare Ahat\n",
    "A = mnist.a.todense()\n",
    "A_tilde = A + np.eye(N=A.shape[0])\n",
    "D_tilde = np.diagflat(A_tilde.sum(axis=1))\n",
    "D_rt = sc.linalg.fractional_matrix_power(D_tilde, -1/2)\n",
    "Ahat = D_rt @ A_tilde @ D_rt\n",
    "Ahat = np.array(Ahat, dtype='float32')"
   ]
  },
  {
   "cell_type": "code",
   "execution_count": 5,
   "metadata": {},
   "outputs": [],
   "source": [
    "# Prepare dataset\n",
    "train_size = 4000\n",
    "val_size = 2000\n",
    "test_size = 1000\n",
    "batch_size = 32\n",
    "\n",
    "# Define training, validation and test_data\n",
    "x_train = np.array([mnist[i].x for i in range(0, train_size)], dtype='float32')\n",
    "y_train = np.array([mnist[i].y for i in range(0, train_size)], dtype='float32')\n",
    "\n",
    "x_val = np.array([mnist[i].x for i in range(train_size, train_size+val_size)], dtype='float32')\n",
    "y_val = np.array([mnist[i].y for i in range(train_size, train_size+val_size)], dtype='float32')\n",
    "\n",
    "x_test = np.array([mnist[i].x for i in range(train_size+val_size, train_size+val_size+test_size)], dtype='float32')\n",
    "y_test = np.array([mnist[i].y for i in range(train_size+val_size, train_size+val_size+test_size)], dtype='float32')\n",
    "\n",
    "# (x_train, y_train), (x_test, y_test) = mnist.load_data()\n",
    "# x_train, x_test = x_train / 255.0, x_test / 255.0\n",
    "\n",
    "# # Add a channels dimension\n",
    "# x_train = x_train[..., tf.newaxis].astype(\"float32\")\n",
    "# x_test = x_test[..., tf.newaxis].astype(\"float32\")\n",
    "\n",
    "# Add data formatting and preparation here\n",
    "train_ds = tf.data.Dataset.from_tensor_slices(\n",
    "    (x_train, y_train)).shuffle(10000).batch(batch_size)\n",
    "\n",
    "val_ds = test_ds = tf.data.Dataset.from_tensor_slices((x_val, y_val)).batch(batch_size)\n",
    "test_ds = tf.data.Dataset.from_tensor_slices((x_test, y_test)).batch(batch_size)"
   ]
  },
  {
   "cell_type": "code",
   "execution_count": 19,
   "metadata": {},
   "outputs": [],
   "source": [
    "class GCNLayer(tf.keras.layers.Layer):\n",
    "    def __init__(self, conv_size, Ahat, act=tf.nn.relu):\n",
    "        super(GCNLayer, self).__init__()\n",
    "        self.Ahat = Ahat\n",
    "        self.F = conv_size # Output is NxF - decide N at build time\n",
    "        self.act = tf.nn.relu\n",
    "    \n",
    "    def build(self, input_shape):\n",
    "        self.N = input_shape[0]\n",
    "        self.C = input_shape[2]\n",
    "        # Define the weight matrix for this layer - of size CxF\n",
    "        self.kernel = self.add_weight('kernel', \n",
    "                                     shape=[self.C, self.F],\n",
    "                                     dtype='float32')\n",
    "        \n",
    "    def call(self, X):\n",
    "        # Perform forward pass, calculates Z\n",
    "        b = tf.matmul(self.Ahat, tf.matmul(X, self.kernel))\n",
    "        Z = self.act(b)\n",
    "        return Z\n",
    "    \n",
    "class GCNModel(Model):\n",
    "    def __init__(self, Ahat):\n",
    "        super(GCNModel, self).__init__()\n",
    "        self.Ahat = Ahat\n",
    "        self.gcn1 = GCNLayer(32, self.Ahat, act=tf.nn.relu)\n",
    "        self.gcn2 = GCNLayer(64, self.Ahat, act=tf.nn.relu)\n",
    "        self.add = tf.keras.layers.Add()\n",
    "        self.d1 = tf.keras.layers.Dense(512, activation='relu')\n",
    "        self.d2 = tf.keras.layers.Dense(28)\n",
    "\n",
    "    def call(self, X):\n",
    "        N = X.shape[1]\n",
    "        # 1. GCN layers\n",
    "        O1 = self.gcn1(X)\n",
    "        O2 = self.gcn2(O1)\n",
    "        # 2. Aggegate nodal values by summing over nodes => NxF -> global vector of length F\n",
    "        # Note that this is invariant under permutation of the graph!\n",
    "        split_O = tf.split(O2, num_or_size_splits=N, axis=1)\n",
    "        x = tf.keras.layers.Add()(split_O)\n",
    "#         x = tf.math.reduce_sum(O2, axis=1)\n",
    "        # 3. Apply FCNN for classification\n",
    "        x = self.d1(x)\n",
    "        return self.d2(x)\n",
    "\n",
    "# Create an instance of the model and define loss etc.\n",
    "# Update these with real data!\n",
    "model = GCNModel(Ahat)"
   ]
  },
  {
   "cell_type": "code",
   "execution_count": 20,
   "metadata": {},
   "outputs": [],
   "source": [
    "# Loss & metrics\n",
    "loss_object = tf.keras.losses.SparseCategoricalCrossentropy(from_logits=True)\n",
    "optimizer = tf.keras.optimizers.Adam()\n",
    "\n",
    "train_loss = tf.keras.metrics.Mean(name='train_loss')\n",
    "train_accuracy = tf.keras.metrics.SparseCategoricalAccuracy(name='train_accuracy')\n",
    "\n",
    "test_loss = tf.keras.metrics.Mean(name='test_loss')\n",
    "test_accuracy = tf.keras.metrics.SparseCategoricalAccuracy(name='test_accuracy')"
   ]
  },
  {
   "cell_type": "code",
   "execution_count": 21,
   "metadata": {},
   "outputs": [],
   "source": [
    "# Training using GradientTape\n",
    "@tf.function\n",
    "def train_step(graphs, labels):\n",
    "    with tf.GradientTape() as tape:\n",
    "        predictions = model(graphs)\n",
    "        loss = loss_object(labels, predictions)\n",
    "    gradients = tape.gradient(loss, model.trainable_variables)\n",
    "    optimizer.apply_gradients(zip(gradients, model.trainable_variables))\n",
    "    \n",
    "    train_loss(loss)\n",
    "    train_accuracy(labels, predictions)\n",
    "\n",
    "@tf.function\n",
    "def test_step(graphs, labels):\n",
    "    predictions = model(graphs)\n",
    "    t_loss = loss_object(labels, predictions)\n",
    "    \n",
    "    test_loss(t_loss)\n",
    "    test_accuracy(labels, predictions)"
   ]
  },
  {
   "cell_type": "code",
   "execution_count": 22,
   "metadata": {},
   "outputs": [
    {
     "name": "stdout",
     "output_type": "stream",
     "text": [
      "Epoch 1, Loss: 2.506, Accuracy: 0.097, Test Loss: 2.342, Test Accuracy: 0.100, Epoch time: 13.69 s\n",
      "\n",
      "\n",
      "Epoch 2, Loss: 2.345, Accuracy: 0.103, Test Loss: 2.411, Test Accuracy: 0.100, Epoch time: 11.06 s\n",
      "\n",
      "\n",
      "Epoch 3, Loss: 2.298, Accuracy: 0.096, Test Loss: 2.291, Test Accuracy: 0.100, Epoch time: 11.06 s\n",
      "\n",
      "\n",
      "Epoch 4, Loss: 2.242, Accuracy: 0.104, Test Loss: 2.249, Test Accuracy: 0.098, Epoch time: 11.04 s\n",
      "\n",
      "\n",
      "Epoch 5, Loss: 2.208, Accuracy: 0.104, Test Loss: 2.193, Test Accuracy: 0.107, Epoch time: 11.42 s\n",
      "\n",
      "\n",
      "Total time: 58.27 s\n"
     ]
    }
   ],
   "source": [
    "EPOCHS = 5\n",
    "\n",
    "start = time.time()\n",
    "\n",
    "tr_loss = []\n",
    "tr_acc = []\n",
    "\n",
    "te_loss = []\n",
    "te_acc = []\n",
    "\n",
    "for epoch in range(EPOCHS):\n",
    "    epoch_start = time.time()\n",
    "    # Reset the metrics at the start of the next epoch\n",
    "    train_loss.reset_states()\n",
    "    train_accuracy.reset_states()\n",
    "    test_loss.reset_states()\n",
    "    test_accuracy.reset_states()\n",
    "    \n",
    "    for graphs, labels in train_ds:\n",
    "        train_step(graphs, labels)\n",
    "    \n",
    "    for test_graphs, test_labels in test_ds:\n",
    "        test_step(test_graphs, test_labels)\n",
    "        \n",
    "        \n",
    "    tr_loss.append(train_loss.result())\n",
    "    tr_acc.append(train_accuracy.result())\n",
    "    te_loss.append(test_loss.result())\n",
    "    te_acc.append(test_accuracy.result())\n",
    "    \n",
    "    epoch_end = time.time()\n",
    "    print(\n",
    "        f'Epoch {epoch + 1}, '\n",
    "        f'Loss: {train_loss.result():.3f}, '\n",
    "        f'Accuracy: {train_accuracy.result():.3f}, '\n",
    "        f'Test Loss: {test_loss.result():.3f}, '\n",
    "        f'Test Accuracy: {test_accuracy.result():.3f}, '\n",
    "        f'Epoch time: {(epoch_end - epoch_start):.2f} s'\n",
    "    )\n",
    "    print('\\n')\n",
    "    \n",
    "end = time.time()\n",
    "print(f'Total time: {(end - start):.2f} s')"
   ]
  },
  {
   "cell_type": "code",
   "execution_count": 23,
   "metadata": {},
   "outputs": [
    {
     "data": {
      "image/png": "[encoded data removed]",
      "text/plain": [
       "<Figure size 864x432 with 2 Axes>"
      ]
     },
     "metadata": {
      "needs_background": "light"
     },
     "output_type": "display_data"
    }
   ],
   "source": [
    "fig, ax = plt.subplots(1,2, figsize=(12,6))\n",
    "ax[0].plot(tr_loss, linewidth=2, c = 'b', label='training loss')\n",
    "ax[0].plot(te_loss, linewidth=2, c = 'r', label='test loss')\n",
    "\n",
    "ax[1].plot(tr_acc, linewidth=2, c = 'b', label='training acc')\n",
    "ax[1].plot(te_acc, linewidth=2, c = 'r', label='test acc')\n",
    "\n",
    "ax[0].set_ylabel('Loss')\n",
    "ax[1].set_ylabel('Acc')\n",
    "ax[0].set_xlabel('Epoch')\n",
    "ax[1].set_xlabel('Epoch')\n",
    "\n",
    "ax[0].legend(loc='best')\n",
    "ax[1].legend(loc='best')\n",
    "\n",
    "plt.tight_layout()\n"
   ]
  },
  {
   "cell_type": "code",
   "execution_count": null,
   "metadata": {},
   "outputs": [],
   "source": []
  }
 ],
 "metadata": {
  "kernelspec": {
   "display_name": "Python 3",
   "language": "python",
   "name": "python3"
  },
  "language_info": {
   "codemirror_mode": {
    "name": "ipython",
    "version": 3
   },
   "file_extension": ".py",
   "mimetype": "text/x-python",
   "name": "python",
   "nbconvert_exporter": "python",
   "pygments_lexer": "ipython3",
   "version": "3.8.6"
  }
 },
 "nbformat": 4,
 "nbformat_minor": 4
}
