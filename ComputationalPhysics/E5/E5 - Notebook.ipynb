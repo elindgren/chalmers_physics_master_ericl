{
 "cells": [
  {
   "cell_type": "code",
   "execution_count": 3,
   "metadata": {},
   "outputs": [],
   "source": [
    "# Imports\n",
    "import numpy as np\n",
    "import matplotlib.pyplot as plt\n",
    "\n",
    "plt.rc('font', size=14)          # controls default text sizes\n",
    "plt.rc('axes', titlesize=14)     # fontsize of the axes title\n",
    "plt.rc('axes', labelsize=14)    # fontsize of the x and y labels\n",
    "plt.rc('xtick', labelsize=14)    # fontsize of the tick labels\n",
    "plt.rc('ytick', labelsize=14)    # fontsize of the tick labels\n",
    "plt.rc('legend', fontsize=14)    # legend fontsize"
   ]
  },
  {
   "cell_type": "markdown",
   "metadata": {},
   "source": [
    "# Task 1"
   ]
  },
  {
   "cell_type": "markdown",
   "metadata": {},
   "source": [
    "Solve the Poisson equation on the grid:\n",
    "\n",
    "$$ \\frac{d^2}{dr^2}U(r) = - 4 \\pi r n_s(r) $$\n",
    "where $n_s(r) = |\\phi(r)|^2$ is the density and $U(r) = r V_H(r)$. The equation can then be written as:\n",
    "\n",
    "$$ \\frac{d^2}{dr^2}U(r) = - 4 \\pi rn_s(r) $$\n",
    "\n",
    "Space is discretized as \n",
    "\n",
    "$$ r_i = 0+ih \\hspace{10px} i=0,...,n, \\hspace{10px} h = r_{max}/n $$\n",
    "which leads to \n",
    "$$ U''(r_i) = \\frac{U(r_{i+1})-2U(r_i) + U(r_{i-1})}{h^2}$$\n",
    "\n",
    "Thus our equation becomes:\n",
    "\n",
    "$$ U(r_{i+1})-2U(r_i) + U(r_{i-1})  = - 4 \\pi h^2 |\\phi(r_i)|^2 r_i $$\n",
    "\n",
    "Writing this on matrix form with the vectors for U and the density times r, $\\eta$:\n",
    "\n",
    "\\begin{equation}\n",
    "    U = \n",
    "    \\begin{bmatrix}\n",
    "        U(r_0) \\\\\n",
    "        U(r_1) \\\\\n",
    "        U(r_2) \\\\\n",
    "        ... \\\\\n",
    "    \\end{bmatrix}\n",
    "\\end{equation}\n",
    "\n",
    "\\begin{equation}\n",
    "    \\eta = \n",
    "    \\begin{bmatrix}\n",
    "        \\eta(r_0) = - 4 \\pi h^2 |\\phi(r_0)|^2 r_0 \\\\\n",
    "        \\eta(r_1) \\\\\n",
    "        \\eta(r_2) \\\\\n",
    "        ... \\\\\n",
    "    \\end{bmatrix}\n",
    "\\end{equation}\n",
    "\n",
    "The $U$ vectors is of length $N+2$ and $\\eta$ is of length $N$, with the two endterms encoding are boundary conditions: U(0)=0, U(inf)=1. phi can be evaluated as a function. The final matrix is thus Nx(N+2) for our N ordinary equations. The first few rows are:\n",
    "\n",
    "\\begin{equation}\n",
    "    A' = \n",
    "    \\begin{bmatrix}\n",
    "        1 & -2 & 1 & 0 & 0 & 0 \\\\\n",
    "        0 & 1 & -2 & 1 & 0 & 0 \\\\\n",
    "        0 & 0 & 1 & -2 & 1 & 0 \\\\\n",
    "        ... \\\\\n",
    "    \\end{bmatrix}\n",
    "\\end{equation}\n",
    "\n",
    "Note that it is not (N+2)x(N+2) since the two equations centered around our endpoints doesn't exist. We rewrite this as an NxN matrix by moving in the i=0 and i=N+1 terms. We then get the NxN matrix A':\n",
    "\n",
    "\\begin{equation}\n",
    "    A = \n",
    "    \\begin{bmatrix}\n",
    "        -2 & 1 & 0 & 0 & 0 \\\\\n",
    "         1 & -2 & 1 & 0 & 0 \\\\\n",
    "         0 & 1 & -2 & 1 & 0 \\\\\n",
    "        ... \\\\\n",
    "    \\end{bmatrix}\n",
    "\\end{equation}\n",
    "\n",
    "and \n",
    "\n",
    "\\begin{equation}\n",
    "    \\eta = \n",
    "    \\begin{bmatrix}\n",
    "        \\eta(r_0) = - 4 \\pi h^2 |\\phi(r_0)|^2 r_0 - 0\\\\\n",
    "        \\eta(r_1) \\\\\n",
    "        \\eta(r_2) \\\\\n",
    "        ... \\\\\n",
    "    \\end{bmatrix}\n",
    "\\end{equation}"
   ]
  },
  {
   "cell_type": "code",
   "execution_count": 4,
   "metadata": {},
   "outputs": [
    {
     "data": {
      "text/plain": [
       "<matplotlib.legend.Legend at 0x7fcf1a812750>"
      ]
     },
     "execution_count": 4,
     "metadata": {},
     "output_type": "execute_result"
    },
    {
     "data": {
      "image/png": "[encoded data removed]",
      "text/plain": [
       "<Figure size 576x432 with 1 Axes>"
      ]
     },
     "metadata": {
      "needs_background": "light"
     },
     "output_type": "display_data"
    }
   ],
   "source": [
    "def phi_sq(r):\n",
    "    '''Electron ground state function'''\n",
    "    return 1/np.pi * np.exp(-2*r)\n",
    "\n",
    "def Hart_pot(r):\n",
    "    return 1/r - (1+1/r)*np.exp(-2*r)\n",
    "\n",
    "\n",
    "N = 1000\n",
    "r_inf = 10\n",
    "h = r_inf/(N+2)\n",
    "r = np.array([h*i for i in range(1,N+1)])\n",
    "eta = -4*np.pi*r*h**2*phi_sq(r)\n",
    "# Boundary conditions\n",
    "eta[0] -= 0\n",
    "eta[-1] -= 1\n",
    "\n",
    "A = np.zeros((N,N))\n",
    "for i in range(N):\n",
    "    for j in range(N):\n",
    "        if(i==j):\n",
    "            A[i,j] = -2\n",
    "        elif(np.abs(i-j) == 1):\n",
    "            A[i,j] = 1\n",
    "        else:\n",
    "            A[i,j] = 0\n",
    "\n",
    "# Solve this mf\n",
    "U = np.linalg.solve(A, eta)\n",
    "\n",
    "# Print solution\n",
    "fig, ax = plt.subplots(figsize=(8,6))\n",
    "\n",
    "ax.plot(r, U/r, linewidth=3, c='k', label=r'V_H')\n",
    "ax.plot(r, Hart_pot(r), c='m', linewidth=5, linestyle=':', alpha=1, label='Hartree potential')\n",
    "ax.grid()\n",
    "ax.legend(loc='best')"
   ]
  },
  {
   "cell_type": "markdown",
   "metadata": {},
   "source": [
    "Implement the Schrödinger equation in a similar manner as the Poission equation above. We set V_H = 0. We discretize the derivates in f(r), which yields: \n",
    "\n",
    "$$ -\\frac{1}{2} \\frac{f(r_{i-1}) - 2f(r_{i}) + f(r_{i+1})}{h^2} - \\frac{2}{r_i}f(r_i) + V_H(r_i)f(r_i) = \\epsilon f(r_i) $$\n",
    "\n",
    "$$ -\\frac{1}{2} (f(r_{i-1}) - 2f(r_{i}) + f(r_{i+1})) = \\epsilon f(r_i) + \\frac{2}{r_i}f(r_i) - V_H(r_i)f(r_i) $$\n",
    "\n",
    "$$ f(r_{i-1}) - 2f(r_{i}) + f(r_{i+1}) = -2 \\left( \\epsilon + \\frac{2}{r_i} - V_H(r_i) \\right)f(r_i)$$ \n",
    "\n",
    "Writing this on reduced matrix form as in task 1, we obtain the eigenvalue equation:\n",
    "\n",
    "$$ Af = \\lambda f$$\n",
    "\n",
    "with \n",
    "\n",
    "\\begin{equation}\n",
    "    A = \n",
    "    \\begin{bmatrix}\n",
    "        -2 & 1 & 0 & 0 & 0 \\\\\n",
    "         1 & -2 & 1 & 0 & 0 \\\\\n",
    "         0 & 1 & -2 & 1 & 0 \\\\\n",
    "        ... \\\\\n",
    "    \\end{bmatrix}\n",
    "\\end{equation}\n",
    "\n",
    "and\n",
    "\n",
    "\\begin{equation}\n",
    "    \\lambda = \n",
    "    \\begin{bmatrix}\n",
    "        \\lambda(r_0) = -2 \\left( \\epsilon + \\frac{2}{r_0} - V_H(r_0) \\right) - 0\\\\\n",
    "        \\lambda(r_1) \\\\\n",
    "        \\lambda(r_2) \\\\\n",
    "        ... \\\\\n",
    "        \\lambda(r_{N+1}) = -2 \\left( \\epsilon + \\frac{2}{r_{N+1}} - V_H(r_{N+1}) \\right) - 0)\n",
    "    \\end{bmatrix}\n",
    "\\end{equation}"
   ]
  },
  {
   "cell_type": "code",
   "execution_count": null,
   "metadata": {},
   "outputs": [],
   "source": []
  }
 ],
 "metadata": {
  "kernelspec": {
   "display_name": "Python 3",
   "language": "python",
   "name": "python3"
  },
  "language_info": {
   "codemirror_mode": {
    "name": "ipython",
    "version": 3
   },
   "file_extension": ".py",
   "mimetype": "text/x-python",
   "name": "python",
   "nbconvert_exporter": "python",
   "pygments_lexer": "ipython3",
   "version": "3.7.5"
  }
 },
 "nbformat": 4,
 "nbformat_minor": 2
}
