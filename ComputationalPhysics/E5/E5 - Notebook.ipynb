{
 "cells": [
  {
   "cell_type": "code",
   "execution_count": 2,
   "metadata": {},
   "outputs": [],
   "source": [
    "# Imports\n",
    "import numpy as np\n",
    "import matplotlib.pyplot as plt\n",
    "from scipy import linalg\n",
    "from tqdm import tqdm_notebook\n",
    "\n",
    "plt.rc('font', size=18)          # controls default text sizes\n",
    "plt.rc('axes', titlesize=18)     # fontsize of the axes title\n",
    "plt.rc('axes', labelsize=18)    # fontsize of the x and y labels\n",
    "plt.rc('xtick', labelsize=18)    # fontsize of the tick labels\n",
    "plt.rc('ytick', labelsize=18)    # fontsize of the tick labels\n",
    "plt.rc('legend', fontsize=18)    # legend fontsize"
   ]
  },
  {
   "cell_type": "markdown",
   "metadata": {},
   "source": [
    "# Task 1"
   ]
  },
  {
   "cell_type": "markdown",
   "metadata": {},
   "source": [
    "Solve the Poisson equation on the grid:\n",
    "\n",
    "$$ \\frac{d^2}{dr^2}U(r) = - 4 \\pi r n_s(r) $$\n",
    "where $n_s(r) = |\\phi(r)|^2$ is the density and $U(r) = r V_H(r)$. The equation can then be written as:\n",
    "\n",
    "$$ \\frac{d^2}{dr^2}U(r) = - 4 \\pi rn_s(r) $$\n",
    "\n",
    "Space is discretized as \n",
    "\n",
    "$$ r_i = 0+ih \\hspace{10px} i=0,...,n, \\hspace{10px} h = r_{max}/n $$\n",
    "which leads to \n",
    "$$ U''(r_i) = \\frac{U(r_{i+1})-2U(r_i) + U(r_{i-1})}{h^2}$$\n",
    "\n",
    "Thus our equation becomes:\n",
    "\n",
    "$$ U(r_{i+1})-2U(r_i) + U(r_{i-1})  = - 4 \\pi h^2 |\\phi(r_i)|^2 r_i $$\n",
    "\n",
    "Writing this on matrix form with the vectors for U and the density times r, $\\eta$:\n",
    "\n",
    "\\begin{equation}\n",
    "    U = \n",
    "    \\begin{bmatrix}\n",
    "        U(r_0) \\\\\n",
    "        U(r_1) \\\\\n",
    "        U(r_2) \\\\\n",
    "        ... \\\\\n",
    "    \\end{bmatrix}\n",
    "\\end{equation}\n",
    "\n",
    "\\begin{equation}\n",
    "    \\eta = \n",
    "    \\begin{bmatrix}\n",
    "        \\eta(r_0) = - 4 \\pi h^2 |\\phi(r_0)|^2 r_0 \\\\\n",
    "        \\eta(r_1) \\\\\n",
    "        \\eta(r_2) \\\\\n",
    "        ... \\\\\n",
    "    \\end{bmatrix}\n",
    "\\end{equation}\n",
    "\n",
    "The $U$ vectors is of length $N+2$ and $\\eta$ is of length $N$, with the two endterms encoding are boundary conditions: U(0)=0, U(inf)=1. phi can be evaluated as a function. The final matrix is thus Nx(N+2) for our N ordinary equations. The first few rows are:\n",
    "\n",
    "\\begin{equation}\n",
    "    A' = \n",
    "    \\begin{bmatrix}\n",
    "        1 & -2 & 1 & 0 & 0 & 0 \\\\\n",
    "        0 & 1 & -2 & 1 & 0 & 0 \\\\\n",
    "        0 & 0 & 1 & -2 & 1 & 0 \\\\\n",
    "        ... \\\\\n",
    "    \\end{bmatrix}\n",
    "\\end{equation}\n",
    "\n",
    "Note that it is not (N+2)x(N+2) since the two equations centered around our endpoints doesn't exist. We rewrite this as an NxN matrix by moving in the i=0 and i=N+1 terms. We then get the NxN matrix A':\n",
    "\n",
    "\\begin{equation}\n",
    "    A = \n",
    "    \\begin{bmatrix}\n",
    "        -2 & 1 & 0 & 0 & 0 \\\\\n",
    "         1 & -2 & 1 & 0 & 0 \\\\\n",
    "         0 & 1 & -2 & 1 & 0 \\\\\n",
    "        ... \\\\\n",
    "    \\end{bmatrix}\n",
    "\\end{equation}\n",
    "\n",
    "and \n",
    "\n",
    "\\begin{equation}\n",
    "    \\eta = \n",
    "    \\begin{bmatrix}\n",
    "        \\eta(r_0) = - 4 \\pi h^2 |\\phi(r_0)|^2 r_0 - 0\\\\\n",
    "        \\eta(r_1) \\\\\n",
    "        \\eta(r_2) \\\\\n",
    "        ... \\\\\n",
    "    \\end{bmatrix}\n",
    "\\end{equation}"
   ]
  },
  {
   "cell_type": "code",
   "execution_count": 3,
   "metadata": {
    "scrolled": false
   },
   "outputs": [
    {
     "data": {
      "text/plain": [
       "<matplotlib.legend.Legend at 0x7f2682e8e910>"
      ]
     },
     "execution_count": 3,
     "metadata": {},
     "output_type": "execute_result"
    },
    {
     "data": {
      "image/png": "[encoded data removed]",
      "text/plain": [
       "<Figure size 576x432 with 1 Axes>"
      ]
     },
     "metadata": {
      "needs_background": "light"
     },
     "output_type": "display_data"
    }
   ],
   "source": [
    "def phi_sq(r):\n",
    "    '''Electron ground state function'''\n",
    "    return 1/np.pi * np.exp(-2*r)\n",
    "\n",
    "def Hart_pot(r):\n",
    "    return 1/r - (1+1/r)*np.exp(-2*r)\n",
    "\n",
    "\n",
    "N = 1000\n",
    "r_inf = 10\n",
    "h = r_inf/(N+2)\n",
    "r = np.array([h*i for i in range(1,N+1)])\n",
    "eta = -4*np.pi*r*h**2*phi_sq(r)\n",
    "# Boundary conditions\n",
    "eta[0] -= 0\n",
    "eta[-1] -= 1\n",
    "\n",
    "A = np.zeros((N,N))\n",
    "for i in range(N):\n",
    "    for j in range(N):\n",
    "        if(i==j):\n",
    "            A[i,j] = -2\n",
    "        elif(np.abs(i-j) == 1):\n",
    "            A[i,j] = 1\n",
    "        else:\n",
    "            A[i,j] = 0\n",
    "\n",
    "# Solve this mf\n",
    "U = np.linalg.solve(A, eta)\n",
    "\n",
    "# Print solution\n",
    "fig, ax = plt.subplots(figsize=(8,6))\n",
    "\n",
    "ax.plot(r, U/r, linewidth=3, c='k', label=r'$V_H$')\n",
    "ax.plot(r, Hart_pot(r), c='m', linewidth=5, linestyle=':', alpha=1, label='Hartree potential')\n",
    "ax.grid()\n",
    "ax.legend(loc='best')"
   ]
  },
  {
   "cell_type": "markdown",
   "metadata": {},
   "source": [
    "# Task 2"
   ]
  },
  {
   "cell_type": "markdown",
   "metadata": {},
   "source": [
    "Implement the Schrödinger equation in a similar manner as the Poission equation above. We set V_H = 0. We discretize the derivates in f(r), which yields: \n",
    "\n",
    "$$ -\\frac{1}{2} \\frac{f(r_{i-1}) - 2f(r_{i}) + f(r_{i+1})}{h^2} - \\frac{2}{r_i}f(r_i) + V_H(r_i)f(r_i) = \\epsilon f(r_i) $$\n",
    "$$ f(r_{i-1}) - 2f(r_{i}) + f(r_{i+1}) + \\frac{4h^2}{r_i}f(r_i) - 2h^2V_H(r_i)f(r_i) = -2 h^2 \\epsilon f(r_i) $$\n",
    "\n",
    "Here we can't write the matrix on a reduced form as in task 1. We obtain the matrix equation:\n",
    "\n",
    "$$ B'f = \\lambda \\tilde{f}$$\n",
    "\n",
    "with B' being the (N)x(N+2) matrix.\n",
    "\n",
    "\\begin{equation}\n",
    "    B' = \n",
    "    \\begin{bmatrix}\n",
    "         1 & -2 + \\frac{4h^2}{r_0} - 2h^2 V_H(r_0) & 1 & 0 & 0 \\\\\n",
    "         0 & 1 & -2 + \\frac{4h^2}{r_1} - 2h^2 V_H(r_1) & 1 & 0 \\\\\n",
    "         0 & 0 & 1 & -2 + \\frac{4h^2}{r_2} - 2h^2 V_H(r_2) & 1 \\\\\n",
    "        ... \\\\\n",
    "    \\end{bmatrix}\n",
    "\\end{equation}\n",
    "\n",
    "and\n",
    "\n",
    "\\begin{equation}\n",
    "    \\lambda = -2 h^2 \\epsilon\n",
    "\\end{equation}\n",
    "\n",
    "$f(r)$ is now a vector of length $N+2$, and \\tilde{f}. But since the boundary conditions are $f(0)=0$ and $f(N+1) = 0$, we can implement these boundary conditions in a similar fashion as in task A. Then we can write:\n",
    "\n",
    "$$ f(0) \\hspace{5px} -2 f(1) \\hspace{5px} + f(2) = \\lambda f(1) == -2 f(1) \\hspace{5px} + f(2) = \\lambda f(1)-0$$ \n",
    "\n",
    "Meaning we can write our matrix as the (NxN) matrix B:\n",
    "\n",
    "\\begin{equation}\n",
    "    B = \n",
    "    \\begin{bmatrix}\n",
    "         -2 + \\frac{4h^2}{r_0} - 2h^2 V_H(r_0) & 1 & 0 & 0 \\\\\n",
    "         1 & -2 + \\frac{4h^2}{r_1} - 2h^2 V_H(r_1) & 1 & 0 \\\\\n",
    "         0 & 1 & -2 + \\frac{4h^2}{r_2} - 2h^2 V_H(r_2) & 1 \\\\\n",
    "        ... \\\\\n",
    "    \\end{bmatrix}\n",
    "\\end{equation}\n",
    "\n",
    "and we obtain the eigenvalue equation:\n",
    "\n",
    "$$ B \\tilde{f} = \\lambda \\tilde{f}$$\n",
    "\n",
    "For the case of the hydrogen atom, we set V_H = 0 and potential 1/r instead of 2/r. So we get + 2h^2/r."
   ]
  },
  {
   "cell_type": "code",
   "execution_count": 13,
   "metadata": {},
   "outputs": [
    {
     "name": "stderr",
     "output_type": "stream",
     "text": [
      "/home/eric/miniconda3/envs/physics/lib/python3.7/site-packages/ipykernel_launcher.py:7: TqdmDeprecationWarning: This function will be removed in tqdm==5.0.0\n",
      "Please use `tqdm.notebook.tqdm` instead of `tqdm.tqdm_notebook`\n",
      "  import sys\n"
     ]
    },
    {
     "data": {
      "application/vnd.jupyter.widget-view+json": {
       "model_id": "376c5508f8b149c4bb56ac6444ec7894",
       "version_major": 2,
       "version_minor": 0
      },
      "text/plain": [
       "HBox(children=(IntProgress(value=0, max=1000), HTML(value='')))"
      ]
     },
     "metadata": {},
     "output_type": "display_data"
    },
    {
     "name": "stdout",
     "output_type": "stream",
     "text": [
      "\n"
     ]
    }
   ],
   "source": [
    "def wavef(r):\n",
    "    return 1/np.sqrt(np.pi)*np.exp(-r)\n",
    "\n",
    "# Define matrix\n",
    "B = np.zeros((N,N))\n",
    "\n",
    "for i in tqdm_notebook(range(N)):\n",
    "    for j in range(N):\n",
    "        if(i==j):\n",
    "            B[i,j] = 1/h**2 - 1/r[i]\n",
    "        elif(np.abs(i-j) == 1):\n",
    "            B[i,j] = -1/(2*h**2)\n",
    "        else:\n",
    "            B[i,j] = 0\n",
    "\n",
    "# display(B)"
   ]
  },
  {
   "cell_type": "code",
   "execution_count": 14,
   "metadata": {},
   "outputs": [],
   "source": [
    "# Calculate the eigenvalues\n",
    "eigs, eigv = np.linalg.eigh(B)\n",
    "idx = np.argsort(eigs)\n",
    "\n",
    "eigs = eigs[idx]\n",
    "eigv = eigv[:,idx]"
   ]
  },
  {
   "cell_type": "code",
   "execution_count": 19,
   "metadata": {
    "scrolled": false
   },
   "outputs": [
    {
     "name": "stdout",
     "output_type": "stream",
     "text": [
      "-0.49998680028715026\n",
      "0.0015570066622684034\n",
      "0.15601487108459208\n",
      "100.20180058657807\n"
     ]
    },
    {
     "data": {
      "text/plain": [
       "[<matplotlib.lines.Line2D at 0x7f26828ec810>]"
      ]
     },
     "execution_count": 19,
     "metadata": {},
     "output_type": "execute_result"
    },
    {
     "data": {
      "image/png": "[encoded data removed]",
      "text/plain": [
       "<Figure size 576x432 with 1 Axes>"
      ]
     },
     "metadata": {
      "needs_background": "light"
     },
     "output_type": "display_data"
    }
   ],
   "source": [
    "# fig, ax = plt.subplots(figsize=(8,6))\n",
    "# ax.plot(eigs, linewidth=0, marker='*')\n",
    "\n",
    "i_e = 0\n",
    "print(eigs[i_e])\n",
    "\n",
    "fig, ax = plt.subplots(figsize=(8,6))\n",
    "\n",
    "wav = (eigv[:,i_e]/( np.sqrt(4*np.pi)*r) )**2\n",
    "norm_wav = wav/np.trapz(wav, r)\n",
    "wav_t = wavef(r)**2\n",
    "print(np.trapz(wav,r))\n",
    "print(np.trapz(wav_t,r))\n",
    "print(np.trapz(wav_t,r)/np.trapz(wav,r))\n",
    "\n",
    "ax.plot(r, norm_wav, c='k', label=r'$Eigenfunction$')\n",
    "ax.plot(r, wav_t, c='m', linewidth=5, linestyle=':', alpha=1, label='Hydrogen 1s')\n",
    "# ax.set_xlim(0,0.2)\n",
    "# ax.set_ylim(0,0.5)"
   ]
  },
  {
   "cell_type": "markdown",
   "metadata": {},
   "source": [
    "# Task 3"
   ]
  },
  {
   "cell_type": "markdown",
   "metadata": {},
   "source": [
    "Now do the self-consistency iteration. We can reuse the matrix, but we have to update the matrix B for each iteration."
   ]
  },
  {
   "cell_type": "code",
   "execution_count": null,
   "metadata": {},
   "outputs": [],
   "source": [
    "def initial_trial_wave(-r):\n",
    "    '''Electron ground state wavefunction - squared!'''\n",
    "    return 1/np.pi * np.exp(-2*r)\n",
    "    "
   ]
  }
 ],
 "metadata": {
  "kernelspec": {
   "display_name": "Python 3",
   "language": "python",
   "name": "python3"
  },
  "language_info": {
   "codemirror_mode": {
    "name": "ipython",
    "version": 3
   },
   "file_extension": ".py",
   "mimetype": "text/x-python",
   "name": "python",
   "nbconvert_exporter": "python",
   "pygments_lexer": "ipython3",
   "version": "3.7.5"
  }
 },
 "nbformat": 4,
 "nbformat_minor": 2
}
