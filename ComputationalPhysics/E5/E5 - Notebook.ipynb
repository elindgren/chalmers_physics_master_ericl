{
 "cells": [
  {
   "cell_type": "code",
   "execution_count": 1,
   "metadata": {},
   "outputs": [],
   "source": [
    "# Imports\n",
    "import numpy as np\n",
    "import matplotlib.pyplot as plt"
   ]
  },
  {
   "cell_type": "markdown",
   "metadata": {},
   "source": [
    "# Task 1"
   ]
  },
  {
   "cell_type": "markdown",
   "metadata": {},
   "source": [
    "Solve the Poisson equation on the grid:\n",
    "\n",
    "$$ \\frac{d^2}{dr^2}U(r) = - 4 \\pi r n_s(r) $$\n",
    "where $n_s(r) = |\\phi(r)|^2$ is the density and $U(r) = r V_H(r)$. The equation can then be written as:\n",
    "\n",
    "$$ \\frac{d^2}{dr^2}U(r) = \\frac{d^2}{dr^2}r V_H(r) = 2V_H'(r) + V_H''(r) - 4 \\pi rn_s(r) $$\n",
    "\n",
    "Space is discretized as \n",
    "\n",
    "$$ r_i = 0+ih \\hspace{10px} i=0,...,n, \\hspace{10px} h = r_{max}/n $$\n",
    "which leads to \n",
    "$$ V_H''(r_i) = \\frac{V_H(r_{i+1})-2V_H(r_i) + V_H(r_{i-1})}{h^2}, \\hspace{10px} V_H' = \\frac{V_H(r_{i+1})-V_H(r_{i-1})}{2h}$$\n",
    "\n",
    "Thus our equation becomes:\n",
    "\n",
    "$$ \\frac{V_H(r_{i+1})-2V_H(r_i) + V_H(r_{i-1})}{h^2} + \\frac{V_H(r_{i+1})-V_H(r_{i-1})}{h}  = - 4 \\pi r_i|\\phi(r_i)|^2 \\rightarrow $$\n",
    "$$ U(r_{i+1})-2U(r_i) + U(r_{i-1}) = - 4 \\pi h^2 r_i |\\phi(r_i)|^2 $$"
   ]
  },
  {
   "cell_type": "code",
   "execution_count": null,
   "metadata": {},
   "outputs": [],
   "source": []
  }
 ],
 "metadata": {
  "kernelspec": {
   "display_name": "Python 3",
   "language": "python",
   "name": "python3"
  },
  "language_info": {
   "codemirror_mode": {
    "name": "ipython",
    "version": 3
   },
   "file_extension": ".py",
   "mimetype": "text/x-python",
   "name": "python",
   "nbconvert_exporter": "python",
   "pygments_lexer": "ipython3",
   "version": "3.7.5"
  }
 },
 "nbformat": 4,
 "nbformat_minor": 2
}
